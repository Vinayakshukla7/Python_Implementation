{
 "cells": [
  {
   "cell_type": "code",
   "execution_count": 6,
   "metadata": {},
   "outputs": [],
   "source": [
    "#importing package\n",
    "import re \n",
    "import pdfplumber\n",
    "from collections import namedtuple\n",
    "import pandas as pd"
   ]
  },
  {
   "cell_type": "code",
   "execution_count": 7,
   "metadata": {},
   "outputs": [],
   "source": [
    "Line = namedtuple('Line', 'Date Description Charges Payment')"
   ]
  },
  {
   "cell_type": "code",
   "execution_count": 32,
   "metadata": {},
   "outputs": [
    {
     "data": {
      "text/plain": [
       "<re.Match object; span=(6, 10), match='card'>"
      ]
     },
     "execution_count": 32,
     "metadata": {},
     "output_type": "execute_result"
    }
   ],
   "source": [
    "line_re = re.compile(r'^(\\d{2}\\.\\d{2}\\.\\d{2})')         #getting to the line starting with date\n",
    "name_re = re.compile(r'card')                           #getting through the line which contain card word in it ."
   ]
  },
  {
   "cell_type": "code",
   "execution_count": 74,
   "metadata": {},
   "outputs": [],
   "source": []
  },
  {
   "cell_type": "code",
   "execution_count": 86,
   "metadata": {},
   "outputs": [],
   "source": [
    "data = []                                              #opening pdf and extracting data from it\n",
    "with pdfplumber.open(\"Multiline.pdf\") as pdf:\n",
    "    page = pdf.pages[0]\n",
    "    text = page.extract_text()"
   ]
  },
  {
   "cell_type": "code",
   "execution_count": 89,
   "metadata": {},
   "outputs": [],
   "source": [
    "    for line in text.split('\\n'):                   #Here we got to process of providing right tuple to its heading .\n",
    "        if line_re.search(line):\n",
    "            Date=line_re.search(line).group(1)\n",
    "            Dat,*Description,Charges=line.split()\n",
    "            if not name_re.search(line):\n",
    "                Description = ' '.join(Description)\n",
    "                Payment=0\n",
    "            else:\n",
    "                Description = ''.join(Description)\n",
    "                Payment=Charges\n",
    "                Charges=0\n",
    "            line_info = Line(Date,Description,Charges,Payment)\n",
    "            data.append(line_info)"
   ]
  },
  {
   "cell_type": "code",
   "execution_count": 90,
   "metadata": {},
   "outputs": [],
   "source": [
    "df = pd.DataFrame(data)                         #used pandas dataframe \n"
   ]
  },
  {
   "cell_type": "code",
   "execution_count": 83,
   "metadata": {},
   "outputs": [],
   "source": [
    "df.to_csv('Multi_lines.csv')                  #downloaded the CSV file"
   ]
  },
  {
   "cell_type": "code",
   "execution_count": null,
   "metadata": {},
   "outputs": [],
   "source": []
  }
 ],
 "metadata": {
  "kernelspec": {
   "display_name": "Python 3",
   "language": "python",
   "name": "python3"
  },
  "language_info": {
   "codemirror_mode": {
    "name": "ipython",
    "version": 3
   },
   "file_extension": ".py",
   "mimetype": "text/x-python",
   "name": "python",
   "nbconvert_exporter": "python",
   "pygments_lexer": "ipython3",
   "version": "3.8.3"
  }
 },
 "nbformat": 4,
 "nbformat_minor": 4
}
