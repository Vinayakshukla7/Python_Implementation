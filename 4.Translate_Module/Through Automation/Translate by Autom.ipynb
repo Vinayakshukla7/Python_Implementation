{
 "cells": [
  {
   "cell_type": "code",
   "execution_count": 34,
   "metadata": {},
   "outputs": [],
   "source": [
    "#importing package\n",
    "from selenium import webdriver                       \n",
    "from selenium.webdriver.support.ui import Select     \n",
    "from selenium.webdriver.common.keys import Keys\n",
    "import time \n",
    "import pandas as pd\n",
    "import pygsheets                            #allows python to read/write with the google sheets "
   ]
  },
  {
   "cell_type": "code",
   "execution_count": 35,
   "metadata": {},
   "outputs": [],
   "source": [
    "driver = webdriver.Chrome(\"chrome driver application location\")\n",
    "driver.get(\"https://www.easyhindityping.com/\")\n",
    "\n",
    "#authorization ,kind of password key which authorize to use google sheets\n",
    "gc = pygsheets.authorize(service_file='/File_Location/File_Name.json')  \n",
    "\n",
    "#pandas reading of dataset\n",
    "df = pd.read_excel(r'File_Location\\name.xlsx')\n",
    "name_list=df.values.tolist()    \n",
    "names=df.values\n",
    "\n",
    "#empty list to store hindi names\n",
    "hindi_name=[] \n",
    "\n",
    "#delays in internals\n",
    "driver.implicitly_wait(5)\n",
    "\n",
    "#get into the input field\n",
    "tyep=driver.find_element_by_xpath(\"/html/body/div[3]/div[5]/div[1]/div[2]/div[3]/div/div/textarea\")\n",
    "\n",
    "#provide words of dataset to the input field followed by spaces\n",
    "for x in name_list:\n",
    "     tyep.send_keys(x)                              \n",
    "     tyep.send_keys(' ')\n",
    "     time.sleep(1)\n",
    "    \n",
    "#remove the last blank space of the field \n",
    "tyep.send_keys(Keys.BACK_SPACE)\n",
    "\n",
    "#Extract the translated names from the input field\n",
    "text1 =driver.find_element_by_xpath(\"/html/body/div[3]/div[5]/div[1]/div[2]/div[3]/div/div/textarea\").get_property('value')\n",
    "\n",
    "#taking those names to list\n",
    "hindi_name=list(text1.split(\" \")) \n",
    "\n",
    "# Create a column                                                          \n",
    "df['English_Names']=names            \n",
    "df['Hindi_Names']=hindi_name\n",
    "\n",
    "#open the google spreadsheet (where 'Translated Names' is the name of my sheet)\n",
    "sh = gc.open('Translated Names')      \n",
    "\n",
    "#select the first sheet \n",
    "wks = sh[0]\n",
    "\n",
    "#update the first sheet with df .\n",
    "wks.set_dataframe(df,(1,1))          "
   ]
  },
  {
   "cell_type": "code",
   "execution_count": null,
   "metadata": {},
   "outputs": [],
   "source": []
  },
  {
   "cell_type": "code",
   "execution_count": null,
   "metadata": {},
   "outputs": [],
   "source": []
  }
 ],
 "metadata": {
  "kernelspec": {
   "display_name": "Python 3",
   "language": "python",
   "name": "python3"
  },
  "language_info": {
   "codemirror_mode": {
    "name": "ipython",
    "version": 3
   },
   "file_extension": ".py",
   "mimetype": "text/x-python",
   "name": "python",
   "nbconvert_exporter": "python",
   "pygments_lexer": "ipython3",
   "version": "3.8.3"
  }
 },
 "nbformat": 4,
 "nbformat_minor": 4
}
