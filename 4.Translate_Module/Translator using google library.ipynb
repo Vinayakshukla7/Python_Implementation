{
 "cells": [
  {
   "cell_type": "code",
   "execution_count": 28,
   "metadata": {},
   "outputs": [],
   "source": [
    "from google_trans_new import google_translator  #library which enable to translate words to one language to other\n",
    "import pandas as pd                             #used to represent our data and enable manupulation of its arrangement"
   ]
  },
  {
   "cell_type": "code",
   "execution_count": null,
   "metadata": {},
   "outputs": [],
   "source": [
    "df = pd.read_excel (r'Location of file \\file name.xlsx')           #to get the file \n",
    "name_list=df.values.tolist()                                #puts xlsx data into python list\n",
    "hindi_name=[]                                               \n",
    "for x in name_list:                                         #iterate through very name in list\n",
    "    translator = google_translator()                        #module of trans which contains methods to translate \n",
    "    translate_text = translator.translate(x,lang_tgt='hi') #translate is the method which takes input_sentence ,language to convert as parameter\n",
    "    hindi_name.append(translate_text)                      #add translated name to list\n",
    "\n",
    "df = pd.DataFrame(hindi_name)                                   #list converted into pandas dataframe\n",
    "df.to_csv('file1.csv')                                    #dataframe converted into CSV"
   ]
  },
  {
   "cell_type": "code",
   "execution_count": null,
   "metadata": {},
   "outputs": [],
   "source": [
    "\n",
    "    "
   ]
  },
  {
   "cell_type": "code",
   "execution_count": null,
   "metadata": {},
   "outputs": [],
   "source": []
  },
  {
   "cell_type": "code",
   "execution_count": null,
   "metadata": {},
   "outputs": [],
   "source": []
  },
  {
   "cell_type": "code",
   "execution_count": null,
   "metadata": {},
   "outputs": [],
   "source": []
  }
 ],
 "metadata": {
  "kernelspec": {
   "display_name": "Python 3",
   "language": "python",
   "name": "python3"
  },
  "language_info": {
   "codemirror_mode": {
    "name": "ipython",
    "version": 3
   },
   "file_extension": ".py",
   "mimetype": "text/x-python",
   "name": "python",
   "nbconvert_exporter": "python",
   "pygments_lexer": "ipython3",
   "version": "3.8.3"
  }
 },
 "nbformat": 4,
 "nbformat_minor": 4
}
