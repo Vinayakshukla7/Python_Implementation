{
 "cells": [
  {
   "cell_type": "code",
   "execution_count": 151,
   "metadata": {},
   "outputs": [],
   "source": [
    "import re                                                #regular expression \n",
    "import pandas as pd  "
   ]
  },
  {
   "cell_type": "code",
   "execution_count": 152,
   "metadata": {},
   "outputs": [],
   "source": [
    "lists=[('    ABC/1213456789/246','   123'),('   ABC/1213456789/246','123 '),         #lists of test cases to get into the CSV\n",
    "       ('   ABC/1213456789/246','   123'),('ABC/1213456789/246',''),\n",
    "       ('','123'),('',''),('   ABC/1213%456789/246',' ss  123')]"
   ]
  },
  {
   "cell_type": "code",
   "execution_count": 153,
   "metadata": {},
   "outputs": [],
   "source": [
    "alpha=[]                                                 #initiliazation required                                    \n",
    "num=[]\n",
    "for x in lists:\n",
    "    s1=x[0].rstrip().lstrip()\n",
    "    s1=\" \".join(s1.split())\n",
    "    alpha.append(s1)\n",
    "    \n",
    "    s2=x[1].rstrip().lstrip()\n",
    "    s2=\" \".join(s2.split())\n",
    "    num.append(s2)"
   ]
  },
  {
   "cell_type": "code",
   "execution_count": 154,
   "metadata": {},
   "outputs": [],
   "source": [
    "Alphanumeric=[]\n",
    "rex=re.compile(r'^[\\w\\s*]+[\\s*!@#$&()-`.+,/\\\"]*$')  \n",
    "\n",
    "# r'^[\\w]+[!@#$&()-`.+,/\\\"]*$' if we want that one which doesn't has space between them\n",
    "\n",
    "for name in alpha:                                             #to itterate \n",
    "    if(rex.search(name)):\n",
    "        Alphanumeric.append(name)\n",
    "    else:\n",
    "        Alphanumeric.append('NULL')\n",
    "    "
   ]
  },
  {
   "cell_type": "code",
   "execution_count": 155,
   "metadata": {},
   "outputs": [],
   "source": [
    "Numeric=[]\n",
    "rexs=re.compile(r'[a-z\\s*]*[\\s*\\d]+')  \n",
    "for name in num:                                             #to itterate \n",
    "    if(rexs.search(name)):\n",
    "        Numeric.append(name)\n",
    "    else:\n",
    "        Numeric.append('NULL')"
   ]
  },
  {
   "cell_type": "code",
   "execution_count": 156,
   "metadata": {},
   "outputs": [],
   "source": [
    "df=pd.DataFrame(list(zip(Alphanumeric,Numeric)),                     #convertion to pandas dataframe\n",
    "              columns=['Alphanumeric','Numeric'])  \n",
    "df.to_csv('Regex_file.csv') "
   ]
  },
  {
   "cell_type": "code",
   "execution_count": null,
   "metadata": {},
   "outputs": [],
   "source": []
  },
  {
   "cell_type": "code",
   "execution_count": null,
   "metadata": {},
   "outputs": [],
   "source": []
  }
 ],
 "metadata": {
  "kernelspec": {
   "display_name": "Python 3",
   "language": "python",
   "name": "python3"
  },
  "language_info": {
   "codemirror_mode": {
    "name": "ipython",
    "version": 3
   },
   "file_extension": ".py",
   "mimetype": "text/x-python",
   "name": "python",
   "nbconvert_exporter": "python",
   "pygments_lexer": "ipython3",
   "version": "3.8.3"
  }
 },
 "nbformat": 4,
 "nbformat_minor": 4
}
