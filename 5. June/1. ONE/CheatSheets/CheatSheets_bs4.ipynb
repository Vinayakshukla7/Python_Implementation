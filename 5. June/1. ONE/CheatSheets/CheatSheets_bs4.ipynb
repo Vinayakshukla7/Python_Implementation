{
 "cells": [
  {
   "cell_type": "markdown",
   "metadata": {},
   "source": [
    "# What is bs4 ?\n",
    "Beautiful Soup is a Python library for pulling data out of HTML and XML files . It creates a parse tree for parsed pages that can be used to extract data from HTML, which is useful for web scraping."
   ]
  },
  {
   "cell_type": "markdown",
   "metadata": {},
   "source": [
    "## Install bs4\n"
   ]
  },
  {
   "cell_type": "raw",
   "metadata": {},
   "source": [
    "pip install beautifulsoup4"
   ]
  },
  {
   "cell_type": "markdown",
   "metadata": {},
   "source": [
    "## Import bs4"
   ]
  },
  {
   "cell_type": "raw",
   "metadata": {},
   "source": [
    "from bs4 import BeautifulSoup"
   ]
  },
  {
   "cell_type": "markdown",
   "metadata": {},
   "source": [
    "## Make a soup object out of a website\n",
    "\"html.parser\" is one option for parsers we could use. There are\n",
    "other options, like \"lxml\" and \"html5lib\" that have different\n",
    "advantages and disadvantages.\n"
   ]
  },
  {
   "cell_type": "code",
   "execution_count": 2,
   "metadata": {},
   "outputs": [],
   "source": [
    "#The HTTP request\n",
    "webpage = request.get(' URL', 'html.parser');\n",
    "\n",
    "#Turn the website into a soup object\n",
    "soup = BeautifulSoup(webpage. content);\n"
   ]
  },
  {
   "cell_type": "markdown",
   "metadata": {},
   "source": [
    "## Object Types"
   ]
  },
  {
   "cell_type": "markdown",
   "metadata": {},
   "source": [
    "soup = BeautifulSoup('<div id=\"example\">An example div</div><p>An example p tag</p>')\n",
    "\n",
    "print(soup.div) #gets the first tag of that type on the page\n",
    "print(soup.div.name)  #div\n",
    "print(soup.div.attrs)  #{'id': 'example'}\n",
    "print(soup.div.string) # An example div  #Navigable Strings: Piece of text inside of HTML Tags"
   ]
  },
  {
   "cell_type": "markdown",
   "metadata": {},
   "source": [
    "## Navigation by Tags"
   ]
  },
  {
   "cell_type": "raw",
   "metadata": {},
   "source": [
    "\"\"\"\n",
    "<h1>World's Best Chocolate Chip Cookies</h1>\n",
    "<div class=\"banner\">\n",
    "<h1>Ingredients</h1>\n",
    "</div>\n",
    "<ul>\n",
    "<a class=\"sister\" href=\"http://example.com/lacie\" id=\"link2\">Lacie </a>\n",
    "<a class=\"sister\" href=\"http://example.com/tillie\" id=\"link3\">Tillie</a>\n",
    "\n",
    "<li> 1 cup flour </li>\n",
    "<li> 1/2 cup sugar </li>\n",
    "<li> 2 tbsp oil </li>\n",
    "<li> 1/2 tsp baking soda </li>\n",
    "<li> ½ cup chocolate chips </li>\n",
    "<li> 1/2 tsp vanilla <li>\n",
    "<li> 2 tbsp milk </li>\n",
    "</ul>\n",
    "\"\"\"\n",
    "#Get the children of a tag of above code:\n",
    "for child in soup.ul.children:\n",
    "    print(child)\n",
    "    \n",
    "#<li> 1 cup flour </li>\n",
    "#<li> 1/2 cup sugar </li>"
   ]
  },
  {
   "cell_type": "raw",
   "metadata": {},
   "source": [
    "for link in soup.find_all('a'):                          #find all a tags\n",
    "    print(link.get('href'))                              #.get(href) print all the links\n",
    "    \n",
    "# http://example.com/lacie\n",
    "# http://example.com/tillie"
   ]
  },
  {
   "cell_type": "raw",
   "metadata": {},
   "source": [
    "print(soup.get_text())                          #this is print all text ."
   ]
  },
  {
   "cell_type": "markdown",
   "metadata": {},
   "source": [
    "## .strings and stripped_strings"
   ]
  },
  {
   "cell_type": "markdown",
   "metadata": {},
   "source": [
    "If there’s more than one thing inside a tag, you can still look at just the strings. Use the .strings generator it will show text inside all the tags in new but with '/n' may between them"
   ]
  },
  {
   "cell_type": "raw",
   "metadata": {},
   "source": [
    "for string in soup.strings:\n",
    "    print(repr(string))"
   ]
  },
  {
   "cell_type": "markdown",
   "metadata": {},
   "source": [
    "These strings tend to have a lot of extra whitespace, which you can remove by using the .stripped_strings generator instead:"
   ]
  },
  {
   "cell_type": "raw",
   "metadata": {},
   "source": [
    "for string in soup.stripped_strings:\n",
    "    print(repr(string))\n",
    "    \n",
    "Here, strings consisting entirely of whitespace are ignored, and whitespace at the beginning and end of strings is removed."
   ]
  },
  {
   "cell_type": "code",
   "execution_count": null,
   "metadata": {},
   "outputs": [],
   "source": []
  }
 ],
 "metadata": {
  "kernelspec": {
   "display_name": "Python 3",
   "language": "python",
   "name": "python3"
  },
  "language_info": {
   "codemirror_mode": {
    "name": "ipython",
    "version": 3
   },
   "file_extension": ".py",
   "mimetype": "text/x-python",
   "name": "python",
   "nbconvert_exporter": "python",
   "pygments_lexer": "ipython3",
   "version": "3.8.3"
  }
 },
 "nbformat": 4,
 "nbformat_minor": 4
}
