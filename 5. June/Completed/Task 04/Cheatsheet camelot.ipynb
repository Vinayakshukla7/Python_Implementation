{
 "cells": [
  {
   "cell_type": "markdown",
   "metadata": {},
   "source": [
    "# What is camelot ?\n",
    "Camelot is a Python library that can help you extract tables from PDFs!"
   ]
  },
  {
   "cell_type": "markdown",
   "metadata": {},
   "source": [
    "## Install"
   ]
  },
  {
   "cell_type": "raw",
   "metadata": {},
   "source": [
    "pip install \"camelot-py[dev]\""
   ]
  },
  {
   "cell_type": "markdown",
   "metadata": {},
   "source": [
    "## Import"
   ]
  },
  {
   "cell_type": "raw",
   "metadata": {},
   "source": [
    "import camelot"
   ]
  },
  {
   "cell_type": "markdown",
   "metadata": {},
   "source": [
    "## .read_pdf()\n",
    "reads the data from the tables of the pdf file of the given address"
   ]
  },
  {
   "cell_type": "raw",
   "metadata": {},
   "source": [
    "tables = camelot.read_pdf('path/name.pdf')                    "
   ]
  },
  {
   "cell_type": "markdown",
   "metadata": {},
   "source": [
    "## tables[index].df\n",
    "points towards the desired table of a given index"
   ]
  },
  {
   "cell_type": "raw",
   "metadata": {},
   "source": [
    "tables[0].df   \n",
    "\n",
    "# print the first table as Pandas DataFrame"
   ]
  },
  {
   "cell_type": "markdown",
   "metadata": {},
   "source": [
    "Note : Camelot only works with text-based PDFs and not scanned documents."
   ]
  },
  {
   "cell_type": "markdown",
   "metadata": {},
   "source": [
    "## Why Camelot is used ?\n",
    "Camelot gives you control over the table extraction process with its tweakable settings.<br>\n",
    "Bad tables can be discarded based on metrics like accuracy and whitespace, without having to manually look at each table.<br>\n",
    "Each table is extracted into a pandas DataFrame.\n"
   ]
  },
  {
   "cell_type": "code",
   "execution_count": null,
   "metadata": {},
   "outputs": [],
   "source": []
  }
 ],
 "metadata": {
  "kernelspec": {
   "display_name": "Python 3",
   "language": "python",
   "name": "python3"
  },
  "language_info": {
   "codemirror_mode": {
    "name": "ipython",
    "version": 3
   },
   "file_extension": ".py",
   "mimetype": "text/x-python",
   "name": "python",
   "nbconvert_exporter": "python",
   "pygments_lexer": "ipython3",
   "version": "3.8.3"
  }
 },
 "nbformat": 4,
 "nbformat_minor": 4
}
