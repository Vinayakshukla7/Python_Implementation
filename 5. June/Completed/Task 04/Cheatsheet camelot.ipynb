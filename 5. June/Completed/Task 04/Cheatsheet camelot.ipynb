{
 "cells": [
  {
   "cell_type": "markdown",
   "metadata": {},
   "source": [
    "# What is camelot ?\n",
    "Camelot is a Python library that can help you extract tables from PDFs!"
   ]
  },
  {
   "cell_type": "markdown",
   "metadata": {},
   "source": [
    "## Why Camelot is used ?\n",
    "Camelot gives you control over the table extraction process with its tweakable settings.<br>\n",
    "Bad tables can be discarded based on metrics like accuracy and whitespace, without having to manually look at each table.<br>\n",
    "Each table is extracted into a pandas DataFrame."
   ]
  },
  {
   "cell_type": "markdown",
   "metadata": {},
   "source": [
    "## Install"
   ]
  },
  {
   "cell_type": "code",
   "execution_count": 2,
   "metadata": {},
   "outputs": [
    {
     "name": "stdout",
     "output_type": "stream",
     "text": [
      "Requirement already satisfied: camelot-py[dev] in c:\\users\\vsvin\\anaconda3\\lib\\site-packages (0.8.2)\n",
      "Requirement already satisfied: pdfminer.six>=20200726 in c:\\users\\vsvin\\anaconda3\\lib\\site-packages (from camelot-py[dev]) (20201018)\n",
      "Requirement already satisfied: click>=6.7 in c:\\users\\vsvin\\anaconda3\\lib\\site-packages (from camelot-py[dev]) (7.1.2)\n",
      "Requirement already satisfied: numpy>=1.13.3 in c:\\users\\vsvin\\anaconda3\\lib\\site-packages (from camelot-py[dev]) (1.18.5)\n",
      "Requirement already satisfied: openpyxl>=2.5.8 in c:\\users\\vsvin\\anaconda3\\lib\\site-packages (from camelot-py[dev]) (3.0.4)\n",
      "Requirement already satisfied: chardet>=3.0.4 in c:\\users\\vsvin\\anaconda3\\lib\\site-packages (from camelot-py[dev]) (3.0.4)\n",
      "Requirement already satisfied: pandas>=0.23.4 in c:\\users\\vsvin\\anaconda3\\lib\\site-packages (from camelot-py[dev]) (1.0.5)\n",
      "Requirement already satisfied: PyPDF2>=1.26.0 in c:\\users\\vsvin\\anaconda3\\lib\\site-packages (from camelot-py[dev]) (1.26.0)\n",
      "Requirement already satisfied: Sphinx>=3.1.2; extra == \"dev\" in c:\\users\\vsvin\\anaconda3\\lib\\site-packages (from camelot-py[dev]) (3.1.2)\n",
      "Requirement already satisfied: pytest-cov>=2.10.0; extra == \"dev\" in c:\\users\\vsvin\\anaconda3\\lib\\site-packages (from camelot-py[dev]) (2.12.1)\n",
      "Requirement already satisfied: pytest>=5.4.3; extra == \"dev\" in c:\\users\\vsvin\\anaconda3\\lib\\site-packages (from camelot-py[dev]) (5.4.3)\n",
      "Requirement already satisfied: pytest-mpl>=0.11; extra == \"dev\" in c:\\users\\vsvin\\anaconda3\\lib\\site-packages (from camelot-py[dev]) (0.12)\n",
      "Requirement already satisfied: matplotlib>=2.2.3; extra == \"dev\" in c:\\users\\vsvin\\anaconda3\\lib\\site-packages (from camelot-py[dev]) (3.2.2)\n",
      "Requirement already satisfied: pytest-runner>=5.2; extra == \"dev\" in c:\\users\\vsvin\\anaconda3\\lib\\site-packages (from camelot-py[dev]) (5.3.1)\n",
      "Requirement already satisfied: opencv-python>=3.4.2.17; extra == \"dev\" in c:\\users\\vsvin\\anaconda3\\lib\\site-packages (from camelot-py[dev]) (4.5.2.54)\n",
      "Requirement already satisfied: codecov>=2.0.15; extra == \"dev\" in c:\\users\\vsvin\\anaconda3\\lib\\site-packages (from camelot-py[dev]) (2.1.11)\n",
      "Requirement already satisfied: cryptography in c:\\users\\vsvin\\anaconda3\\lib\\site-packages (from pdfminer.six>=20200726->camelot-py[dev]) (2.9.2)\n",
      "Requirement already satisfied: sortedcontainers in c:\\users\\vsvin\\anaconda3\\lib\\site-packages (from pdfminer.six>=20200726->camelot-py[dev]) (2.2.2)\n",
      "Requirement already satisfied: et-xmlfile in c:\\users\\vsvin\\anaconda3\\lib\\site-packages (from openpyxl>=2.5.8->camelot-py[dev]) (1.0.1)\n",
      "Requirement already satisfied: jdcal in c:\\users\\vsvin\\anaconda3\\lib\\site-packages (from openpyxl>=2.5.8->camelot-py[dev]) (1.4.1)\n",
      "Requirement already satisfied: pytz>=2017.2 in c:\\users\\vsvin\\anaconda3\\lib\\site-packages (from pandas>=0.23.4->camelot-py[dev]) (2020.1)\n",
      "Requirement already satisfied: python-dateutil>=2.6.1 in c:\\users\\vsvin\\anaconda3\\lib\\site-packages (from pandas>=0.23.4->camelot-py[dev]) (2.8.1)\n",
      "Requirement already satisfied: docutils>=0.12 in c:\\users\\vsvin\\anaconda3\\lib\\site-packages (from Sphinx>=3.1.2; extra == \"dev\"->camelot-py[dev]) (0.16)\n",
      "Requirement already satisfied: Jinja2>=2.3 in c:\\users\\vsvin\\anaconda3\\lib\\site-packages (from Sphinx>=3.1.2; extra == \"dev\"->camelot-py[dev]) (2.11.2)\n",
      "Requirement already satisfied: sphinxcontrib-serializinghtml in c:\\users\\vsvin\\anaconda3\\lib\\site-packages (from Sphinx>=3.1.2; extra == \"dev\"->camelot-py[dev]) (1.1.4)\n",
      "Requirement already satisfied: sphinxcontrib-qthelp in c:\\users\\vsvin\\anaconda3\\lib\\site-packages (from Sphinx>=3.1.2; extra == \"dev\"->camelot-py[dev]) (1.0.3)\n",
      "Requirement already satisfied: imagesize in c:\\users\\vsvin\\anaconda3\\lib\\site-packages (from Sphinx>=3.1.2; extra == \"dev\"->camelot-py[dev]) (1.2.0)\n",
      "Requirement already satisfied: packaging in c:\\users\\vsvin\\anaconda3\\lib\\site-packages (from Sphinx>=3.1.2; extra == \"dev\"->camelot-py[dev]) (20.4)\n",
      "Requirement already satisfied: setuptools in c:\\users\\vsvin\\anaconda3\\lib\\site-packages (from Sphinx>=3.1.2; extra == \"dev\"->camelot-py[dev]) (49.2.0.post20200714)\n",
      "Requirement already satisfied: snowballstemmer>=1.1 in c:\\users\\vsvin\\anaconda3\\lib\\site-packages (from Sphinx>=3.1.2; extra == \"dev\"->camelot-py[dev]) (2.0.0)\n",
      "Requirement already satisfied: colorama>=0.3.5; sys_platform == \"win32\" in c:\\users\\vsvin\\anaconda3\\lib\\site-packages (from Sphinx>=3.1.2; extra == \"dev\"->camelot-py[dev]) (0.4.3)\n",
      "Requirement already satisfied: sphinxcontrib-jsmath in c:\\users\\vsvin\\anaconda3\\lib\\site-packages (from Sphinx>=3.1.2; extra == \"dev\"->camelot-py[dev]) (1.0.1)\n",
      "Requirement already satisfied: babel>=1.3 in c:\\users\\vsvin\\anaconda3\\lib\\site-packages (from Sphinx>=3.1.2; extra == \"dev\"->camelot-py[dev]) (2.8.0)\n",
      "Requirement already satisfied: sphinxcontrib-htmlhelp in c:\\users\\vsvin\\anaconda3\\lib\\site-packages (from Sphinx>=3.1.2; extra == \"dev\"->camelot-py[dev]) (1.0.3)\n",
      "Requirement already satisfied: sphinxcontrib-applehelp in c:\\users\\vsvin\\anaconda3\\lib\\site-packages (from Sphinx>=3.1.2; extra == \"dev\"->camelot-py[dev]) (1.0.2)\n",
      "Requirement already satisfied: requests>=2.5.0 in c:\\users\\vsvin\\anaconda3\\lib\\site-packages (from Sphinx>=3.1.2; extra == \"dev\"->camelot-py[dev]) (2.24.0)\n",
      "Requirement already satisfied: Pygments>=2.0 in c:\\users\\vsvin\\anaconda3\\lib\\site-packages (from Sphinx>=3.1.2; extra == \"dev\"->camelot-py[dev]) (2.6.1)\n",
      "Requirement already satisfied: sphinxcontrib-devhelp in c:\\users\\vsvin\\anaconda3\\lib\\site-packages (from Sphinx>=3.1.2; extra == \"dev\"->camelot-py[dev]) (1.0.2)\n",
      "Requirement already satisfied: alabaster<0.8,>=0.7 in c:\\users\\vsvin\\anaconda3\\lib\\site-packages (from Sphinx>=3.1.2; extra == \"dev\"->camelot-py[dev]) (0.7.12)\n",
      "Requirement already satisfied: toml in c:\\users\\vsvin\\anaconda3\\lib\\site-packages (from pytest-cov>=2.10.0; extra == \"dev\"->camelot-py[dev]) (0.10.1)\n",
      "Requirement already satisfied: coverage>=5.2.1 in c:\\users\\vsvin\\anaconda3\\lib\\site-packages (from pytest-cov>=2.10.0; extra == \"dev\"->camelot-py[dev]) (5.5)\n",
      "Requirement already satisfied: py>=1.5.0 in c:\\users\\vsvin\\anaconda3\\lib\\site-packages (from pytest>=5.4.3; extra == \"dev\"->camelot-py[dev]) (1.9.0)\n",
      "Requirement already satisfied: attrs>=17.4.0 in c:\\users\\vsvin\\anaconda3\\lib\\site-packages (from pytest>=5.4.3; extra == \"dev\"->camelot-py[dev]) (19.3.0)\n",
      "Requirement already satisfied: more-itertools>=4.0.0 in c:\\users\\vsvin\\anaconda3\\lib\\site-packages (from pytest>=5.4.3; extra == \"dev\"->camelot-py[dev]) (8.4.0)\n",
      "Requirement already satisfied: pluggy<1.0,>=0.12 in c:\\users\\vsvin\\anaconda3\\lib\\site-packages (from pytest>=5.4.3; extra == \"dev\"->camelot-py[dev]) (0.13.1)\n",
      "Requirement already satisfied: wcwidth in c:\\users\\vsvin\\anaconda3\\lib\\site-packages (from pytest>=5.4.3; extra == \"dev\"->camelot-py[dev]) (0.2.5)\n",
      "Requirement already satisfied: atomicwrites>=1.0 in c:\\users\\vsvin\\anaconda3\\lib\\site-packages (from pytest>=5.4.3; extra == \"dev\"->camelot-py[dev]) (1.4.0)\n",
      "Requirement already satisfied: pyparsing!=2.0.4,!=2.1.2,!=2.1.6,>=2.0.1 in c:\\users\\vsvin\\anaconda3\\lib\\site-packages (from matplotlib>=2.2.3; extra == \"dev\"->camelot-py[dev]) (2.4.7)\n",
      "Requirement already satisfied: kiwisolver>=1.0.1 in c:\\users\\vsvin\\anaconda3\\lib\\site-packages (from matplotlib>=2.2.3; extra == \"dev\"->camelot-py[dev]) (1.2.0)\n",
      "Requirement already satisfied: cycler>=0.10 in c:\\users\\vsvin\\anaconda3\\lib\\site-packages (from matplotlib>=2.2.3; extra == \"dev\"->camelot-py[dev]) (0.10.0)\n",
      "Requirement already satisfied: six>=1.4.1 in c:\\users\\vsvin\\anaconda3\\lib\\site-packages (from cryptography->pdfminer.six>=20200726->camelot-py[dev]) (1.15.0)\n",
      "Requirement already satisfied: cffi!=1.11.3,>=1.8 in c:\\users\\vsvin\\anaconda3\\lib\\site-packages (from cryptography->pdfminer.six>=20200726->camelot-py[dev]) (1.14.0)\n",
      "Requirement already satisfied: MarkupSafe>=0.23 in c:\\users\\vsvin\\anaconda3\\lib\\site-packages (from Jinja2>=2.3->Sphinx>=3.1.2; extra == \"dev\"->camelot-py[dev]) (1.1.1)\n",
      "Requirement already satisfied: idna<3,>=2.5 in c:\\users\\vsvin\\anaconda3\\lib\\site-packages (from requests>=2.5.0->Sphinx>=3.1.2; extra == \"dev\"->camelot-py[dev]) (2.10)\n",
      "Requirement already satisfied: urllib3!=1.25.0,!=1.25.1,<1.26,>=1.21.1 in c:\\users\\vsvin\\anaconda3\\lib\\site-packages (from requests>=2.5.0->Sphinx>=3.1.2; extra == \"dev\"->camelot-py[dev]) (1.25.9)\n",
      "Requirement already satisfied: certifi>=2017.4.17 in c:\\users\\vsvin\\anaconda3\\lib\\site-packages (from requests>=2.5.0->Sphinx>=3.1.2; extra == \"dev\"->camelot-py[dev]) (2020.6.20)\n",
      "Requirement already satisfied: pycparser in c:\\users\\vsvin\\anaconda3\\lib\\site-packages (from cffi!=1.11.3,>=1.8->cryptography->pdfminer.six>=20200726->camelot-py[dev]) (2.20)\n"
     ]
    }
   ],
   "source": [
    "!pip install \"camelot-py[dev]\""
   ]
  },
  {
   "cell_type": "markdown",
   "metadata": {},
   "source": [
    "## Import"
   ]
  },
  {
   "cell_type": "code",
   "execution_count": 2,
   "metadata": {},
   "outputs": [],
   "source": [
    "import camelot"
   ]
  },
  {
   "cell_type": "markdown",
   "metadata": {},
   "source": [
    "## .read_pdf()\n",
    "reads the data from the tables of the pdf file of the given address"
   ]
  },
  {
   "cell_type": "code",
   "execution_count": 5,
   "metadata": {},
   "outputs": [
    {
     "data": {
      "text/plain": [
       "<TableList n=1>"
      ]
     },
     "execution_count": 5,
     "metadata": {},
     "output_type": "execute_result"
    }
   ],
   "source": [
    "tables = camelot.read_pdf('collage_pdf.pdf')   \n",
    "\n",
    "tables                                                   #will return of table list n=1 as only one page is choosen by default"
   ]
  },
  {
   "cell_type": "code",
   "execution_count": 7,
   "metadata": {},
   "outputs": [
    {
     "data": {
      "text/plain": [
       "<TableList n=46>"
      ]
     },
     "execution_count": 7,
     "metadata": {},
     "output_type": "execute_result"
    }
   ],
   "source": [
    "tabless = camelot.read_pdf('collage_pdf.pdf',pages=\"all\")   \n",
    "\n",
    "tabless                                                     #will return pages you specified \"n\" denotes no of pages"
   ]
  },
  {
   "cell_type": "markdown",
   "metadata": {},
   "source": [
    "## tables[index].df\n",
    "points towards the desired table of a given index"
   ]
  },
  {
   "cell_type": "code",
   "execution_count": 4,
   "metadata": {},
   "outputs": [
    {
     "data": {
      "text/html": [
       "<div>\n",
       "<style scoped>\n",
       "    .dataframe tbody tr th:only-of-type {\n",
       "        vertical-align: middle;\n",
       "    }\n",
       "\n",
       "    .dataframe tbody tr th {\n",
       "        vertical-align: top;\n",
       "    }\n",
       "\n",
       "    .dataframe thead th {\n",
       "        text-align: right;\n",
       "    }\n",
       "</style>\n",
       "<table border=\"1\" class=\"dataframe\">\n",
       "  <thead>\n",
       "    <tr style=\"text-align: right;\">\n",
       "      <th></th>\n",
       "      <th>0</th>\n",
       "      <th>1</th>\n",
       "      <th>2</th>\n",
       "      <th>3</th>\n",
       "      <th>4</th>\n",
       "      <th>5</th>\n",
       "      <th>6</th>\n",
       "      <th>7</th>\n",
       "      <th>8</th>\n",
       "      <th>9</th>\n",
       "    </tr>\n",
       "  </thead>\n",
       "  <tbody>\n",
       "    <tr>\n",
       "      <th>0</th>\n",
       "      <td>S. \\nNo.</td>\n",
       "      <td>UGC, \\nCRO \\nCollege Name\\nAddress\\nCode</td>\n",
       "      <td></td>\n",
       "      <td></td>\n",
       "      <td>District</td>\n",
       "      <td>Pin Code</td>\n",
       "      <td>State</td>\n",
       "      <td>Status \\n(Govt./ \\nPrivate)</td>\n",
       "      <td>Self-\\nfinancing/unaid\\ned/ aided</td>\n",
       "      <td>Phone No.</td>\n",
       "    </tr>\n",
       "    <tr>\n",
       "      <th>1</th>\n",
       "      <td></td>\n",
       "      <td>1.Awadesh Pratap Singh University, Rewa (M.P.)</td>\n",
       "      <td></td>\n",
       "      <td></td>\n",
       "      <td></td>\n",
       "      <td></td>\n",
       "      <td></td>\n",
       "      <td></td>\n",
       "      <td></td>\n",
       "      <td></td>\n",
       "    </tr>\n",
       "    <tr>\n",
       "      <th>2</th>\n",
       "      <td>1</td>\n",
       "      <td>101001 Arts Degree College</td>\n",
       "      <td></td>\n",
       "      <td>Sirmour</td>\n",
       "      <td>Rewa</td>\n",
       "      <td>486448</td>\n",
       "      <td>Madhya \\nPradesh</td>\n",
       "      <td>Private</td>\n",
       "      <td>Aided</td>\n",
       "      <td>07660-260626</td>\n",
       "    </tr>\n",
       "    <tr>\n",
       "      <th>3</th>\n",
       "      <td>2</td>\n",
       "      <td>101002 Arts Degree College</td>\n",
       "      <td></td>\n",
       "      <td>Semaria</td>\n",
       "      <td>Rewa</td>\n",
       "      <td>486445</td>\n",
       "      <td>Madhya \\nPradesh</td>\n",
       "      <td>Private</td>\n",
       "      <td>Un-Aided</td>\n",
       "      <td>07660-266503</td>\n",
       "    </tr>\n",
       "    <tr>\n",
       "      <th>4</th>\n",
       "      <td>3</td>\n",
       "      <td>101003</td>\n",
       "      <td>Govt. Arts &amp; Commerce Degree \\nCollege</td>\n",
       "      <td>At. &amp; P.O. Beohari</td>\n",
       "      <td>Shahdol</td>\n",
       "      <td>484774</td>\n",
       "      <td>Madhya \\nPradesh</td>\n",
       "      <td>Govt.</td>\n",
       "      <td>Aided</td>\n",
       "      <td>07650-262235</td>\n",
       "    </tr>\n",
       "    <tr>\n",
       "      <th>5</th>\n",
       "      <td>4</td>\n",
       "      <td>101004</td>\n",
       "      <td>Govt. Arts, Commerce &amp; Science \\nCollege</td>\n",
       "      <td>Rampur Naikin</td>\n",
       "      <td>Sidhi</td>\n",
       "      <td>486775</td>\n",
       "      <td>Madhya \\nPradesh</td>\n",
       "      <td>Govt.</td>\n",
       "      <td>Aided</td>\n",
       "      <td>07802-280879</td>\n",
       "    </tr>\n",
       "    <tr>\n",
       "      <th>6</th>\n",
       "      <td>5</td>\n",
       "      <td>101005 Govt. College</td>\n",
       "      <td></td>\n",
       "      <td>Station Road</td>\n",
       "      <td>Satna</td>\n",
       "      <td>485001</td>\n",
       "      <td>Madhya \\nPradesh</td>\n",
       "      <td>Govt.</td>\n",
       "      <td>Aided</td>\n",
       "      <td>07672-223209</td>\n",
       "    </tr>\n",
       "    <tr>\n",
       "      <th>7</th>\n",
       "      <td>6</td>\n",
       "      <td>101006 Govt. College</td>\n",
       "      <td></td>\n",
       "      <td>Churhat</td>\n",
       "      <td>Sidhi</td>\n",
       "      <td>486771</td>\n",
       "      <td>Madhya \\nPradesh</td>\n",
       "      <td>Govt.</td>\n",
       "      <td>Aided</td>\n",
       "      <td></td>\n",
       "    </tr>\n",
       "    <tr>\n",
       "      <th>8</th>\n",
       "      <td>7</td>\n",
       "      <td>101007 Govt. R.V.P.S. Degree College</td>\n",
       "      <td></td>\n",
       "      <td>Shahpura Road</td>\n",
       "      <td>Umaria</td>\n",
       "      <td>484661</td>\n",
       "      <td>Madhya \\nPradesh</td>\n",
       "      <td>Govt.</td>\n",
       "      <td>Aided</td>\n",
       "      <td>07653-222230</td>\n",
       "    </tr>\n",
       "    <tr>\n",
       "      <th>9</th>\n",
       "      <td>8</td>\n",
       "      <td>101008 Govt. College</td>\n",
       "      <td></td>\n",
       "      <td>Birsinghpur Pali</td>\n",
       "      <td>Umaria</td>\n",
       "      <td>484551</td>\n",
       "      <td>Madhya \\nPradesh</td>\n",
       "      <td>Govt.</td>\n",
       "      <td>Aided</td>\n",
       "      <td></td>\n",
       "    </tr>\n",
       "    <tr>\n",
       "      <th>10</th>\n",
       "      <td>9</td>\n",
       "      <td>101009 Govt. College Of Education</td>\n",
       "      <td></td>\n",
       "      <td>University Road</td>\n",
       "      <td>Rewa</td>\n",
       "      <td>486002</td>\n",
       "      <td>Madhya \\nPradesh</td>\n",
       "      <td>Govt.</td>\n",
       "      <td>Aided</td>\n",
       "      <td>07662-258860</td>\n",
       "    </tr>\n",
       "    <tr>\n",
       "      <th>11</th>\n",
       "      <td>10</td>\n",
       "      <td>101010 Govt. College</td>\n",
       "      <td></td>\n",
       "      <td>Amarpatan</td>\n",
       "      <td>Satna</td>\n",
       "      <td>485775</td>\n",
       "      <td>Madhya \\nPradesh</td>\n",
       "      <td>Govt.</td>\n",
       "      <td>Aided</td>\n",
       "      <td>07675-272240</td>\n",
       "    </tr>\n",
       "    <tr>\n",
       "      <th>12</th>\n",
       "      <td>11</td>\n",
       "      <td>101011 R.N. Singh Govt. College</td>\n",
       "      <td></td>\n",
       "      <td>Waidhan</td>\n",
       "      <td>Singrauli</td>\n",
       "      <td>486886</td>\n",
       "      <td>Madhya \\nPradesh</td>\n",
       "      <td>Govt.</td>\n",
       "      <td>Aided</td>\n",
       "      <td>07805-233252</td>\n",
       "    </tr>\n",
       "    <tr>\n",
       "      <th>13</th>\n",
       "      <td>12</td>\n",
       "      <td>101012 Govt. Degree College</td>\n",
       "      <td></td>\n",
       "      <td>Jaisingh Nagar</td>\n",
       "      <td>Shahdol</td>\n",
       "      <td>484771</td>\n",
       "      <td>Madhya \\nPradesh</td>\n",
       "      <td>Govt.</td>\n",
       "      <td>Aided</td>\n",
       "      <td>07651-221288</td>\n",
       "    </tr>\n",
       "    <tr>\n",
       "      <th>14</th>\n",
       "      <td></td>\n",
       "      <td>101014</td>\n",
       "      <td>Govt. Girls Degree College (as per \\nUGC Direc...</td>\n",
       "      <td>North Karaudiya</td>\n",
       "      <td>Sidhi</td>\n",
       "      <td>486661</td>\n",
       "      <td>Madhya \\nPradesh</td>\n",
       "      <td>Govt.</td>\n",
       "      <td>Aided</td>\n",
       "      <td>07822-252378</td>\n",
       "    </tr>\n",
       "    <tr>\n",
       "      <th>15</th>\n",
       "      <td>13</td>\n",
       "      <td>101015 Govt. Girls College</td>\n",
       "      <td></td>\n",
       "      <td>Kothi Campus</td>\n",
       "      <td>Rewa</td>\n",
       "      <td>486001</td>\n",
       "      <td>Madhya \\nPradesh</td>\n",
       "      <td>Govt.</td>\n",
       "      <td>Aided</td>\n",
       "      <td>07662-252109</td>\n",
       "    </tr>\n",
       "    <tr>\n",
       "      <th>16</th>\n",
       "      <td>14</td>\n",
       "      <td>101016</td>\n",
       "      <td>Govt. Indira Gandhi Home Science \\nCollege</td>\n",
       "      <td>Pandav Nagar</td>\n",
       "      <td>Shahdol</td>\n",
       "      <td>484001</td>\n",
       "      <td>Madhya \\nPradesh</td>\n",
       "      <td>Govt.</td>\n",
       "      <td>Aided</td>\n",
       "      <td>07652-245110</td>\n",
       "    </tr>\n",
       "  </tbody>\n",
       "</table>\n",
       "</div>"
      ],
      "text/plain": [
       "           0                                               1  \\\n",
       "0   S. \\nNo.        UGC, \\nCRO \\nCollege Name\\nAddress\\nCode   \n",
       "1             1.Awadesh Pratap Singh University, Rewa (M.P.)   \n",
       "2          1                      101001 Arts Degree College   \n",
       "3          2                      101002 Arts Degree College   \n",
       "4          3                                          101003   \n",
       "5          4                                          101004   \n",
       "6          5                            101005 Govt. College   \n",
       "7          6                            101006 Govt. College   \n",
       "8          7            101007 Govt. R.V.P.S. Degree College   \n",
       "9          8                            101008 Govt. College   \n",
       "10         9               101009 Govt. College Of Education   \n",
       "11        10                            101010 Govt. College   \n",
       "12        11                 101011 R.N. Singh Govt. College   \n",
       "13        12                     101012 Govt. Degree College   \n",
       "14                                                    101014   \n",
       "15        13                      101015 Govt. Girls College   \n",
       "16        14                                          101016   \n",
       "\n",
       "                                                    2                   3  \\\n",
       "0                                                                           \n",
       "1                                                                           \n",
       "2                                                                 Sirmour   \n",
       "3                                                                 Semaria   \n",
       "4              Govt. Arts & Commerce Degree \\nCollege  At. & P.O. Beohari   \n",
       "5            Govt. Arts, Commerce & Science \\nCollege       Rampur Naikin   \n",
       "6                                                            Station Road   \n",
       "7                                                                 Churhat   \n",
       "8                                                           Shahpura Road   \n",
       "9                                                        Birsinghpur Pali   \n",
       "10                                                        University Road   \n",
       "11                                                              Amarpatan   \n",
       "12                                                                Waidhan   \n",
       "13                                                         Jaisingh Nagar   \n",
       "14  Govt. Girls Degree College (as per \\nUGC Direc...     North Karaudiya   \n",
       "15                                                           Kothi Campus   \n",
       "16         Govt. Indira Gandhi Home Science \\nCollege        Pandav Nagar   \n",
       "\n",
       "            4         5                 6                            7  \\\n",
       "0    District  Pin Code             State  Status \\n(Govt./ \\nPrivate)   \n",
       "1                                                                        \n",
       "2        Rewa    486448  Madhya \\nPradesh                      Private   \n",
       "3        Rewa    486445  Madhya \\nPradesh                      Private   \n",
       "4     Shahdol    484774  Madhya \\nPradesh                        Govt.   \n",
       "5       Sidhi    486775  Madhya \\nPradesh                        Govt.   \n",
       "6       Satna    485001  Madhya \\nPradesh                        Govt.   \n",
       "7       Sidhi    486771  Madhya \\nPradesh                        Govt.   \n",
       "8      Umaria    484661  Madhya \\nPradesh                        Govt.   \n",
       "9      Umaria    484551  Madhya \\nPradesh                        Govt.   \n",
       "10       Rewa    486002  Madhya \\nPradesh                        Govt.   \n",
       "11      Satna    485775  Madhya \\nPradesh                        Govt.   \n",
       "12  Singrauli    486886  Madhya \\nPradesh                        Govt.   \n",
       "13    Shahdol    484771  Madhya \\nPradesh                        Govt.   \n",
       "14      Sidhi    486661  Madhya \\nPradesh                        Govt.   \n",
       "15       Rewa    486001  Madhya \\nPradesh                        Govt.   \n",
       "16    Shahdol    484001  Madhya \\nPradesh                        Govt.   \n",
       "\n",
       "                                    8             9  \n",
       "0   Self-\\nfinancing/unaid\\ned/ aided     Phone No.  \n",
       "1                                                    \n",
       "2                               Aided  07660-260626  \n",
       "3                            Un-Aided  07660-266503  \n",
       "4                               Aided  07650-262235  \n",
       "5                               Aided  07802-280879  \n",
       "6                               Aided  07672-223209  \n",
       "7                               Aided                \n",
       "8                               Aided  07653-222230  \n",
       "9                               Aided                \n",
       "10                              Aided  07662-258860  \n",
       "11                              Aided  07675-272240  \n",
       "12                              Aided  07805-233252  \n",
       "13                              Aided  07651-221288  \n",
       "14                              Aided  07822-252378  \n",
       "15                              Aided  07662-252109  \n",
       "16                              Aided  07652-245110  "
      ]
     },
     "execution_count": 4,
     "metadata": {},
     "output_type": "execute_result"
    }
   ],
   "source": [
    "tables[0].df   \n",
    "\n",
    "# print the first table as Pandas DataFrame"
   ]
  },
  {
   "cell_type": "markdown",
   "metadata": {},
   "source": [
    "Note : Camelot only works with text-based PDFs and not scanned documents."
   ]
  },
  {
   "cell_type": "markdown",
   "metadata": {},
   "source": [
    "### Parsing report"
   ]
  },
  {
   "cell_type": "code",
   "execution_count": 9,
   "metadata": {},
   "outputs": [
    {
     "data": {
      "text/plain": [
       "{'accuracy': 95.3, 'whitespace': 14.71, 'order': 1, 'page': 1}"
      ]
     },
     "execution_count": 9,
     "metadata": {},
     "output_type": "execute_result"
    }
   ],
   "source": [
    "tables[0].parsing_report"
   ]
  },
  {
   "cell_type": "markdown",
   "metadata": {},
   "source": [
    "### .export()\n",
    "It creates compressed folder 'name' taken from (\"name.csv\") which contains all files of all tables extracted from every pdf page."
   ]
  },
  {
   "cell_type": "code",
   "execution_count": 11,
   "metadata": {},
   "outputs": [],
   "source": [
    "tables.export(\"foo.csv\", f=\"csv\", compress=True)"
   ]
  },
  {
   "cell_type": "markdown",
   "metadata": {},
   "source": [
    "### to_json, to_excel, to_html\n",
    "used to convert specific table[x] "
   ]
  },
  {
   "cell_type": "code",
   "execution_count": 14,
   "metadata": {},
   "outputs": [],
   "source": [
    "tables[0].to_csv('foo.csv')                   "
   ]
  },
  {
   "cell_type": "code",
   "execution_count": null,
   "metadata": {},
   "outputs": [],
   "source": []
  }
 ],
 "metadata": {
  "kernelspec": {
   "display_name": "Python 3",
   "language": "python",
   "name": "python3"
  },
  "language_info": {
   "codemirror_mode": {
    "name": "ipython",
    "version": 3
   },
   "file_extension": ".py",
   "mimetype": "text/x-python",
   "name": "python",
   "nbconvert_exporter": "python",
   "pygments_lexer": "ipython3",
   "version": "3.8.3"
  }
 },
 "nbformat": 4,
 "nbformat_minor": 4
}
