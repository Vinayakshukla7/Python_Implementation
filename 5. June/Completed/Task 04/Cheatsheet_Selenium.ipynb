{
 "cells": [
  {
   "cell_type": "markdown",
   "metadata": {},
   "source": [
    "# What is selenium?\n",
    "   Selenium is a powerful tool for controlling web browser through program. It is functional for all browsers, works on all        major OS and its scripts are written in various languages i.e Python, Java, C#, etc.Primarily it is for automating web          applications for testing purposes, but is certainly not limited to just that.Boring web-based administration tasks can (and should) also be automated as well."
   ]
  },
  {
   "cell_type": "markdown",
   "metadata": {},
   "source": [
    "## Install Selenium\n",
    " \n",
    "pip3 install selenium"
   ]
  },
  {
   "cell_type": "markdown",
   "metadata": {},
   "source": [
    "## Import Selenium"
   ]
  },
  {
   "cell_type": "code",
   "execution_count": 14,
   "metadata": {},
   "outputs": [],
   "source": [
    "from selenium import webdriver"
   ]
  },
  {
   "cell_type": "markdown",
   "metadata": {},
   "source": [
    "Selenium WebDriver is a collection of open source APIs which are used to automate the testing of a web application.Its tool is used to automate web application testing to verify that it works as expected. It supports many browsers such as Firefox, Chrome, IE, and Safari.\n"
   ]
  },
  {
   "cell_type": "markdown",
   "metadata": {},
   "source": [
    "### Driver Setup up in chrome"
   ]
  },
  {
   "cell_type": "code",
   "execution_count": 15,
   "metadata": {},
   "outputs": [],
   "source": [
    "driver = webdriver.Chrome(\"D:\\Sem 6\\Selenium\\chromedriver.exe\")"
   ]
  },
  {
   "cell_type": "markdown",
   "metadata": {},
   "source": [
    "### Browser Arguments"
   ]
  },
  {
   "cell_type": "markdown",
   "metadata": {},
   "source": [
    "#### headless\n",
    "To open browser in headless mode. Works in both Chrome and Firefox browser\n",
    "\n",
    "#### start-maximized\n",
    "To start browser maximized to screen. Requires only for Chrome browser. Firefox by default starts maximized\n",
    "\n",
    "#### incognito\n",
    "To open private chrome browser\n",
    "\n",
    "#### disable-notifications\n",
    "To disable notifications, works Only in Chrome browser"
   ]
  },
  {
   "cell_type": "code",
   "execution_count": 8,
   "metadata": {},
   "outputs": [
    {
     "name": "stderr",
     "output_type": "stream",
     "text": [
      "<ipython-input-8-eb5250275988>:8: DeprecationWarning: use options instead of chrome_options\n",
      "  driver = webdriver.Chrome(chrome_options=options, executable_path=\"D:\\Sem 6\\Selenium\\chromedriver.exe\")\n"
     ]
    }
   ],
   "source": [
    "from selenium import webdriver\n",
    "from selenium.webdriver.chrome.options import Options\n",
    "\n",
    "options = Options()\n",
    "options.add_argument(\"--incognito\")\n",
    "#options.add_argument(\"--start-maximized\")\n",
    "#options.add_argument(\"--headless\")\n",
    "driver = webdriver.Chrome(chrome_options=options, executable_path=\"D:\\Sem 6\\Selenium\\chromedriver.exe\")"
   ]
  },
  {
   "cell_type": "markdown",
   "metadata": {},
   "source": [
    "ChromeOptions is a new concept added in Selenium WebDriver starting from Selenium version 3.6. 0 which is used for customizing the ChromeDriver session. By default when selenium opens up any browser (Chrome browser or Firefox browser), it opens up without any extension or history or cookies, etc."
   ]
  },
  {
   "cell_type": "markdown",
   "metadata": {},
   "source": [
    "### Launch URL\n",
    "It uses get() method which take url as an argument then driver imples on get method to open the url."
   ]
  },
  {
   "cell_type": "code",
   "execution_count": 17,
   "metadata": {},
   "outputs": [],
   "source": [
    "driver = webdriver.Chrome(\"D:\\Sem 6\\Selenium\\chromedriver.exe\")\n",
    "driver.get(\"https://www.facebook.com/\") "
   ]
  },
  {
   "cell_type": "markdown",
   "metadata": {},
   "source": [
    "### Retrieve Browser Details:\n",
    "The title method is used to retrieve the title of the webpage the user is currently working on.\n",
    "Python Selenium provides option to handle multiple windows using 'window_handles'.\n",
    "The current_url method is used to retrieve the URL of the webpage the user is currently accessing.\n",
    "driver. page_source will help you get the page source code."
   ]
  },
  {
   "cell_type": "code",
   "execution_count": 4,
   "metadata": {},
   "outputs": [
    {
     "name": "stdout",
     "output_type": "stream",
     "text": [
      "YouTube\n",
      "['CDwindow-64B7CFCCB5D7E7D6DD31B734BB714E38']\n",
      "https://www.youtube.com/\n"
     ]
    },
    {
     "name": "stderr",
     "output_type": "stream",
     "text": [
      "IOPub data rate exceeded.\n",
      "The notebook server will temporarily stop sending output\n",
      "to the client in order to avoid crashing it.\n",
      "To change this limit, set the config variable\n",
      "`--NotebookApp.iopub_data_rate_limit`.\n",
      "\n",
      "Current values:\n",
      "NotebookApp.iopub_data_rate_limit=1000000.0 (bytes/sec)\n",
      "NotebookApp.rate_limit_window=3.0 (secs)\n",
      "\n"
     ]
    }
   ],
   "source": [
    "print(driver.title)\n",
    "print(driver.window_handles)\n",
    "print(driver.current_url)\n",
    "print(driver.page_source)"
   ]
  },
  {
   "cell_type": "markdown",
   "metadata": {},
   "source": [
    "### Navigation"
   ]
  },
  {
   "cell_type": "raw",
   "metadata": {},
   "source": [
    "driver.get(url)\n",
    "driver.back()\n",
    "driver.forward()\n",
    "driver.refresh()"
   ]
  },
  {
   "cell_type": "markdown",
   "metadata": {},
   "source": [
    "## Locating Element\n",
    "Locators Strategies in Selenium Python are methods that are used to locate single or multiple elements from the page and perform operations on the same.\n",
    "Done by id,by class name,by name,by tag_name,by Xpath,by CSS selector"
   ]
  },
  {
   "cell_type": "markdown",
   "metadata": {},
   "source": [
    "#### By id "
   ]
  },
  {
   "cell_type": "raw",
   "metadata": {},
   "source": [
    "<input id=”signup” type=”text” />\n",
    "\n",
    "element = driver.find_element_by_id(“login”)"
   ]
  },
  {
   "cell_type": "markdown",
   "metadata": {},
   "source": [
    "#### By class name"
   ]
  },
  {
   "cell_type": "raw",
   "metadata": {},
   "source": [
    "<input class=”login” type=”text” />\n",
    "\n",
    "\n",
    "element = driver.find_element_by_class_name(“login”)"
   ]
  },
  {
   "cell_type": "markdown",
   "metadata": {},
   "source": [
    "#### By  name"
   ]
  },
  {
   "cell_type": "raw",
   "metadata": {},
   "source": [
    "<input name=”python” type=”text” />\n",
    "\n",
    "\n",
    "element = driver.find_element_by_name(“python”)"
   ]
  },
  {
   "cell_type": "markdown",
   "metadata": {},
   "source": [
    "#### By tag_name"
   ]
  },
  {
   "cell_type": "raw",
   "metadata": {},
   "source": [
    "<div id=”signup” >…</div>\n",
    "\n",
    "element = driver.find_element_by_tag_name(“div”)"
   ]
  },
  {
   "cell_type": "markdown",
   "metadata": {},
   "source": [
    "#### by Xpath"
   ]
  },
  {
   "cell_type": "code",
   "execution_count": 18,
   "metadata": {},
   "outputs": [],
   "source": [
    "\n",
    "element = driver.find_element_by_xpath('//*[@id=\"email\"]')\n",
    "\n",
    "#on right clicking the position by again clicking copy we can get xpath,css selector,full xpath etc ."
   ]
  },
  {
   "cell_type": "markdown",
   "metadata": {},
   "source": [
    "#### By CSS Selector"
   ]
  },
  {
   "cell_type": "raw",
   "metadata": {},
   "source": [
    "<form id=”login” action=”submit” method=”get”>\n",
    "Username: <input type=”text” />\n",
    "Password: <input type=”password” />\n",
    "</form>\n",
    "\n",
    "\n",
    "element = driver.find_element_by_css_selector(“input.username”)"
   ]
  },
  {
   "cell_type": "markdown",
   "metadata": {},
   "source": [
    "## Clicking / Input text"
   ]
  },
  {
   "cell_type": "code",
   "execution_count": 19,
   "metadata": {},
   "outputs": [],
   "source": [
    "### Clicking button\n",
    "\n",
    "#chromedriver.find_element_by_class_name(\"gLFyf\").click()\n",
    "\n",
    "### Send Text\n",
    "\n",
    "element.send_keys(\"email@address.com\")\n",
    "\n",
    "#chromedriver.find_element_by_class_name(\"gLFyf\").send_keys(Keys.RETURN)   \n",
    "\n",
    "#Keys module used to automate keyboards keys."
   ]
  },
  {
   "cell_type": "markdown",
   "metadata": {},
   "source": [
    "## Waits"
   ]
  },
  {
   "cell_type": "markdown",
   "metadata": {},
   "source": [
    "### Implicit Waits\n",
    "An implicit wait instructs Selenium WebDriver to poll DOM for a certain amount of time, this time can be specified, when trying to find an element or elements that are not available immediately."
   ]
  },
  {
   "cell_type": "code",
   "execution_count": 21,
   "metadata": {},
   "outputs": [],
   "source": [
    "#driver = webdriver.Chrome()\n",
    "\n",
    "driver.implicitly_wait(10)                   #it waits for 10 second and then exceute the other code after it.\n",
    "\n",
    "passw=driver.find_element_by_xpath('//*[@id=\"pass\"]')\n",
    "\n",
    "passw.send_keys(\"passs\")"
   ]
  },
  {
   "cell_type": "markdown",
   "metadata": {},
   "source": [
    "### Explicit Waits\n",
    "Explicit wait make the webdriver wait until certain conditions are fulfilled . Example of a wait"
   ]
  },
  {
   "cell_type": "raw",
   "metadata": {},
   "source": [
    "try:\n",
    "    element = WebDriverWait(driver, 5).until(\n",
    "        EC.presence_of_element_located((By.NAME, \"q\")))\n",
    "    # Type \"selenium\"\n",
    "    element.send_keys(\"selenium\")\n",
    "    # Type Enter\n",
    "    element.send_keys(Keys.ENTER)\n",
    "except TimeoutException:\n",
    "    print(\"Failed to load search bar at www.google.com\")"
   ]
  },
  {
   "cell_type": "markdown",
   "metadata": {},
   "source": [
    "### List of explicit waits"
   ]
  },
  {
   "cell_type": "raw",
   "metadata": {},
   "source": [
    "title_is\n",
    "title_contains\n",
    "presence_of_element_located\n",
    "visibility_of_element_located\n",
    "visibility_of\n",
    "presence_of_all_elements_located\n",
    "text_to_be_present_in_element\n",
    "text_to_be_present_in_element_value\n",
    "frame_to_be_available_and_switch_to_it\n",
    "invisibility_of_element_located\n",
    "element_to_be_clickable\n",
    "staleness_of\n",
    "element_to_be_selected\n",
    "element_located_to_be_selected\n",
    "element_selection_state_to_be\n",
    "element_located_selection_state_to_be\n",
    "alert_is_present"
   ]
  },
  {
   "cell_type": "markdown",
   "metadata": {},
   "source": [
    "### Some Most common module to import"
   ]
  },
  {
   "cell_type": "raw",
   "metadata": {},
   "source": [
    "from selenium import webdriver\n",
    "from selenium.common.exceptions import TimeoutException\n",
    "from selenium.webdriver.support.ui import WebDriverWait\n",
    "from selenium.webdriver.support import expected_conditions as EC\n",
    "from selenium.webdriver.common.keys import Keys\n",
    "from selenium.webdriver.common.by import By"
   ]
  }
 ],
 "metadata": {
  "kernelspec": {
   "display_name": "Python 3",
   "language": "python",
   "name": "python3"
  },
  "language_info": {
   "codemirror_mode": {
    "name": "ipython",
    "version": 3
   },
   "file_extension": ".py",
   "mimetype": "text/x-python",
   "name": "python",
   "nbconvert_exporter": "python",
   "pygments_lexer": "ipython3",
   "version": "3.8.3"
  }
 },
 "nbformat": 4,
 "nbformat_minor": 4
}
