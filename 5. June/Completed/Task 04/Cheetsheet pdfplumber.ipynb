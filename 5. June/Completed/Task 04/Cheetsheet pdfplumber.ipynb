{
 "cells": [
  {
   "cell_type": "markdown",
   "metadata": {},
   "source": [
    "# What is pdfplumber ?\n",
    "pdfplumber is a module in python that processes pdfs, gets all the text of the page, and provides a separate method for extracting the table. "
   ]
  },
  {
   "cell_type": "markdown",
   "metadata": {},
   "source": [
    "## Installation"
   ]
  },
  {
   "cell_type": "raw",
   "metadata": {},
   "source": [
    "pip install pdfplumber"
   ]
  },
  {
   "cell_type": "markdown",
   "metadata": {},
   "source": [
    "## Python Library"
   ]
  },
  {
   "cell_type": "markdown",
   "metadata": {},
   "source": [
    "### .open method / Loading of pdf"
   ]
  },
  {
   "cell_type": "raw",
   "metadata": {},
   "source": [
    "import pdfplumber                                               #importing library in python\n",
    "\n",
    "with pdfplumber.open(\"path/to/file.pdf\") as pdf:                #opening the pdf\n",
    "    first_page = pdf.pages[0]                                   #getting its pages\n",
    "    print(first_page.chars[0])                                  #further dividing the data of the single page"
   ]
  },
  {
   "cell_type": "markdown",
   "metadata": {},
   "source": [
    "Initially to call pdfplumber.open(string), where string can be a: <br>\n",
    "path to your PDF file<br>\n",
    "file object, loaded as bytes<br>\n",
    "file-like object, loaded as bytes<br>\n",
    "<br>\n",
    "The open method returns an instance of the pdfplumber.PDF class.Further ,pdfplumber.PDF class represents a single PDF and has two main properties: .metadata and .pages<br>\n",
    "\n",
    "-- pdfplumber.Page class<br>\n",
    "The pdfplumber.Page class is at the core of pdfplumber. Most things you'll do with pdfplumber will revolve around this class. It has these main properties: .page_number,.width\t.height .\n"
   ]
  },
  {
   "cell_type": "markdown",
   "metadata": {},
   "source": [
    "### Creating a PageImage with .to_image()\n",
    "To turn any page (including cropped pages) into an PageImage object, call my_page.to_image(). You can optionally pass a resolution={integer} keyword argument.Used for Visual debugging"
   ]
  },
  {
   "cell_type": "raw",
   "metadata": {},
   "source": [
    "pageimage = pdf_here.pages[0].to_image(resolution=150) \n",
    "\n",
    "pageimage.copy()                                                    #Basic PageImage methods\n",
    "pageimage.save()\n",
    "pagemage.reset()"
   ]
  },
  {
   "cell_type": "markdown",
   "metadata": {},
   "source": [
    "## Extracting tables\n",
    "Table Extraction (TE) is the task of detecting and decomposing table information in a document.\n",
    "### Table-extraction methods\n",
    "pdfplumber.Page objects can call the following table methods:"
   ]
  },
  {
   "cell_type": "raw",
   "metadata": {},
   "source": [
    "pdf = pdfplumber.open(\"path/to/my.pdf\")\n",
    "page = pdf.pages[0]\n",
    "\n",
    "page.extract_table()                         #Returns the text extracted from the largest table on the page\n",
    "page.find_tables()                           #Returns a list of Table objects. \n",
    "page.extract_tables()                        #Returns the text extracted from all tables found on the page,"
   ]
  },
  {
   "cell_type": "markdown",
   "metadata": {},
   "source": [
    "### Extracting form values\n",
    "pdfplumber doesn't have an interface for working with form data, but you can access it using pdfplumber's wrappers around pdfminer.<br>\n",
    "this snippetbelow will retrieve form field names and values and store them in a dictionary"
   ]
  },
  {
   "cell_type": "raw",
   "metadata": {},
   "source": [
    "pdf = pdfplumber.open(\"document_with_form.pdf\")\n",
    "\n",
    "fields = pdf.doc.catalog[\"AcroForm\"].resolve()[\"Fields\"]\n",
    "\n",
    "form_data = {}\n",
    "\n",
    "for field in fields:\n",
    "    field_name = field.resolve()[\"T\"]\n",
    "    field_value = field.resolve()[\"V\"]\n",
    "    form_data[field_name] = field_value"
   ]
  },
  {
   "cell_type": "markdown",
   "metadata": {},
   "source": [
    "### Specific comparison "
   ]
  },
  {
   "cell_type": "markdown",
   "metadata": {},
   "source": [
    "pdfminer.six provides the foundation for pdfplumber. It primarily focuses on parsing PDFs, analyzing PDF layouts and object positioning, and extracting text. It does not provide tools for table extraction or visual debugging."
   ]
  },
  {
   "cell_type": "markdown",
   "metadata": {},
   "source": [
    "camelot, tabula-py, and pdftables all focus primarily on extracting tables. In some cases, they may be better suited to the particular tables you are trying to extract."
   ]
  },
  {
   "cell_type": "markdown",
   "metadata": {},
   "source": [
    "PDF generation,PDF modification,Optical character recognition (OCR) usually not done by pdfplumber"
   ]
  },
  {
   "cell_type": "code",
   "execution_count": null,
   "metadata": {},
   "outputs": [],
   "source": []
  }
 ],
 "metadata": {
  "kernelspec": {
   "display_name": "Python 3",
   "language": "python",
   "name": "python3"
  },
  "language_info": {
   "codemirror_mode": {
    "name": "ipython",
    "version": 3
   },
   "file_extension": ".py",
   "mimetype": "text/x-python",
   "name": "python",
   "nbconvert_exporter": "python",
   "pygments_lexer": "ipython3",
   "version": "3.8.3"
  }
 },
 "nbformat": 4,
 "nbformat_minor": 4
}
