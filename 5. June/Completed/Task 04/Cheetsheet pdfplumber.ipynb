{
 "cells": [
  {
   "cell_type": "markdown",
   "metadata": {},
   "source": [
    "# What is pdfplumber ?\n",
    "pdfplumber is a module in python that processes pdfs, gets all the text of the page, and provides a separate method for extracting the table. "
   ]
  },
  {
   "cell_type": "markdown",
   "metadata": {},
   "source": [
    "## Installation"
   ]
  },
  {
   "cell_type": "code",
   "execution_count": 1,
   "metadata": {},
   "outputs": [
    {
     "name": "stdout",
     "output_type": "stream",
     "text": [
      "Requirement already satisfied: pdfplumber in c:\\users\\vsvin\\anaconda3\\lib\\site-packages (0.5.25)\n",
      "Requirement already satisfied: Wand in c:\\users\\vsvin\\anaconda3\\lib\\site-packages (from pdfplumber) (0.6.5)\n",
      "Requirement already satisfied: Pillow>=7.0.0 in c:\\users\\vsvin\\anaconda3\\lib\\site-packages (from pdfplumber) (7.2.0)\n",
      "Collecting pdfminer.six==20200517\n",
      "  Using cached pdfminer.six-20200517-py3-none-any.whl (5.6 MB)\n",
      "Requirement already satisfied: sortedcontainers in c:\\users\\vsvin\\anaconda3\\lib\\site-packages (from pdfminer.six==20200517->pdfplumber) (2.2.2)\n",
      "Requirement already satisfied: pycryptodome in c:\\users\\vsvin\\anaconda3\\lib\\site-packages (from pdfminer.six==20200517->pdfplumber) (3.9.9)\n",
      "Requirement already satisfied: chardet; python_version > \"3.0\" in c:\\users\\vsvin\\anaconda3\\lib\\site-packages (from pdfminer.six==20200517->pdfplumber) (3.0.4)\n",
      "Installing collected packages: pdfminer.six\n",
      "  Attempting uninstall: pdfminer.six\n",
      "    Found existing installation: pdfminer.six 20201018\n",
      "    Uninstalling pdfminer.six-20201018:\n",
      "      Successfully uninstalled pdfminer.six-20201018\n"
     ]
    },
    {
     "name": "stderr",
     "output_type": "stream",
     "text": [
      "ERROR: camelot-py 0.8.2 has requirement pdfminer.six>=20200726, but you'll have pdfminer-six 20200517 which is incompatible.\n"
     ]
    },
    {
     "name": "stdout",
     "output_type": "stream",
     "text": [
      "Successfully installed pdfminer.six-20200517\n"
     ]
    }
   ],
   "source": [
    "!pip install pdfplumber"
   ]
  },
  {
   "cell_type": "markdown",
   "metadata": {},
   "source": [
    "## Python Library"
   ]
  },
  {
   "cell_type": "code",
   "execution_count": 1,
   "metadata": {},
   "outputs": [],
   "source": [
    "import pdfplumber"
   ]
  },
  {
   "cell_type": "markdown",
   "metadata": {},
   "source": [
    "### .open method / Loading of pdf"
   ]
  },
  {
   "cell_type": "code",
   "execution_count": 16,
   "metadata": {},
   "outputs": [
    {
     "name": "stdout",
     "output_type": "stream",
     "text": [
      "3\n",
      "792\n",
      "612\n",
      "UGC,  Status  Self-\n",
      "S. \n",
      "CRO  College Name Address District  Pin Code State  (Govt./  financing/unaid Phone No.\n",
      "No.\n",
      "Code Private) ed/ aided\n",
      "Madhya \n",
      "32 101034 Vanijya Mahavidyalaya Satna Satna 485001 Private Aided\n",
      "Pradesh\n",
      "Madhya \n",
      "33 101035 Sudarshan Mahavidyalaya Lalgoan Rewa 486115 Private  Aided\n",
      "Pradesh\n",
      "Madhya \n",
      "34 101036 Kamla Nehru Girls College Prem Nagar Satna 485001 Private Aided 07672-234291\n",
      "Pradesh\n",
      "Madhya \n",
      "35 101037 D.S. Mahavidyalaya Satna Satna 485001 Private Un-Aided 07672-222706\n",
      "Pradesh\n",
      "Madhya \n",
      "36 101039 Govt. Sanskrit College Devendra Nagar Panna 488333 Govt. Aided 07732-272285\n",
      "Pradesh\n",
      "Madhya \n",
      "37 101040 Govt. Law College Rewa Rewa 486001 Govt. Aided\n",
      "Pradesh\n",
      "Madhya \n",
      "38 101041 R.B.S.S. Mahavidyalaya Manikwar Rewa Private Aided\n",
      "486123 Pradesh\n",
      "Madhya \n",
      "39 101042 Govt. Degree College Gurh Rewa Govt. Aided\n",
      "486553 Pradesh\n",
      "2.Barkatullaha University, Bhopal (M.P.)\n",
      "Madhya \n",
      "40 102001 A.E.C. Training College & Centre Pachmarhi Hoshangabad 461881 Govt. Aided 07578-252948\n",
      "Pradesh\n",
      "Narela Sankari Ayodhya By  Madhya  0755 -\n",
      "41 102002 Bonnie-Foi College Bhopal 462021 Private Un-Aided\n",
      "Pass, Govindpura Pradesh 3257041,3257042\n",
      "Opp. Dussehara Maidan,  Madhya \n",
      "42 102003 Career College Bhopal 462023 Private Un-Aided 0755-2488427, \n",
      "Govindpura Pradesh\n",
      "Malviya Hostel Building,  Madhya \n",
      "43 102004 Govt. Arts & Commerce College Bhopal 462008 Govt. Aided 0755-2555326\n",
      "Behind PHQ, Jahangirabad Pradesh\n",
      "Madhya  07577-226736, \n",
      "44 102005 Govt. Arts & Commerce P.G. College Harda Harda 461331 Govt. Aided\n",
      "Pradesh 222048(Fax)\n",
      "Madhya \n",
      "45 102006 Govt. Degree College Amla Betul 460553 Govt. Aided 07147-288222\n",
      "Pradesh\n",
      "Madhya \n",
      "46 102007 Govt. College Bagdona, Sarni Betul 460449 Govt. Aided 07146-251144\n",
      "Pradesh\n",
      "Madhya \n",
      "47 102008 Govt. College Multai Betul 460661 Govt. Aided 07147-224153\n",
      "Pradesh\n",
      "B.H.E.L., Near Mahatma  Madhya  0755- 2681133 , \n",
      "48 102009 Govt. P.G. College  Bhopal 462021 Govt. Aided\n",
      "Gandhi Square, Barkhera Pradesh 2620133\n"
     ]
    }
   ],
   "source": [
    "import pdfplumber                                               #importing library in python\n",
    "\n",
    "with pdfplumber.open(\"collage_pdf.pdf\") as pdf:                #opening the pdf\n",
    "    first_page = pdf.pages[2]  #getting its pages\n",
    "    print(first_page.page_number)\n",
    "    print(first_page.width)                                  #further dividing the data of the single page\n",
    "    print(first_page.height) \n",
    "    print(first_page.extract_text())"
   ]
  },
  {
   "cell_type": "markdown",
   "metadata": {},
   "source": [
    "##### Initially to call pdfplumber.open(string), where string can be a: <br>\n",
    "path to your PDF file<br>\n",
    "file object, loaded as bytes<br>\n",
    "file-like object, loaded as bytes<br>\n",
    "<br>\n",
    "The open method returns an instance of the pdfplumber.PDF class.Further ,pdfplumber.PDF class represents a single PDF and has two main properties: .metadata and .pages<br>\n",
    "\n",
    "-- pdfplumber.Page class<br>\n",
    "The pdfplumber.Page class is at the core of pdfplumber. Most things you'll do with pdfplumber will revolve around this class. It has these main properties: .page_number,.width\t.height .\n"
   ]
  },
  {
   "cell_type": "markdown",
   "metadata": {},
   "source": [
    "## Tables from each page\n",
    "Enumerate() method adds a counter to an iterable and returns it in a form of enumerate object"
   ]
  },
  {
   "cell_type": "code",
   "execution_count": 15,
   "metadata": {},
   "outputs": [
    {
     "name": "stdout",
     "output_type": "stream",
     "text": [
      "0 --- [[['S. \\nNo.', 'UGC, \\nCRO \\nCode', 'College Name', 'Address', 'District', 'Pin Code', 'State', 'Status \\n(Govt./ \\nPrivate)', 'Self-\\nfinancing/unaid\\ned/ aided', 'Phone No.'], ['', '1.Awadesh Pratap Singh University, Rewa (M.P.)', None, None, '', '', '', '', '', ''], ['1', '101001', 'Arts Degree College', 'Sirmour', 'Rewa', '486448', 'Madhya \\nPradesh', 'Private', 'Aided', '07660-260626'], ['2', '101002', 'Arts Degree College', 'Semaria', 'Rewa', '486445', 'Madhya \\nPradesh', 'Private', 'Un-Aided', '07660-266503'], ['3', '101003', 'Govt. Arts & Commerce Degree \\nCollege', 'At. & P.O. Beohari', 'Shahdol', '484774', 'Madhya \\nPradesh', 'Govt.', 'Aided', '07650-262235'], ['4', '101004', 'Govt. Arts, Commerce & Science \\nCollege', 'Rampur Naikin', 'Sidhi', '486775', 'Madhya \\nPradesh', 'Govt.', 'Aided', '07802-280879'], ['5', '101005', 'Govt. College', 'Station Road', 'Satna', '485001', 'Madhya \\nPradesh', 'Govt.', 'Aided', '07672-223209'], ['6', '101006', 'Govt. College', 'Churhat', 'Sidhi', '486771', 'Madhya \\nPradesh', 'Govt.', 'Aided', ''], ['7', '101007', 'Govt. R.V.P.S. Degree College', 'Shahpura Road', 'Umaria', '484661', 'Madhya \\nPradesh', 'Govt.', 'Aided', '07653-222230'], ['8', '101008', 'Govt. College', 'Birsinghpur Pali', 'Umaria', '484551', 'Madhya \\nPradesh', 'Govt.', 'Aided', ''], ['9', '101009', 'Govt. College Of Education', 'University Road', 'Rewa', '486002', 'Madhya \\nPradesh', 'Govt.', 'Aided', '07662-258860'], ['10', '101010', 'Govt. College', 'Amarpatan', 'Satna', '485775', 'Madhya \\nPradesh', 'Govt.', 'Aided', '07675-272240'], ['11', '101011', 'R.N. Singh Govt. College', 'Waidhan', 'Singrauli', '486886', 'Madhya \\nPradesh', 'Govt.', 'Aided', '07805-233252'], ['12', '101012', 'Govt. Degree College', 'Jaisingh Nagar', 'Shahdol', '484771', 'Madhya \\nPradesh', 'Govt.', 'Aided', '07651-221288'], ['', '101014', 'Govt. Girls Degree College (as per \\nUGC Directory Only 2f)', 'North Karaudiya', 'Sidhi', '486661', 'Madhya \\nPradesh', 'Govt.', 'Aided', '07822-252378'], ['13', '101015', 'Govt. Girls College', 'Kothi Campus', 'Rewa', '486001', 'Madhya \\nPradesh', 'Govt.', 'Aided', '07662-252109'], ['14', '101016', 'Govt. Indira Gandhi Home Science \\nCollege', 'Pandav Nagar', 'Shahdol', '484001', 'Madhya \\nPradesh', 'Govt.', 'Aided', '07652-245110']]]\n",
      "1 --- [[['S. \\nNo.', 'UGC, \\nCRO \\nCode', 'College Name', 'Address', 'District', 'Pin Code', 'State', 'Status \\n(Govt./ \\nPrivate)', 'Self-\\nfinancing/unaid\\ned/ aided', 'Phone No.'], ['15', '101017', 'Govt. Girls Degree College', 'In front of Dheerendra Gas \\nGodown', 'Satna', '485001', 'Madhya \\nPradesh', 'Govt.', 'Aided', '07672-223148'], ['16', '101018', 'Govt. J.T. College', 'Maihar Road, Nagod', 'Satna', '485446', 'Madhya \\nPradesh', 'Govt.', 'Aided', '07673-232033'], ['17', '101019', 'Govt. M.M. Degree College', 'Kotma', 'Anuppur', '484334', 'Madhya \\nPradesh', 'Govt.', 'Aided', '07658-233175'], ['18', '101020', 'Govt. Model Science College', 'Civil Lines', 'Rewa', '486001', 'Madhya \\nPradesh', 'Govt.', 'Aided', '07662-256965'], ['19', '101021', 'Govt. Nehru Degree College', 'Burhar', 'Shahdol', '484110', 'Madhya \\nPradesh', 'Govt.', 'Aided', '07652-251771'], ['20', '101022', 'Govt. Madhav Sadashivrao Golvalkar \\nCollege', 'Central School Road', 'Rewa', '486001', 'Madhya \\nPradesh', 'Govt.', 'Aided', '07662-241236'], ['21', '101023', 'Pt. S.N. Shukla Govt.College', 'Near Kotwali', 'Shahdol', '484001', 'Madhya \\nPradesh', 'Govt.', 'Aided', '07652-241917'], ['22', '101024', 'Govt. Ramanand Sanskrit College', 'Gupha Mandir, Lalghati', 'Bhopal', '462032', 'Madhya \\nPradesh', 'Govt.', 'Aided', '0755-2748850'], ['23', '101025', 'Govt. S.K. College', 'Mauganj', 'Rewa', '486331', 'Madhya \\nPradesh', 'Govt.', 'aided', '07663-270324'], ['24', '101026', 'Govt. Swami Vivekanand College', 'Teonthar', 'Rewa', '486220', 'Madhya \\nPradesh', 'Govt.', 'Aided', '07661-282504'], ['25', '101027', 'Govt. T.R.S. Arts College', 'Civil Lines', 'Rewa', '486001', 'Madhya \\nPradesh', 'Govt.', 'Aided', '07662-252670'], ['26', '101028', 'Govt. Tulsi College', 'Anuppur', 'Anuppur', '', 'Madhya \\nPradesh', 'Govt.', 'Aided', ''], ['27', '101029', 'Govt. Venkat Sanskrit College', 'Rewa', 'Rewa', '', 'Madhya \\nPradesh', 'Govt.', 'aided', '07662-225617'], ['28', '101030', 'Govt. Vivekanand College', 'Maihar', 'Satna', '485771', 'Madhya \\nPradesh', 'Govt.', 'Aided', '07674-232139,232303'], ['29', '101031', 'Janta Mahavidyalaya', 'Anantpur', 'Rewa', '486002', 'Madhya \\nPradesh', 'Private', 'Aided', '07662-230413'], ['30', '101032', 'Govt. Sanjay Gandhi Memorial \\nCollege', 'North Karaudiya', 'Sidhi', '486661', 'Madhya \\nPradesh', 'Govt.', 'Aided', '07822-252251'], ['31', '101033', 'Seth Raghunath Prasad Arts & \\nCommerce Degree College', 'Hanumana', 'Rewa', '486335', 'Madhya \\nPradesh', 'Private', 'Aided', '07664-288533']]]\n",
      "2 --- [[['S. \\nNo.', 'UGC, \\nCRO \\nCode', 'College Name', 'Address', 'District', 'Pin Code', 'State', 'Status \\n(Govt./ \\nPrivate)', 'Self-\\nfinancing/unaid\\ned/ aided', 'Phone No.'], ['32', '101034', 'Vanijya Mahavidyalaya', 'Satna', 'Satna', '485001', 'Madhya \\nPradesh', 'Private', 'Aided', ''], ['33', '101035', 'Sudarshan Mahavidyalaya', 'Lalgoan', 'Rewa', '486115', 'Madhya \\nPradesh', 'Private', 'Aided', ''], ['34', '101036', 'Kamla Nehru Girls College', 'Prem Nagar', 'Satna', '485001', 'Madhya \\nPradesh', 'Private', 'Aided', '07672-234291'], ['35', '101037', 'D.S. Mahavidyalaya', 'Satna', 'Satna', '485001', 'Madhya \\nPradesh', 'Private', 'Un-Aided', '07672-222706'], ['36', '101039', 'Govt. Sanskrit College', 'Devendra Nagar', 'Panna', '488333', 'Madhya \\nPradesh', 'Govt.', 'Aided', '07732-272285'], ['37', '101040', 'Govt. Law College', 'Rewa', 'Rewa', '486001', 'Madhya \\nPradesh', 'Govt.', 'Aided', ''], ['38', '101041', 'R.B.S.S. Mahavidyalaya', 'Manikwar', 'Rewa', '486123', 'Madhya \\nPradesh', 'Private', 'Aided', ''], ['39', '101042', 'Govt. Degree College', 'Gurh', 'Rewa', '486553', 'Madhya \\nPradesh', 'Govt.', 'Aided', ''], ['', '2.Barkatullaha University, Bhopal (M.P.)', None, None, '', '', '', '', '', ''], ['40', '102001', 'A.E.C. Training College & Centre', 'Pachmarhi', 'Hoshangabad', '461881', 'Madhya \\nPradesh', 'Govt.', 'Aided', '07578-252948'], ['41', '102002', 'Bonnie-Foi College', 'Narela Sankari Ayodhya By \\nPass, Govindpura', 'Bhopal', '462021', 'Madhya \\nPradesh', 'Private', 'Un-Aided', '0755 -\\n3257041,3257042'], ['42', '102003', 'Career College', 'Opp. Dussehara Maidan, \\nGovindpura', 'Bhopal', '462023', 'Madhya \\nPradesh', 'Private', 'Un-Aided', '0755-2488427,'], ['43', '102004', 'Govt. Arts & Commerce College', 'Malviya Hostel Building, \\nBehind PHQ, Jahangirabad', 'Bhopal', '462008', 'Madhya \\nPradesh', 'Govt.', 'Aided', '0755-2555326'], ['44', '102005', 'Govt. Arts & Commerce P.G. College', 'Harda', 'Harda', '461331', 'Madhya \\nPradesh', 'Govt.', 'Aided', '07577-226736, \\n222048(Fax)'], ['45', '102006', 'Govt. Degree College', 'Amla', 'Betul', '460553', 'Madhya \\nPradesh', 'Govt.', 'Aided', '07147-288222'], ['46', '102007', 'Govt. College', 'Bagdona, Sarni', 'Betul', '460449', 'Madhya \\nPradesh', 'Govt.', 'Aided', '07146-251144'], ['47', '102008', 'Govt. College', 'Multai', 'Betul', '460661', 'Madhya \\nPradesh', 'Govt.', 'Aided', '07147-224153'], ['48', '102009', 'Govt. P.G. College', 'B.H.E.L., Near Mahatma \\nGandhi Square, Barkhera', 'Bhopal', '462021', 'Madhya \\nPradesh', 'Govt.', 'Aided', '0755- 2681133 , \\n2620133']]]\n",
      "3 --- [[['S. \\nNo.', 'UGC, \\nCRO \\nCode', 'College Name', 'Address', 'District', 'Pin Code', 'State', 'Status \\n(Govt./ \\nPrivate)', 'Self-\\nfinancing/unaid\\ned/ aided', 'Phone No.'], ['49', '102010', 'Institute of Advance Studies In \\nEducation', 'P.G.B.T. Campus, Berasia \\nRoad', 'Bhopal', '462038', 'Madhya \\nPradesh', 'Govt.', 'Aided', '0755-2735228'], ['50', '102011', 'Pt. Deen Dayal Upadhyay Govt. \\nCollege', 'Sagar-Bhopal Road, \\nBegamganj', 'Raisen', '', 'Madhya \\nPradesh', 'Govt.', 'Aided', '07487-272113'], ['51', '102012', 'Govt. College', 'Obedullaganj', 'Raisen', '464993', 'Madhya \\nPradesh', 'Govt.', 'Aided', '07480-224365'], ['52', '102013', 'Govt. Degree College', 'Post: Talni, Teh.:Sarangpur', 'Rajgarh', '465697', 'Madhya \\nPradesh', 'Govt.', 'Aided', '07371-222010'], ['53', '102014', 'Govt. Degree College', 'Rahat Gaon Road, Timarni', 'Harda', '461228', 'Madhya \\nPradesh', 'Govt.', 'Aided', '07573-230269'], ['54', '102015', 'Govt. Girls College', 'Sadar, Betul', 'Betul', '460001', 'Madhya \\nPradesh', 'Govt.', 'Aided', '07141-238446'], ['55', '102016', 'Govt. Girls College', 'Sanchi Road', 'Vidisha', '464001', 'Madhya \\nPradesh', 'Govt.', 'Aided', '07592-234553 (f)'], ['56', '102017', 'Govt. Girls College', 'Near LIC Office, Nayas \\nColony, Itarsi', 'Hoshangabad', '461111', 'Madhya \\nPradesh', 'Govt.', 'Aided', '07572-237390'], ['57', '102018', 'Govt. Girls College', 'Bhopal Naka, Sehore', 'Sehore', '466001', 'Madhya \\nPradesh', 'Govt.', 'Aided', '07562-224706'], ['58', '102019', 'Govt. Geetanjali Girls College', 'Near DIG Bungalow, \\nBerasia Road', 'Bhopal', '462038', 'Madhya \\nPradesh', 'Govt.', 'Aided', '0755-2733166'], ['59', '102020', 'Govt. Degree College', 'Kannod Road, Ashta', 'Sehore', '466116', 'Madhya \\nPradesh', 'Govt.', 'Aided', '07560-242237'], ['60', '102021', 'Govt. Hamidia Arts & Commerce \\nCollege', 'Budhwara', 'Bhopal', '', 'Madhya \\nPradesh', 'Govt.', 'Aided', '0755-2660447 , \\n2660081'], ['61', '102022', 'Govt. Home Science College', 'Hoshangabad', 'Hoshangabad', '461001', 'Madhya \\nPradesh', 'Govt.', 'Aided', '07574-254072 , 25472 , \\n250132'], ['62', '102023', 'Govt. Kusum Mahavidyalaya', 'Seoni Malwa', 'Hoshangabad', '461221', 'Madhya \\nPradesh', 'Govt.', 'Aided', '07570-224457'], ['63', '102024', 'Govt. Lal Bahadur Shastri College', 'Mandi Bamora Road, Sironj', 'Vidisha', '464228', 'Madhya \\nPradesh', 'Govt.', 'Aided', '07591-253024'], ['64', '102025', 'Govt. Maharani Laxmi Bai Girls \\nCollege', 'Polytechnic Square, Civil \\nLine', 'Bhopal', '462002', 'Madhya \\nPradesh', 'Govt.', 'Aided', '0755-6535351 \\n,2660707 , 2660717'], ['65', '102026', 'Govt. Mahatma Gandhi Memorial \\nCollege', 'Itarsi', 'Hoshangabad', '461111', 'Madhya \\nPradesh', 'Govt.', 'Aided', '07572-240916']]]\n"
     ]
    },
    {
     "name": "stdout",
     "output_type": "stream",
     "text": [
      "4 --- [[['S. \\nNo.', 'UGC, \\nCRO \\nCode', 'College Name', 'Address', 'District', 'Pin Code', 'State', 'Status \\n(Govt./ \\nPrivate)', 'Self-\\nfinancing/unaid\\ned/ aided', 'Phone No.'], ['66', '102027', 'Govt. Motilal Vigyan Mahavidyalaya', 'Near Old Vidhan Sabha, \\nJahangirabad', 'Bhopal', '462008', 'Madhya \\nPradesh', 'Govt.', 'Aided', '0755-2551460'], ['67', '102028', 'Govt. Narmada P.G. Mahavidyalaya', 'Sadar Bazar', 'Hoshangabad', '461001', 'Madhya \\nPradesh', 'Govt.', 'Aided', '07574-254095,  \\n254247, 254092'], ['68', '102029', 'Govt. Degree College', 'Hoshangabad Road, \\nPiparia', 'Hoshangabad', '461775', 'Madhya \\nPradesh', 'Govt.', 'Aided', '07576-220112'], ['69', '102030', 'Govt. College', 'Rajgarh (Biaora)', 'Rajgarh', '', 'Madhya \\nPradesh', 'Govt.', 'Aided', '07372-255033'], ['70', '102031', 'Govt. College', 'Narsinghgarh', 'Rajgarh', '465669', 'Madhya \\nPradesh', 'Govt.', 'Aided', '07375-245527'], ['71', '102032', 'Govt. College', 'Rajgarh Road, Biaora', 'Rajgarh', '465674', 'Madhya \\nPradesh', 'Govt.', 'Aided', '07374-232676'], ['72', '102033', 'Govt. College', 'Sehore', 'Sehore', '', 'Madhya \\nPradesh', 'Govt.', 'Aided', '07562-224240 (Tel/Fax)'], ['73', '102034', 'Govt. P.G. College', 'J.J. Road, Bareli', 'Raisen', '464668', 'Madhya \\nPradesh', 'Govt.', 'aided', '07486-230215'], ['74', '102035', 'Govt. Sanjay Gandhi Smriti College', 'Kalabag, Bareth Road, \\nGanj Basoda', 'Vidisha', '464221', 'Madhya \\nPradesh', 'Govt.', 'Aided', '07594-220056'], ['75', '102036', 'Govt. Science & Commerce College', 'Benazeer, Shahzanabad', 'Bhopal', '462008', 'Madhya \\nPradesh', 'Govt.', 'Aided', '0755-2551837'], ['76', '102037', 'Indira Priyadarshini College', 'Khanugaon, VIP Road', 'Bhopal', '462032', 'Madhya \\nPradesh', 'Private', 'Un-Aided', '0755-2738738 \\n(Tel/Fax), 2548181'], ['77', '102038', 'Institute For Excellence In Higher \\nEducation', 'Kaliyasot Dam, Kolar Road, \\nP.B.No.588', 'Bhopal', '462016', 'Madhya \\nPradesh', 'Govt.', 'aided', '0755-2492433, 242460, \\n2492492(Fax)'], ['78', '102039', 'Govt. P.G. College', 'Civil Lines, Betul', 'Betul', '460001', 'Madhya \\nPradesh', 'Govt.', 'Aided', '07141-234244, \\n234566(Fax)'], ['79', '102040', 'Jawahar Lal Nehru Memorial \\nMahavidyalaya', 'Sohagpur', 'Hoshangabad', '461771', 'Madhya \\nPradesh', 'Private', 'Aided', '07575-278261, 278262, \\n278286 (Fax)'], ['80', '102041', 'Jawaharlal Nehru College of \\nEducation', 'Opp. Forest Depot, Swarup \\nNagar, Ganj Basoda', 'Vidisha', '464221', 'Madhya \\nPradesh', 'Private', 'Aided', '07594-220801, \\n222132(Tel/Fax)'], ['81', '102042', 'Kasturba Girls College', '50, Teh.Hujur Marg, Back \\nside in Moti Masajid Car \\nParking', 'Bhopal', '462001', 'Madhya \\nPradesh', 'Private', 'Aided', '0755-2542677'], ['82', '102043', 'Narmada Education Society College \\nOf Education', 'Near Hero Honda \\nShowroom', 'Hoshangabad', '461001', 'Madhya \\nPradesh', 'Private', 'Un-Aided', '07574-253266, \\n252355(Fax)']]]\n",
      "5 --- [[['S. \\nNo.', 'UGC, \\nCRO \\nCode', 'College Name', 'Address', 'District', 'Pin Code', 'State', 'Status \\n(Govt./ \\nPrivate)', 'Self-\\nfinancing/unaid\\ned/ aided', 'Phone No.'], ['83', '102044', 'Pt. Deen Dayal Upadhyay Girls \\nCollege', 'Bairagarh', 'Bhopal', '', 'Madhya \\nPradesh', 'Private', 'Un-Aided', ''], ['84', '102045', 'Prachya Niketan (Cas. In Indo & \\nMusic)', '21,Malviya Nagar', 'Bhopal', '', 'Madhya \\nPradesh', 'Private', 'Un-Aided', ''], ['85', '102046', 'Rajeev Gandhi College', 'E-8, Trilanga Colony, \\nShahpura', 'Bhopal', '462039', 'Madhya \\nPradesh', 'Private', 'Un-Aided', '0755-2561360, \\n2561353, \\n2725133(Tel/Fax)'], ['86', '102047', 'Ravindra College', 'Panchsheel Nagar', 'Bhopal', '', 'Madhya \\nPradesh', 'Private', 'Aided', ''], ['87', '102048', 'Seth Shibatrai Laxmichand Jain \\nCollege', 'Vidisha', 'Vidisha', '', 'Madhya \\nPradesh', 'Private', 'Aided', ''], ['88', '102049', 'Swami Vivekanand Govt. College', 'Berasia', 'Bhopal', '463106', 'Madhya \\nPradesh', 'Govt.', 'Aided', '0755-2641488, \\n2640749 , 282211'], ['89', '102050', 'Sadhu Vaswani College', 'Sant Hirdaram Nagar, \\nBairagarh', 'Bhopal', '462030', 'Madhya \\nPradesh', 'Private', 'Aided', '0755-2641488, \\n5246264'], ['90', '102051', 'Saifia College', 'Saifia College Road, Near \\nBhopal Talkies', 'Bhopal', '462001', 'Madhya \\nPradesh', 'Private', 'Aided', '0755-2531684'], ['91', '102052', 'Sarojini Naidu Govt. Girls P.G. \\nCollege', 'Shivaji Nagar', 'Bhopal', '462016', 'Madhya \\nPradesh', 'Govt.', 'Aided', '0755-2552560 (Tel/Fax)'], ['92', '102053', 'Sri Lal Bahadur Shastri College', 'Ganj Basoda', 'Vidisha', '464221', 'Madhya \\nPradesh', 'Private', 'Aided', '07594-220436 , 220536'], ['93', '102054', 'Sri Sathya Sai Arts & Science College \\nFor Women', 'Near Kasturba Hospital, \\nBHEL', 'Bhopal', '462024', 'Madhya \\nPradesh', 'Private', 'Aided', '0755-2451119, \\n2782960,  Fax-2456308'], ['94', '102055', 'Govt. Girls College', 'Ganj Basoda', 'Vidisha', '464221', 'Madhya \\nPradesh', 'Govt.', 'Aided', '07594-269497, 222011'], ['95', '102056', 'Swami Vivekanand Govt. College', 'Sagar Road', 'Raisen', '464551', 'Madhya \\nPradesh', 'Govt.', 'Aided', '07482-222373'], ['96', '102057', 'The Bhopal School Of Social \\nSciences', 'Near Habibganj Naka', 'Bhopal', '462024', 'Madhya \\nPradesh', 'Private', 'Aided', '0755-2457283 , \\n2473013'], ['97', '102058', 'Vishnu Rajoriya Arts & Commerce \\nCollege', 'Khirkiya', 'Harda', '461441', 'Madhya \\nPradesh', 'Private', 'Aided', '07571-251128'], ['98', '102059', 'Sardar Ajit Singh Memorial Girls \\nCollege,', '1, Ashoka Garden, Raisen \\nRoad', 'Bhopal', '462023', 'Madhya \\nPradesh', 'Private', 'Un-Aided', '0755-4226300, \\n4061100']]]\n",
      "6 --- [[['S. \\nNo.', 'UGC, \\nCRO \\nCode', 'College Name', 'Address', 'District', 'Pin Code', 'State', 'Status \\n(Govt./ \\nPrivate)', 'Self-\\nfinancing/unaid\\ned/ aided', 'Phone No.'], ['99', '102060', 'Govt. College', 'Zeerapur', 'Rajgarh', '465691', 'Madhya \\nPradesh', 'Govt.', 'Aided', ''], ['100', '102061', 'Veer Savarkar Govt. College', 'Pachore', 'Rajgarh', '465683', 'Madhya \\nPradesh', 'Govt.', 'Aided', '07371-226453'], ['101', '102062', 'Makhan Lal Chaturvedi Govt. Degree \\nCollege', 'Babai', 'Hoshangabad', '', 'Madhya \\nPradesh', 'Govt.', 'Aided', '07574-259305'], ['102', '102063', 'Govt. College', 'Nasrullaganj', 'Sehore', '466331', 'Madhya \\nPradesh', 'Govt.', 'Aided', '07563-276083'], ['103', '102064', 'Regional College of Education', 'Shyamla Hills', 'Bhopal', '462013', 'Madhya \\nPradesh', 'Govt.', 'Aided', ''], ['104', '102065', 'Govt. College', 'Khilchipur', 'Rajgarh', '', 'Madhya \\nPradesh', 'Govt.', 'Aided', ''], ['105', '102066', 'Gandhi P.R. College', 'D-1, Danish Nagar, \\nHoshangabad Road', 'Bhopal', '462026', 'Madhya \\nPradesh', 'Private', 'Un-Aided', '0755-2417026, \\n2010446'], ['106', '102067', 'Govt. State Level Law College', 'Old Tilak Hostel, Near \\nPHQ, Jahangirabad', 'Bhopal', '462008', 'Madhya \\nPradesh', 'Govt.', 'Aided', '0755-2766256'], ['107', '102068', 'Sant Hirdaram Girls College', 'Sant Hirdaram Nagar, \\nBairagarh', 'Bhopal', '462030', 'Madhya \\nPradesh', 'Private', 'Un-Aided', '0755-2640174, \\n2640178'], ['108', '102069', 'Govt. Degree College', 'Ichhawar', 'Sehore', '466115', 'Madhya \\nPradesh', 'Govt.', 'Aided', '07561-274829'], ['109', '102070', 'Jawaharlal Nehru College', '56-C, Shyamla Hills, Civil \\nLines', 'Bhopal', '462002', 'Madhya \\nPradesh', 'Private', 'Un-Aided', '0755-2660949, \\n2661064'], ['110', '102071', 'Sha-Shib College of Science & \\nManagement', 'NH-12, Shahpura Road, \\nParvalia Sadak, Near \\nParvalia Thana', 'Bhopal', '462030', 'Madhya \\nPradesh', 'Private', 'Un-Aided', ''], ['', '3.Devi Ahilya University, Indore (M.P.)', None, None, '', '', '', '', '', ''], ['110', '103001', 'Devi Ahilya Girls Arts & Commerce \\nCollege', '8/1, Ushaganj, Jawra \\nCompound', 'Indore', '452001', 'Madhya \\nPradesh', 'Private', 'Un-Aided', '0731-2700273, \\n2700357, 2700342'], ['111', '103002', 'Shri Atal Bihari Vajpayee Govt. Arts & \\nCommerce College', 'A.B. Road, Bhanwarkua \\nSquare', 'Indore', '452001', 'Madhya \\nPradesh', 'Govt.', 'Aided', '0731-246000, 4464228']]]\n",
      "7 --- [[['S. \\nNo.', 'UGC, \\nCRO \\nCode', 'College Name', 'Address', 'District', 'Pin Code', 'State', 'Status \\n(Govt./ \\nPrivate)', 'Self-\\nfinancing/unaid\\ned/ aided', 'Phone No.'], ['112', '103003', 'Govt. College', 'Near Indore Naka', 'Dhar', '454001', 'Madhya \\nPradesh', 'Govt.', 'Aided', '07292-222572, 222259, \\n236707(Fax)'], ['113', '103004', 'Govt. B.S. College', 'Indore Road, Depalpur', 'Indore', '', 'Madhya \\nPradesh', 'Govt.', 'Aided', '07322-220247'], ['114', '103005', 'Govt. College', 'Sanwer', 'Indore', '453551', 'Madhya \\nPradesh', 'Govt.', 'Aided', '07321-220365'], ['115', '103006', 'Govt. Degree College', 'Badnawar', 'Dhar', '454660', 'Madhya \\nPradesh', 'Govt.', 'Aided', '07295-234004'], ['116', '103007', 'Govt. College', 'Dhamnod', 'Dhar', '454552', 'Madhya \\nPradesh', 'Govt.', 'Aided', '07291-233572'], ['117', '103008', 'Govt. P.G. College', 'Ranapur Road, Jhabua', 'Jhabua', '457661', 'Madhya \\nPradesh', 'Govt.', 'Aided', '07392-243349(Tel) \\n07392-245990'], ['118', '103009', 'Govt. College', 'Anjad', 'Barwani', '', 'Madhya \\nPradesh', 'Govt.', 'Aided', ''], ['119', '103010', 'Govt. College', 'Kukshi', 'Dhar', '454331', 'Madhya \\nPradesh', 'Govt.', 'Aided', ''], ['120', '103011', 'Govt. College', 'Mandleshwar', 'Khargone', '451221', 'Madhya \\nPradesh', 'Govt.', 'Aided', ''], ['121', '103012', 'Govt. College', 'Jobat', 'Alirajpur', '457990', 'Madhya \\nPradesh', 'Govt.', 'Aided', ''], ['122', '103013', 'Govt. College', 'Thandla', 'Jhabua', '', 'Madhya \\nPradesh', 'Govt.', 'Aided', ''], ['123', '103015', 'Govt. Arts & Commerce College', 'Sanawad', 'Khargone', '451111', 'Madhya \\nPradesh', 'Govt.', 'Aided', '07280-280391,233790'], ['124', '103016', 'Govt. College', 'Dharampuri', 'Dhar', '', 'Madhya \\nPradesh', 'Govt.', 'Aided', '07291-264384'], ['125', '103017', 'Govt. College', 'Narmada Marg, Khandwa \\nRoad, Barwaha', 'Khargone', '451115', 'Madhya \\nPradesh', 'Govt.', 'Aided', '07280-222861, \\n222626(Fax)'], ['126', '103018', 'Govt. College', 'Petlawad', 'Jhabua', '', 'Madhya \\nPradesh', 'Govt.', 'Aided', ''], ['127', '103019', 'Govt. College', 'Dhar Road, Manawar', 'Dhar', '454446', 'Madhya \\nPradesh', 'Govt.', 'Aided', '07294-232337, 232582'], ['128', '103020', 'Govt. Girls College', 'Mandav Road', 'Dhar', '454001', 'Madhya \\nPradesh', 'Govt.', 'Aided', '07292-222634, 222547']]]\n"
     ]
    },
    {
     "name": "stdout",
     "output_type": "stream",
     "text": [
      "8 --- [[['S. \\nNo.', 'UGC, \\nCRO \\nCode', 'College Name', 'Address', 'District', 'Pin Code', 'State', 'Status \\n(Govt./ \\nPrivate)', 'Self-\\nfinancing/unaid\\ned/ aided', 'Phone No.'], ['129', '103021', 'Govt. Girls College', 'Dashahara Maidan, \\nBarwani', 'Barwani', '451551', 'Madhya \\nPradesh', 'Govt.', 'Aided', '07290-222511'], ['130', '103022', 'Govt. Girls College', 'Jhabua', 'Jhabua', '', 'Madhya \\nPradesh', 'Govt.', 'Aided', ''], ['131', '103023', 'Govt. Girls College', 'Girls Campus, Tilak Path', 'Khargone', '451001', 'Madhya \\nPradesh', 'Govt.', 'Aided', '07282-231372(Tel/Fax)'], ['132', '103024', 'Mata Jeeja Bai Govt. Girls P.G. \\nCollege', 'Moti Tabela', 'Indore', '452002', 'Madhya \\nPradesh', 'Govt.', 'Aided', '0731-2366587'], ['133', '103025', 'Holkar Science College', 'A.B. Road, Near Bhanvar \\nKuan', 'Indore', '452017', 'Madhya \\nPradesh', 'Govt.', 'Aided', '0731-2464074, \\n2446806(Fax)'], ['134', '103026', 'Govt. Maharani Lakshmibai Girls P.G. \\nCollege', 'V.I.P. Road, Fort', 'Indore', '452006', 'Madhya \\nPradesh', 'Govt.', 'Aided', '0731-2411696(Tel/Fax)'], ['135', '103027', 'Govt. Nirbhaya Singh Patel Science \\nCollege', 'Holkar Campus, A.B. Road', 'Indore', '452001', 'Madhya \\nPradesh', 'Govt.', 'Aided', '0731-2761712 (Tel/Fax)'], ['136', '103028', 'Govt. Arts & Commerce College', 'Hospital Road, Alirajpur', 'Alirajpur', '457887', 'Madhya \\nPradesh', 'Govt.', 'Aided', '03794-233852'], ['137', '103029', 'Bherulal Patidar Govt. P.G. College', 'A.B. Road, Mhow', 'Indore', '453441', 'Madhya \\nPradesh', 'Govt.', 'Aided', '07324-273691,        \\n226037 (Fax)'], ['138', '103030', 'Govt. P.G. College', 'Bistan Road', 'Khargone \\n(West Nimar)', '451001', 'Madhya \\nPradesh', 'Govt.', 'Aided', '07282-\\n241562,241963(Fax)'], ['139', '103031', 'Govt. College', 'Sendhwa', 'Barwani', '', 'Madhya \\nPradesh', 'Govt.', 'Aided', '07281-222109'], ['140', '103032', 'Shaheed Bheema Nayak Govt. P.G. \\nCollege', 'Khandwa-Baroda Road', 'Barwani', '451551', 'Madhya \\nPradesh', 'Govt.', 'Aided', '07290-222035, \\n222580(Fax)'], ['141', '103033', 'Govt. Sanskrit Degree College', 'tilak Path, Ram Bag', 'Indore', '452004', 'Madhya \\nPradesh', 'Govt.', 'Aided', '0731-2540569'], ['142', '103034', 'Indore Christian College', '1,Staff Quarter Indore \\nChristian College,Nasia', 'Indore', '452001', 'Madhya \\nPradesh', 'Private', 'Aided', '0731-6543376'], ['143', '103035', 'Indore School Of Social Work', 'R d\\n13-14, Old Sehore Road,', 'Indore', '452001', 'Madhya \\nPradesh', 'Private', 'Aided', ''], ['144', '103036', 'Islamia Karimia Degree College', 'Sanyogita Ganj, Chhawani', 'Indore', '452001', 'Madhya \\nPradesh', 'Private', 'Aided', '0731-2705781, \\n2705112(Fax)'], ['145', '103037', 'Kasturbagram Rural Institute', 'Kasturbagram, Khandwa \\nRoad', 'Indore', '452020', 'Madhya \\nPradesh', 'Private', 'Un-Aided', '0731-2874065']]]\n",
      "9 --- [[['S. \\nNo.', 'UGC, \\nCRO \\nCode', 'College Name', 'Address', 'District', 'Pin Code', 'State', 'Status \\n(Govt./ \\nPrivate)', 'Self-\\nfinancing/unaid\\ned/ aided', 'Phone No.'], ['146', '103038', 'Makhan Lal Chaturvedi Govt. Girls \\nP.G. College', 'Indore Road, Pandawa', 'Khandwa', '', 'Madhya \\nPradesh', 'Govt.', 'Aided', '0733-2244097'], ['147', '103039', 'Christian Eminent Academy of \\nManagement, Professional Education \\nand Research', 'F-Sector, H.I.G., Ravi \\nShankar Shukla Nagar, \\nMain Road', 'Indore', '452011', 'Madhya \\nPradesh', 'Private', 'Un-Aided', '0731-2550786, \\n2555610'], ['148', '103040', 'M.K.H.S. Gujrati Girls College', 'Maharani Road', 'Indore', '452007', 'Madhya \\nPradesh', 'Private', 'Aided', '0731-2538514,253851 \\n2536465(Fax)'], ['149', '103041', 'P.M.B. Gujarati Commerce College', '1, Nasia Road \\nSanyogitaganj', 'Indore', '452001', 'Madhya \\nPradesh', 'Private', 'Aided', '0731-2701203, \\n2701205'], ['150', '103042', 'P.M.B. Gujarati Science College', '1, Nasia Road \\nSanyogitaganj', 'Indore', '452001', 'Madhya \\nPradesh', 'Private', 'Aided', '0731-2703207, \\n2703447(Tel/Fax)'], ['151', '103043', 'P.M.B. Gujarati Arts & Law College', '1, Nasia Road, Sardar \\nPatel Ground', 'Indore', '452001', 'Madhya \\nPradesh', 'Private', 'Aided', '0731-2700739, \\n2703447 (Fax)'], ['152', '103044', 'Shri Cloth Market Kanya Vanijya \\nMahavidyalaya', 'Ganeshganj', 'Indore', '452002', 'Madhya \\nPradesh', 'Private', 'Aided', '0731-2419002, \\n2419004'], ['153', '103045', 'Smt. Mateshwari Sugnidevi (S.M.S.) \\nGirls College', 'Pardeshipura', 'Indore', '452008', 'Madhya \\nPradesh', 'Private', 'Aided', '0731-2551135, \\n2576285'], ['154', '103046', 'Shri Neelkantheshwar  Govt. P.G. \\nCollege', 'Near Railway Bridge, Civil \\nLine', 'Khandwa', '450001', 'Madhya \\nPradesh', 'Govt.', 'Aided', '0733-2222206, \\n2228610'], ['155', '103047', 'Saifee Golden Jubilee Q. College', 'Burahanpur', 'Burahanpur', '450331', 'Madhya \\nPradesh', 'Private', 'Aided', '07325-255211(Tel/Fax)'], ['156', '103048', 'Seva Sadan Mahavidyalaya', 'Shanwara', 'Burahanpur', '450331', 'Madhya \\nPradesh', 'Private', 'Aided', '07325-254926'], ['157', '103049', 'Shri Rajendra Suri Govt. College', 'Sardarpur', 'Rajgarh', '', 'Madhya \\nPradesh', 'Govt.', 'Aided', '07296-234353'], ['158', '103050', 'Shri Vaishnav College Of Commerce', 'Scheme No.71, Gumasta \\nNagar Sukh Nivas Road', 'Indore', '452009', 'Madhya \\nPradesh', 'Private', 'Un-Aided', '0731-2780009, \\n2380060'], ['159', '103051', 'Swarg Mandir Kanya Mahavidyalaya', 'Mhow', 'Indore', '453441', 'Madhya \\nPradesh', 'Private', 'Un-Aided', '07324-272722'], ['160', '103052', 'Pt. J.N. Govt. Degree College', 'Nepanagar', 'Burahanpur', '', 'Madhya \\nPradesh', 'Govt.', 'Aided', '07325-222243'], ['161', '103053', 'Govt. College', 'Harsud(Chhanera)', 'Khandwa \\n(East Nimar)', '', 'Madhya \\nPradesh', 'Govt.', 'Aided', '07327-272378'], ['162', '103054', 'Govt. Degree College', 'Bhikangaon', 'Khargone \\n(West Nimar)', '451331', 'Madhya \\nPradesh', 'Govt.', 'Aided', '07288-292430']]]\n",
      "10 --- [[['S. \\nNo.', 'UGC, \\nCRO \\nCode', 'College Name', 'Address', 'District', 'Pin Code', 'State', 'Status \\n(Govt./ \\nPrivate)', 'Self-\\nfinancing/unaid\\ned/ aided', 'Phone No.'], ['163', '103055', 'Pioneer Institute of Professional \\nStudies', 'Mahalaxmi Nagar, Ring \\nRoad, Opp. Bombay \\nHospital', 'Indore', '452010', 'Madhya \\nPradesh', 'Private', 'Un-Aided', '0731-2570645'], ['164', '103056', 'M.B. Khalsa College', 'Rajmohalla Square, Near \\nGangwal Bus Stand', 'Indore', '452002', 'Madhya \\nPradesh', 'Private', 'Un-Aided', ''], ['165', '103057', 'Rukmadevi Pannalal Laddha \\nMaheshwari College', '51, Chhatribagh', 'Indore', '452002', 'Madhya \\nPradesh', 'Private', 'Un-Aided', ''], ['166', '103058', 'Softvision College', 'Sector-F, Scheme No.54, \\nOpp. Meghdoot Garden', 'Indore', '452010', 'Madhya \\nPradesh', 'Private', 'Un-Aided', ''], ['167', '103059', 'Govt. College', 'Rajpur', 'Barwani', '', 'Madhya \\nPradesh', 'Govt.', 'Aided', ''], ['168', '103060', 'Poonamchand Gupta Vocational \\nCollege', 'Post Box No.33, Civil Lines', 'Khandwa', '450001', 'Madhya \\nPradesh', 'Private', 'Un-Aided', ''], ['169', '103061', 'Maharaja Ranjit Singh College of \\nProfessional Sciences', 'Hemkunt Campus, \\nKhandwa Road', 'Indore', '452001', 'Madhya \\nPradesh', 'Private', 'Un-Aided', '0731-2364151, \\n2364184, 2471626'], ['170', '103062', 'Govt. New Law College', 'Indore', 'Indore', '', 'Madhya \\nPradesh', 'Govt.', 'Aided', ''], ['171', '103063', 'Govt. College', 'Kasrawad', 'Khargone', '', 'Madhya \\nPradesh', 'Govt.', 'Aided', ''], ['', '4.Dr. Hari Singh Gour University, Sagar (M.P.)', None, None, '', '', '', '', '', ''], ['172', '104001', 'Govt. Arts & Commerce College', 'Pandhurna', 'Chhindwara', '480334', 'Madhya \\nPradesh', 'Govt.', 'Aided', '07164-220068 (Tel/Fax)'], ['173', '104002', 'Arts & Commerce College', 'Chaurai', 'Chhindwara', '480115', 'Madhya \\nPradesh', 'Private', 'Aided', '07166-222184, \\n9993057653'], ['174', '104003', 'Arts & Commerce College', 'Railway Station, Sausar', 'Chhindwara', '480106', 'Madhya \\nPradesh', 'Private', 'Aided', '07165-220092 (Tel/Fax)'], ['175', '104004', 'Bapu Mahavidyalya', 'Nowgong', 'Chhatarpur', '', 'Madhya \\nPradesh', 'Private', 'Un-Aided', ''], ['176', '104005', 'Danielson College', 'Chhindwara', 'Chhindwara', '480001', 'Madhya \\nPradesh', 'Private', 'Aided', '07162-247465, 225933, \\n226235, 230355(Fax)'], ['177', '104006', 'Govt. Arts & Commerce College', 'Tilli Road', 'Sagar', '470001', 'Madhya \\nPradesh', 'Govt.', 'Aided', '07582-236283 (Tel/Fax)'], ['178', '104007', 'Govt. College', 'Tikamgarh', 'Tikamgarh', '472001', 'Madhya \\nPradesh', 'Govt.', 'Aided', '07683-242335 (Tel/Fax)\\n242386']]]\n"
     ]
    },
    {
     "name": "stdout",
     "output_type": "stream",
     "text": [
      "11 --- [[['S. \\nNo.', 'UGC, \\nCRO \\nCode', 'College Name', 'Address', 'District', 'Pin Code', 'State', 'Status \\n(Govt./ \\nPrivate)', 'Self-\\nfinancing/unaid\\ned/ aided', 'Phone No.'], ['179', '104008', 'Govt. P.G. College', 'Dharam Tekri', 'Chhindwara', '480002', 'Madhya \\nPradesh', 'Govt.', 'Aided', '07162-236477, 244326, \\n24325(Fax)'], ['180', '104009', 'Govt. Chhatrasal Maharaja College', 'Maharajpur', 'Chhatarpur', '', 'Madhya \\nPradesh', 'Govt.', 'Aided', '07685-272227'], ['181', '104010', 'Govt. College', 'Sausar', 'Chhindwara', '', 'Madhya \\nPradesh', 'Govt.', 'Aided', '07165-220179'], ['182', '104011', 'Govt. College', 'Rehli', 'Sagar', '', 'Madhya \\nPradesh', 'Govt.', 'Aided', '07585-256253'], ['183', '104012', 'Govt. Junnerdeo College', 'Junardeo', 'Chhindwara', '480551', 'Madhya \\nPradesh', 'Govt.', 'Aided', '07160-231050, \\n231378(Fax)'], ['184', '104013', 'Govt. College', 'Bina Raod, Khurai', 'Sagar', '470117', 'Madhya \\nPradesh', 'Govt.', 'Aided', '07581-241158, 240845'], ['185', '104014', 'Govt. Degree College', 'Pawai', 'Panna', '488446', 'Madhya \\nPradesh', 'Govt.', 'Aided', ''], ['186', '104015', 'Govt. Degree College', 'Laundi', 'Chhatarpur', '', 'Madhya \\nPradesh', 'Govt.', 'Aided', '07687-251281'], ['187', '104016', 'Govt. Degree College', 'Niwari', 'Tikamgarh', '472442', 'Madhya \\nPradesh', 'Govt.', 'Aided', '07680-232338(Tel/Fax)'], ['188', '104017', 'Govt. College', 'Bijawar', 'Chhatarpur', '471405', 'Madhya \\nPradesh', 'Govt.', 'Aided', '07608-253203'], ['189', '104018', 'Govt. Girls Degree College', 'Bada Bazar', 'Panna', '488001', 'Madhya \\nPradesh', 'Govt.', 'Aided', '07732-253115'], ['190', '104019', 'Rajmata Scindia Govt. Girls College', 'Fowara Chowk, Near Bus \\nStand', 'Chhindwara', '480001', 'Madhya \\nPradesh', 'Govt.', 'Aided', '07162-242118, 243941, \\n242118 (Fax)'], ['191', '104020', 'Govt. Girls College', 'Near Court Khimlasha \\nRoad, Bina', 'Sagar', '470113', 'Madhya \\nPradesh', 'Govt.', 'Aided', '07580-223156'], ['192', '104021', 'Govt. Girls College', 'Chhatarpur', 'Chhatarpur', '471001', 'Madhya \\nPradesh', 'Govt.', 'Aided', '07682-248647, \\n244970/243430(Fax)'], ['193', '104022', 'Govt. Kamla Nehru Mahila \\nMahavidyalaya', 'Damoh', 'Damoh', '', 'Madhya \\nPradesh', 'Govt.', 'Aided', ''], ['194', '104023', 'Govt. Maharaja College', 'Chhatarpur', 'Chhatarpur', '471001', 'Madhya \\nPradesh', 'Govt.', 'Aided', '07682-246508 (Tel/Fax)'], ['195', '104024', 'Govt. Nehru College', 'Near Police Station, By \\nPass Road, Nh-26,Deori', 'Sagar', '470226', 'Madhya \\nPradesh', 'Govt.', 'Aided', '07586-250225, \\n250069(Fax)']]]\n",
      "12 --- [[['S. \\nNo.', 'UGC, \\nCRO \\nCode', 'College Name', 'Address', 'District', 'Pin Code', 'State', 'Status \\n(Govt./ \\nPrivate)', 'Self-\\nfinancing/unaid\\ned/ aided', 'Phone No.'], ['196', '104025', 'Chhatrasal Govt. College', 'Panna', 'Panna', '488001', 'Madhya \\nPradesh', 'Govt.', 'Aided', '07732-252020'], ['197', '104026', 'Govt. P.G. College', 'Jabalpur Road', 'Damoh', '470661', 'Madhya \\nPradesh', 'Govt.', 'Aided', '07812-222365, \\n2224261 227148(Fax)'], ['198', '104027', 'Govt. Degree College', 'Bina', 'Sagar', '470113', 'Madhya \\nPradesh', 'Govt.', 'Aided', '07580-222051, \\n221220(Fax)'], ['199', '104028', 'Govt. Girls Degree College', 'Sagar', 'Sagar', '470001', 'Madhya \\nPradesh', 'Govt.', 'Aided', '07582-223573 (Tel/Fax)'], ['200', '104029', 'Govt. Panchvalley P.G. College', 'Parasia, Jamai Road', 'Chhindwara', '480441', 'Madhya \\nPradesh', 'Govt.', 'Aided', '07161-220116'], ['201', '104030', \"Govt. Girl's  College\", 'Jail Road', 'Tikamgarh', '472001', 'Madhya \\nPradesh', 'Govt.', 'Aided', '07683-242485'], ['202', '104031', 'Satpura College For Law', 'Near Bus Stand , Mohan \\nNagar', 'Chhindwara', '480001', 'Madhya \\nPradesh', 'Private', 'Un-Aided', '07162-223147, \\n223147(F)'], ['203', '104032', 'Shri Hari Singh Gour College', 'Laxmipura', 'Sagar', '470002', 'Madhya \\nPradesh', 'Private', 'Aided', '07582-233721 (Tel/Fax)'], ['204', '104033', 'Govt. Degree College', 'Banda', 'Sagar', '470335', 'Madhya \\nPradesh', 'Govt.', 'Aided', '07583-252252, 280388'], ['205', '104034', 'Govt. Degree College', 'Narshinghpur Road, \\nAmarwara', 'Chhindwara', '480221', 'Madhya \\nPradesh', 'Govt.', 'Aided', '07167-222411 (Tel/Fax)'], ['206', '104035', 'Degree College', 'Khuarai', 'Sagar', '', 'Madhya \\nPradesh', 'Private', 'Un-Aided', ''], ['207', '104036', 'Govt. Science College', 'Pandhurna', 'Chhindwara', '480334', 'Madhya \\nPradesh', 'Govt.', 'Aided', '07164-220338 (Tel/Fax)'], ['208', '104037', 'Govt. Science College', 'Sausar', 'Chhindwara', '', 'Madhya \\nPradesh', 'Govt.', 'Aided', ''], ['209', '104038', 'Shri Raghvendra Sing Hazari Govt. \\nDegree College', 'Hatta', 'Damoh', '470775', 'Madhya \\nPradesh', 'Govt.', 'Aided', '07604-262277'], ['210', '104039', 'Govt. Degree College', 'Near Power House, \\nBichhua', 'Chhindwara', '480111', 'Madhya \\nPradesh', 'Govt.', 'Aided', ''], ['211', '104040', 'Pt. Motilal Nehru Law College', 'Sagar Road, Chhatarpur', 'Chhatarpur', '471001', 'Madhya \\nPradesh', 'Private', 'Un-Aided', '07682-248511, 244513'], ['', None, None, '', '', '', '', '', '', '']]]\n",
      "13 --- [[['S. \\nNo.', 'UGC, \\nCRO \\nCode', 'College Name', 'Address', 'District', 'Pin Code', 'State', 'Status \\n(Govt./ \\nPrivate)', 'Self-\\nfinancing/unaid\\ned/ aided', 'Phone No.'], ['212', '105001', 'Ambah P.G. College', 'Morena Road, Ambah', 'Morena', '476111', 'Madhya \\nPradesh', 'Private', 'Aided', '07538-255635'], ['213', '105002', 'Choudhary Yadunath Singh College', 'Diversion Road, Near \\nCircuit House, Lahar Road', 'Bhind', '477001', 'Madhya \\nPradesh', 'Private', 'Un-Aided', '07534-230757'], ['214', '105003', 'College Of Life Sciences Cancer \\nHospital', 'Cencer Hospital Campus, \\nMandle Ki Mata, Cencer \\nHills', 'Gwalior', '474009', 'Madhya \\nPradesh', 'Private', 'Un-Aided', '0751-2336502/03/04/05'], ['215', '105004', 'Cancer Hospital (Jan Vikas Nyas) \\nNursingh College', 'Jan Vikas Nyas, Mandre Ki \\nMata Hills,', 'Gwalior', '474009', 'Madhya \\nPradesh', 'Private', 'Un-Aided', '0751-2336502,3,4 & \\nFAX-2336506'], ['216', '105005', 'Dr. Bhagwat Sahai Smarak Govt. \\nCollege', 'Malgada Tiraha', 'Gwalior', '474003', 'Madhya \\nPradesh', 'Govt.', 'Aided', '0751-2451379'], ['217', '105006', 'Govt. Arts & Commerce College', 'Mohna', 'Gwalior', '475330', 'Madhya \\nPradesh', 'Govt.', 'Aided', '07526271626'], ['218', '105007', 'Govt. Chhatrasal College', 'Pichore', 'Shivpuri', '', 'Madhya \\nPradesh', 'Govt.', 'Aided', '07496-245229'], ['219', '105008', 'Govt. College', 'Alampur', 'Bhind', '477449', 'Madhya \\nPradesh', 'Govt.', 'Aided', ''], ['220', '105009', 'Govt. College', 'Aron', 'Guna', '473101', 'Madhya \\nPradesh', 'Govt.', 'Aided', '07545-258283'], ['221', '105010', 'Govt. College', 'Karera', 'Shivpuri', '473660', 'Madhya \\nPradesh', 'Govt.', 'Aided', '07493-253323'], ['222', '105011', 'Govt. College Of Education', 'Jansen Road', 'Gwalior', '474004', 'Madhya \\nPradesh', 'Govt.', 'Aided', '0751-4026158, \\n4026712(Fax)'], ['223', '105012', 'Govt. Degree College', 'Porsa', 'Morena', '476115', 'Madhya \\nPradesh', 'Govt.', 'Aided', ''], ['224', '105013', 'Govt. Degree College', 'Chachoda-Binaganj', 'Guna', '473118', 'Madhya \\nPradesh', 'Govt.', 'Aided', '07546-240289'], ['225', '105014', 'Govt. Degree College', 'Kolaras', 'Shivpuri', '473770', 'Madhya \\nPradesh', 'Govt.', 'Aided', '07494-242149'], ['226', '105015', 'Govt. Degree College', 'Lahar', 'Bhind', '477445', 'Madhya \\nPradesh', 'Govt.', 'Aided', ''], ['227', '105016', 'Govt. Degree College', 'Raghogarh', 'Guna', '473226', 'Madhya \\nPradesh', 'Govt.', 'Aided', '07544-262306'], ['228', '105017', 'Govt. Gandhi College', 'Balaji-Mihona', 'Bhind', '', 'Madhya \\nPradesh', 'Govt.', 'Aided', '07529-250211 (Tel/Fax)']]]\n",
      "14 --- [[['S. \\nNo.', 'UGC, \\nCRO \\nCode', 'College Name', 'Address', 'District', 'Pin Code', 'State', 'Status \\n(Govt./ \\nPrivate)', 'Self-\\nfinancing/unaid\\ned/ aided', 'Phone No.'], ['229', '105018', 'Govt. Girls College', 'Shivpuri', 'Shivpuri', '', 'Madhya \\nPradesh', 'Govt.', 'Aided', '07492-221183'], ['230', '105019', 'Govt. Girls College', 'Morena', 'Morena', '', 'Madhya \\nPradesh', 'Govt.', 'Aided', '07532-226578'], ['231', '105020', 'Govt. Girls Degree College', 'Morar', 'Gwalior', '474006', 'Madhya \\nPradesh', 'Govt.', 'Aided', '0751-2368329'], ['232', '105021', 'Govt. Govind College', 'Seondha', 'Datia', '475682', 'Madhya \\nPradesh', 'Govt.', 'Aided', '07521-271250'], ['233', '105022', 'Govt. Kamla Raja Girls P.G. \\nAutonomous College', 'Kampoo, Lashkar', 'Gwalior', '474001', 'Madhya \\nPradesh', 'Govt.', 'Aided', '2325495, 4073495'], ['234', '105023', 'Govt. Kasturba Girls College', 'Guna', 'Guna', '473001', 'Madhya \\nPradesh', 'Govt.', 'Aided', '07542-226192'], ['235', '105024', 'Govt.Laxmi Saraswati Gopal Krishna \\nCollege', 'Pohri', 'Shivpuri', '', 'Madhya \\nPradesh', 'Govt.', 'Aided', ''], ['236', '105025', 'M.J.S. Govt. P.G. College', 'Bypass Road', 'Bhind', '477001', 'Madhya \\nPradesh', 'Govt.', 'Aided', '07534-236134'], ['237', '105026', 'Govt. Madhav College', 'Chanderi', 'Ashoknagar', '473446', 'Madhya \\nPradesh', 'Govt.', 'Aided', '07547-253226'], ['238', '105027', 'Govt. Maharishi Arvind College', 'Gohad', 'Bhind', '', 'Madhya \\nPradesh', 'Govt.', 'Aided', ''], ['239', '105028', 'Govt. Model Science College', 'Jhansi Road', 'Gwalior', '474009', 'Madhya \\nPradesh', 'Govt.', 'Aided', '0751-2323649, \\n4004438'], ['240', '105029', 'Govt. Navin Girls College', 'Near IIITM College, Morena \\nLink Road', 'Gwalior', '', 'Madhya \\nPradesh', 'Govt.', 'Aided', ''], ['241', '105030', 'Govt. Nehru College', 'Ashok Nagar, Bypass \\nIssagarh Road', 'Guna', '473331', 'Madhya \\nPradesh', 'Govt.', 'Aided', '07543-220834'], ['242', '105031', 'Govt. Nehru Degree College', 'Sabalgarh', 'Morena', '476229', 'Madhya \\nPradesh', 'Govt.', 'Aided', '07536-252349, \\n252255(Fax)'], ['243', '105032', 'Govt. P.G. College', 'Datia', 'Datia', '475661', 'Madhya \\nPradesh', 'Govt.', 'Aided', '07522-234538, 238574, \\n406405, 401847(Fax)'], ['244', '105033', 'Govt. P.G. College', 'Guna, Madhav Rao \\nShindhiya Road, In Front', 'Guna', '473001', 'Madhya \\nPradesh', 'Govt.', 'Aided', '07542-251641 (Tel/Fax)'], ['245', '105034', 'Govt. Shrimant Madhavrao Scindia \\nP.G. College', 'OfS j St di\\nT.V. Tawar Road', 'Shivpuri', '473551', 'Madhya \\nPradesh', 'Govt.', 'Aided', '07492-223481']]]\n",
      "15 --- [[['S. \\nNo.', 'UGC, \\nCRO \\nCode', 'College Name', 'Address', 'District', 'Pin Code', 'State', 'Status \\n(Govt./ \\nPrivate)', 'Self-\\nfinancing/unaid\\ned/ aided', 'Phone No.'], ['246', '105035', 'Govt. P.G. College', 'Railway Crossing', 'Morena', '476001', 'Madhya \\nPradesh', 'Govt.', 'Aided', '07532-226478 (Tel/Fax)'], ['247', '105036', 'Govt. P.G. College', 'Sheopur Kala', 'Sheopur', '476337', 'Madhya \\nPradesh', 'Govt.', 'Aided', '07530-222142 (Tel/Fax)'], ['248', '105037', 'Shyam Lal Pandviya Govt. College', 'Morar', 'Gwalior', '474006', 'Madhya \\nPradesh', 'Govt.', 'Aided', '0751-2368320'], ['249', '105038', 'Govt. V.R.S. College', 'Bhander', 'Datia', '', 'Madhya \\nPradesh', 'Govt.', 'Aided', '07523-242330'], ['250', '105039', 'Govt. V.S. College', 'Dabra', 'Gwalior', '', 'Madhya \\nPradesh', 'Govt.', 'Aided', ''], ['251', '105040', 'J.C. Mill Girls P.G. College', 'Birla Nagar,', 'Gwalior', '474004', 'Madhya \\nPradesh', 'Private', 'Aided', '0751-2364456'], ['252', '105041', 'Jain College', 'Bhind', 'Bhind', '', 'Madhya \\nPradesh', 'Private', 'Aided', '07534-245839'], ['253', '105042', 'Kusum Bai Jain Kanya Mahavidyalaya', 'Bhind', 'Bhind', '', 'Madhya \\nPradesh', 'Private', 'Aided', ''], ['254', '105043', 'M.L.B. Arts & Commerce College', 'Near Acchleshwar Temple, \\nLashkar', 'Gwalior', '474009', 'Madhya \\nPradesh', 'Govt.', 'Aided', '0751-2372199'], ['255', '105044', 'Madhav Mahavidyalaya', 'Naisarak, Vivekanand Marg', 'Gwalior', '474001', 'Madhya \\nPradesh', 'Private', 'Aided', '0751-2327038, \\n2620166(Fax)'], ['256', '105045', 'Maharaja Mansingh College', 'Char Shahar Ka Naka, \\nHajira', 'Gwalior', '474003', 'Madhya \\nPradesh', 'Private', 'Aided', '0751-2365232'], ['257', '105046', 'Parvatibai Gokhale P.G. Vigyan \\nMahavidyalaya', 'Baba Gokhale Marg, \\nJeewajiganj', 'Gwalior', '474001', 'Madhya \\nPradesh', 'Private', 'Aided', '0751-2420488,'], ['258', '105047', 'Rajiv Gandhi V.E.T. College', 'Sakshi Parisar, Urvai Gate', 'Gwalior', '', 'Madhya \\nPradesh', 'Private', 'Un-Aided', ''], ['259', '105048', 'Rishi Galav P.G. College', 'Vill. P.O. Jorer Khurd', 'Morena', '476001', 'Madhya \\nPradesh', 'Private', 'Aided', '07532-234590'], ['260', '105050', 'Smt. Vijayaraje Scindia Degree \\nCollege', 'Adokhar', 'Bhind', '477227', 'Madhya \\nPradesh', 'Private', 'Aided', '07539-289382'], ['261', '105051', 'Shri D.P. Sarraf College', 'Daboh', 'Bhind', '477447', 'Madhya \\nPradesh', 'Private', 'Un-Aided', '9893528523'], ['262', '105052', 'Govt. Girls College', 'Unao Road', 'Datia', '475661', 'Madhya \\nPradesh', 'Govt.', 'Aided', '07522-233289']]]\n"
     ]
    },
    {
     "name": "stdout",
     "output_type": "stream",
     "text": [
      "16 --- [[['S. \\nNo.', 'UGC, \\nCRO \\nCode', 'College Name', 'Address', 'District', 'Pin Code', 'State', 'Status \\n(Govt./ \\nPrivate)', 'Self-\\nfinancing/unaid\\ned/ aided', 'Phone No.'], ['263', '105053', 'Govt. Degree College', 'Juora', 'Morena', '', 'Madhya \\nPradesh', 'Govt.', 'Aided', ''], ['264', '105054', 'Boston College for Professional \\nStudies', 'Putlighar Road, Sirol', 'Gwalior', '474006', 'Madhya \\nPradesh', 'Private', 'Un-Aided', '0751-2970026, \\n2970028'], ['', '6.Rani Durgawati University, Jabalpur (M.P.)', None, None, '', '', '', '', '', ''], ['265', '106001', 'Priyadarshni Anjuman Islamia Girls \\nCollege', 'Gohalpur', 'Jabalpur', '482002', 'Madhya \\nPradesh', 'Private', 'Un-Aided', ''], ['266', '106002', 'C.P. Mahila Mahavidyalaya', 'Wright Town', 'Jabalpur', '482002', 'Madhya \\nPradesh', 'Private', 'Aided', '0761-2405097'], ['267', '106003', 'College Of Material Management', 'Jabalpur', 'Jabalpur', '482001', 'Madhya \\nPradesh', 'Govt.', 'Aided', '0761-2604455'], ['268', '106004', 'D.N. Jain College', 'Gole Bazar, Wright Town', 'Jabalpur', '482002', 'Madhya \\nPradesh', 'Private', 'Aided', '0761-2404096, \\n4004751(Fax)'], ['269', '106005', 'Devi Singh Keshar Bai College', 'Shahpura Bhitoni', 'Jabalpur', '', 'Madhya \\nPradesh', 'Private', 'Un-Aided', ''], ['270', '106006', 'G.S. College Of Commerce & \\nEconomics', 'Civil Lines', 'Jabalpur', '482001', 'Madhya \\nPradesh', 'Private', 'Aided', '0761-2678646, \\n4046086'], ['271', '106007', 'Govt. Aranya Bharti College', 'Baihar', 'Balaghat', '481111', 'Madhya \\nPradesh', 'Govt.', 'Aided', '07694-235213'], ['272', '106008', 'Govt. Arts & Commerce College', 'Behind Police Station, \\nKeolari', 'Seoni', '480994', 'Madhya \\nPradesh', 'Govt.', 'Aided', '07694-235213'], ['273', '106009', 'Govt. Arts College', 'Panagar', 'Jabalpur', '483220', 'Madhya \\nPradesh', 'Govt.', 'Aided', '0761-2350558'], ['274', '106010', 'Govt. M.H. College Of Home Science \\n& Science For Women (Auto.)', 'Napier Town', 'Jabalpur', '482001', 'Madhya \\nPradesh', 'Govt.', 'Aided', '0761-2407326, \\n4005716(Tel/Fax)'], ['275', '106011', 'Govt. Model Science College', 'Pachpedi, South Civil Lines', 'Jabalpur', '482001', 'Madhya \\nPradesh', 'Govt.', 'Aided', '0761-2678737, \\n2621272(Fax)'], ['276', '106012', 'Govt. Chandra Vijay College', 'Dindori', 'Dindori', '481880', 'Madhya \\nPradesh', 'Govt.', 'Aided', '07644-234008'], ['277', '106013', 'Govt. Education Institute', 'Near High Court', 'Jabalpur', '', 'Madhya \\nPradesh', 'Govt.', 'Aided', ''], ['278', '106014', 'Govt. College', 'Chhapara', 'Seoni', '480884', 'Madhya \\nPradesh', 'Govt.', 'Aided', '07691-290286 (Tel/Fax)']]]\n",
      "17 --- [[['S. \\nNo.', 'UGC, \\nCRO \\nCode', 'College Name', 'Address', 'District', 'Pin Code', 'State', 'Status \\n(Govt./ \\nPrivate)', 'Self-\\nfinancing/unaid\\ned/ aided', 'Phone No.'], ['279', '106015', 'Govt. Degree College', 'Barghat', 'Seoni', '480667', 'Madhya \\nPradesh', 'Govt.', 'Aided', '07692-250274'], ['280', '106016', 'Govt. Degree College', 'Nainpur', 'Mandla', '', 'Madhya \\nPradesh', 'Govt.', 'Aided', ''], ['281', '106017', 'Govt. Degree College,', 'Bhua-Bichhiya', 'Mandla', '481995', 'Madhya \\nPradesh', 'Govt.', 'Aided', '0748-232374'], ['282', '106018', 'Govt. Girls College', 'Near Nagar Nigam, Katni', 'Katni', '483501', 'Madhya \\nPradesh', 'Govt.', 'Aided', '07622-230418 (Tel/Fax)'], ['283', '106019', 'Govt. Girls College', 'Near Bus Stand', 'Seoni', '480661', 'Madhya \\nPradesh', 'Govt.', 'Aided', '07692-220950 (Tel/Fax)'], ['284', '106020', 'Govt. Girls College', 'Karondhi Gram, Ranjhi', 'Jabalpur', '482005', 'Madhya \\nPradesh', 'Govt.', 'Aided', '0761-2332343'], ['285', '106021', 'J.M.C. Mahila Mahavidyalaya', 'Singhvahini Ward', 'Mandla', '481661', 'Madhya \\nPradesh', 'Govt.', 'Aided', '07642-252535,252536'], ['286', '106022', 'Govt. J.S.T. P.G. College', '', 'Balaghat', '', 'Madhya \\nPradesh', 'Govt.', 'Aided', ''], ['287', '106023', 'Govt. K.N. Girls College', '', 'Balaghat', '', 'Madhya \\nPradesh', 'Govt.', 'Aided', ''], ['288', '106024', 'Govt. M.K.B. Arts & Commerce \\nCollege For Women', 'Napior Town', 'Jabalpur', '482002', 'Madhya \\nPradesh', 'Govt.', 'Aided', '0761-23001400, \\n2301400 , 2401300'], ['289', '106025', 'Govt. P.G. College', 'Gadarwara', 'Narsinghpur', '487551', 'Madhya \\nPradesh', 'Govt.', 'Aided', '07791-254696'], ['290', '106026', 'Govt. P.G. College', 'Seoni', 'Seoni', '', 'Madhya \\nPradesh', 'Govt.', 'Aided', '07692-220543 ,'], ['291', '106027', 'Govt. P.G. College', 'Itwara Bazar Road, Civil \\nLines,', 'Narsinghpur', '487001', 'Madhya \\nPradesh', 'Govt.', 'Aided', '07792-230331'], ['292', '106028', 'Govt. S.N.M. Girls College', 'Narsinghpur', 'Narsinghpur', '487001', 'Madhya \\nPradesh', 'Govt.', 'Aided', ''], ['293', '106029', 'Govt. S.S.P.  Arts, Commerce & Law \\nCollege', 'Wara-Seoni', 'Balaghat', '481331', 'Madhya \\nPradesh', 'Govt.', 'Aided', '07633-253065, \\n254620(Fax)'], ['294', '106030', 'Govt. Shyam Sunder Agarwal P.G. \\nCollege', 'Sihora', 'Jabalpur', '', 'Madhya \\nPradesh', 'Govt.', 'Aided', '07624-230087'], ['295', '106031', 'Govt. T.N.S. College', 'Gotegaon', 'Narsinghpur', '', 'Madhya \\nPradesh', 'Govt.', 'Aided', '']]]\n",
      "18 --- [[['S. \\nNo.', 'UGC, \\nCRO \\nCode', 'College Name', 'Address', 'District', 'Pin Code', 'State', 'Status \\n(Govt./ \\nPrivate)', 'Self-\\nfinancing/unaid\\ned/ aided', 'Phone No.'], ['296', '106032', 'Govt. Tilak P.G. College', 'Katni', 'Katni', '453501', 'Madhya \\nPradesh', 'Govt.', 'Aided', '07622-235723'], ['297', '106033', \"Hawabagh Women's College\", 'Narbada Road', 'Jabalpur', '482001', 'Madhya \\nPradesh', 'Private', 'Aided', '0761-2663345, \\n2666535, 2696256(Fax)'], ['298', '106034', 'Hitkarini Arts, Commerce & Science \\nCollege', 'Garha', 'Jabalpur', '482003', 'Madhya \\nPradesh', 'Private', 'Un-Aided', '0761-2673428'], ['299', '106035', 'Hitkarini Law College', 'H.No.404, Jonesganj, Opp. \\nVictoriya Hospital', 'Jabalpur', '482001', 'Madhya \\nPradesh', 'Private', 'Un-Aided', '0761-2401160'], ['300', '106036', 'Hitkarini Mahila Mahavidyalaya', 'Jonesganj, Karamchand \\nChowk', 'Jabalpur', '482001', 'Madhya \\nPradesh', 'Private', 'Aided', '0761-2402728, \\n2400504'], ['301', '106037', 'Hitkarini Prashikshan Mahila \\nMahavidyalaya', 'Civic Centre', 'Jabalpur', '482002', 'Madhya \\nPradesh', 'Private', 'Un-Aided', '0761-2402484'], ['302', '106038', 'Kesarwani College', 'Garha Phatak Road, Gole \\nBazzar', 'Jabalpur', '482002', 'Madhya \\nPradesh', 'Private', 'Aided', '0761-2404978, \\n2402497'], ['303', '106039', 'Kymore Science College', 'Vill. & P.O. Kymore', 'Katni', '483880', 'Madhya \\nPradesh', 'Private', 'Aided', '07626-272352'], ['304', '106040', 'M.V. Vigyan Arts & Commerce \\nCollege', '54 Paras Bhawan, Narmad \\nRoad', 'Jabalpur', '', 'Madhya \\nPradesh', 'Private', 'Un-Aided', '0761-2660681'], ['305', '106042', 'Govt. Mahakoshal Arts & Commerce \\nAuto. College', 'South Civil Lines, Pachpedi', 'Jabalpur', '', 'Madhya \\nPradesh', 'Govt.', 'Aided', '0761-2678195, \\n6450493, 6544162'], ['306', '106044', 'Mahatma Gandhi Mahavidyalaya', 'Kareli', 'Narsinghpur', '487221', 'Madhya \\nPradesh', 'Private', 'Aided', '07793-271566, \\n270103(Fax)'], ['307', '106045', 'Mata Gujri Mahila Mahavidyalaya', 'Civic Centre, Marhatal', 'Jabalpur', '482001', 'Madhya \\nPradesh', 'Private', 'Un-Aided', '0761-2410740, \\n4007666(Fax)'], ['308', '106046', 'N.E.S. Law College', 'Napier Town', 'Jabalpur', '482001', 'Madhya \\nPradesh', 'Private', 'Un-Aided', '0761-2450848'], ['309', '106047', 'Navyug Arts & Commerce College', 'South Civil Lines', 'Jabalpur', '482001', 'Madhya \\nPradesh', 'Private', 'Aided', '0761-2621124'], ['310', '106048', 'New Education Society Science \\nCollege', 'Gorakhpur Ward', 'Jabalpur', '', 'Madhya \\nPradesh', 'Private', 'Aided', '0761-2660046'], ['311', '106049', 'Govt. O.F.K. College', 'Khamaria', 'Jabalpur', '482005', 'Madhya \\nPradesh', 'Govt.', 'Aided', '0761-2337093'], ['312', '106050', 'R.P.S. College', 'Amgaonbada', 'Narsinghpur', '', 'Madhya \\nPradesh', 'Private', 'Un-Aided', '']]]\n",
      "19 --- [[['S. \\nNo.', 'UGC, \\nCRO \\nCode', 'College Name', 'Address', 'District', 'Pin Code', 'State', 'Status \\n(Govt./ \\nPrivate)', 'Self-\\nfinancing/unaid\\ned/ aided', 'Phone No.'], ['313', '106051', 'Rani Durgawati Govt. P.G. College', 'Dindori Road', 'Mandla', '481661', 'Madhya \\nPradesh', 'Govt.', 'Aided', '07642-251161, \\n253426(Fax)'], ['314', '106054', 'St. Aloysius College', '1, Ahilya Bai Marg, Sardar, \\nCantt.', 'Jabalpur', '482001', 'Madhya \\nPradesh', 'Private', 'Aided', '0761-\\n2620738(Ext.202),'], ['315', '106055', 'Shramdham Arts & Commerce \\nCollege', 'Kymore', 'Katni', '483880', 'Madhya \\nPradesh', 'Private', 'Aided', '07626-272996,'], ['316', '106056', 'Shree N.R.T. N.E.S. College', 'Barman', 'Narsinghpur', '487330', 'Madhya \\nPradesh', 'Private', 'Aided', '07793-275822'], ['317', '106057', 'Shri Guru Tegh Bahadur Khalsa \\nCollege', 'Mahanandda, Nagpur Road', 'Jabalpur', '482001', 'Madhya \\nPradesh', 'Private', 'Un-Aided', '0761-2427251, \\n2429522, 4078781(Fax)'], ['318', '106058', 'Shri Janki Raman College', 'Ranital', 'Jabalpur', '482002', 'Madhya \\nPradesh', 'Private', 'Aided', '0761-2412921'], ['319', '106059', 'Shri Shreeniwas Saraogi College', 'Katni', 'Jabalpur', '483501', 'Madhya \\nPradesh', 'Private', 'Un-Aided', '07622-404590, 404708'], ['320', '106060', 'State Institute Of Science Education', 'P.S.M. Campus', 'Jabalpur', '482001', 'Madhya \\nPradesh', 'Govt.', 'Aided', '0761-2625776'], ['321', '106061', 'Shri Neelkanth Vidhi Mahavidyalaya', 'Baldeobagh', 'Jabalpur', '', 'Madhya \\nPradesh', 'Private', 'Un-Aided', ''], ['322', '106063', 'Swami Vivekanand Govt. College', 'Lakhnadon', 'Seoni', '480886', 'Madhya \\nPradesh', 'Govt.', 'Aided', '07690-240113 (Tel/Fax)'], ['323', '106064', 'Govt. Degree College', 'Sleemnabad, N.H. 7', 'Katni', '483440', 'Madhya \\nPradesh', 'Govt.', 'Aided', '07624-280273'], ['324', '106065', 'Govt. College', 'Barhi', 'Katni', '483770', 'Madhya \\nPradesh', 'Govt.', 'Aided', '07626-24202'], ['325', '106067', 'Silicobyte Katni Degree College of \\nProfessional Studies', 'Dikshabhumi Campus, \\nAdharkap', 'Katni', '483501', 'Madhya \\nPradesh', 'Private', 'Un-Aided', ''], ['326', '106068', 'Govt. Degree College', 'Shahpura', 'Dindori', '481990', 'Madhya \\nPradesh', 'Govt.', 'Aided', ''], ['327', '106069', 'Govt. Arts College', 'Niwas', 'Mandla', '', 'Madhya \\nPradesh', 'Govt.', 'Aided', '07641-231247'], ['328', '106070', 'Jabalpur College of Computer & \\nCommunication', '1101, Near Shastri Bridge, \\nNapier Town', 'Jabalpur', '482001', 'Madhya \\nPradesh', 'Private', 'Un-Aided', ''], ['329', '106071', 'Shyam Sunder Narayan Mushran \\nInstitute of Management & \\nTechnology', 'Opp. To Borstal Jail, Police \\nLine, Station Road, \\nNarsinghpur', 'Narsinghpur', '487001', 'Madhya \\nPradesh', 'Private', 'Un-Aided', '']]]\n"
     ]
    },
    {
     "name": "stdout",
     "output_type": "stream",
     "text": [
      "20 --- [[['S. \\nNo.', 'UGC, \\nCRO \\nCode', 'College Name', 'Address', 'District', 'Pin Code', 'State', 'Status \\n(Govt./ \\nPrivate)', 'Self-\\nfinancing/unaid\\ned/ aided', 'Phone No.'], ['330', '106072', 'Sant Moni Sarvodaya Mahila \\nMahavidyalaya', 'Teh.-Tendukheda', 'Narsinghpur', '487337', 'Madhya \\nPradesh', 'Private', 'Un-Aided', ''], ['', '7.Vikram University, Ujjain (M.P.)', None, '', '', '', '', '', '', ''], ['331', '107001', 'A.S.R.B.M. Govt. College', 'Sonkatch', 'Dewas', '455118', 'Madhya \\nPradesh', 'Govt.', 'Aided', '07270-222768, 222915 \\n(Tel/Fax)'], ['332', '107002', 'Govt. B.S. College', 'Mhow-Neemuch Road, \\nJaora', 'Ratlam', '457226', 'Madhya \\nPradesh', 'Govt.', 'Aided', '07414-228120'], ['333', '107003', 'B.S.N. Govt. P.G. College', 'A-B Road', 'Shajapur', '465001', 'Madhya \\nPradesh', 'Govt.', 'Aided', '07364-227727'], ['334', '107004', 'Dr. Kailashnath Katju Law College', 'Ratlam', 'Ratlam', '457001', 'Madhya \\nPradesh', 'Private', 'Un-Aided', '07412-267597'], ['335', '107005', 'Govt. P.G. Arts & Science College', 'Ratlam', 'Ratlam', '457001', 'Madhya \\nPradesh', 'Govt.', 'Aided', '07412-235149(Tel/Fax)'], ['336', '107007', 'Govt. College', 'Mahidpur', 'Ujjain', '', 'Madhya \\nPradesh', 'Govt.', 'Aided', '07365-231076,251076'], ['337', '107008', 'Govt. College', 'Nemawar Road, Khategaon', 'Dewas', '455336', 'Madhya \\nPradesh', 'Govt.', 'Aided', '07274-232532 (Tel/Fax)'], ['338', '107009', 'Govt. College', 'Susner', 'Agar-Malwa', '465447', 'Madhya \\nPradesh', 'Govt.', 'Aided', '07361-233449'], ['339', '107010', 'Govt. College', 'Sailana', 'Ratlam', '457550', 'Madhya \\nPradesh', 'Govt.', 'Aided', '07413-278435'], ['340', '107011', 'Govt. College', 'Nagda', 'Ujjain', '456335', 'Madhya \\nPradesh', 'Govt.', 'Aided', '07366-238238 (Tel/Fax)'], ['341', '107012', 'Govt. College', 'Badnawar Road, Barnagar', 'Ujjain', '456771', 'Madhya \\nPradesh', 'Govt.', 'Aided', '07367-225312, \\n280222(Tel/Fax)'], ['342', '107013', 'Govt. College', 'Gandhi Colony, Bagli', 'Dewas', '455227', 'Madhya \\nPradesh', 'Govt.', 'Aided', '07271-275518'], ['343', '107014', 'Govt. College Of Education', 'A.B. Road, Bhopal \\nChouraha', 'Dewas', '455001', 'Madhya \\nPradesh', 'Govt.', 'Aided', '07272-220655(Tel/Fax)'], ['344', '107015', 'Govt. Degree College', 'Kalapipal', 'Shajapur', '465337', 'Madhya \\nPradesh', 'Govt.', 'Aided', '07360-268499'], ['345', '107016', 'Govt. College', 'Alot', 'Ratlam', '457114', 'Madhya \\nPradesh', 'Govt.', 'Aided', '07410-230202']]]\n",
      "21 --- [[['S. \\nNo.', 'UGC, \\nCRO \\nCode', 'College Name', 'Address', 'District', 'Pin Code', 'State', 'Status \\n(Govt./ \\nPrivate)', 'Self-\\nfinancing/unaid\\ned/ aided', 'Phone No.'], ['346', '107017', 'Govt. College Of Education', 'Dashahara Maidan', 'Ujjain', '456001', 'Madhya \\nPradesh', 'Govt.', 'Aided', '0734-2519873'], ['347', '107018', 'Govt. Girls College', 'Near Do Batti Police \\nStation, Ratlam', 'Ratlam', '457001', 'Madhya \\nPradesh', 'Govt.', 'Aided', '07412-236270'], ['348', '107019', 'Govt. Girls College', 'Kila Parisar, Shajapur', 'Shajapur', '465001', 'Madhya \\nPradesh', 'Govt.', 'Aided', '07364-229130'], ['349', '107020', 'Govt. Girls College', 'Mandsaur', 'Mandsaur', '', 'Madhya \\nPradesh', 'Govt.', 'Aided', ''], ['350', '107021', 'Govt. Girls College', 'Ujjain Road', 'Dewas', '455001', 'Madhya \\nPradesh', 'Govt.', 'Aided', '07272-228211'], ['351', '107022', 'Govt. Girls College', 'Ujjain', 'Ujjain', '456001', 'Madhya \\nPradesh', 'Govt.', 'Aided', '0734-2530866'], ['352', '107023', 'Govt. J.N.S. P.G. College', 'Shujalpur', 'Shajapur', '465333', 'Madhya \\nPradesh', 'Govt.', 'Aided', '07360-244358(Tel/Fax)'], ['353', '107024', 'Govt. Kalidas Girls College', 'Ujjain', 'Ujjain', '456006', 'Madhya \\nPradesh', 'Govt.', 'Aided', '0734-2550877 (Tel/Fax)'], ['354', '107025', 'Govt. Mahatma Gandhi College', 'Jawad', 'Neemuch', '458330', 'Madhya \\nPradesh', 'Govt.', 'Aided', '07420-232356, \\n232136(Fax)'], ['355', '107026', 'Govt. Nehru P.G. College', 'Agar-Malwa', 'Shajapur', '465441', 'Madhya \\nPradesh', 'Govt.', 'Aided', '07362-258033'], ['356', '107027', 'Govt. College', 'Mhow-Neemuch Road', 'Mandsaur', '458001', 'Madhya \\nPradesh', 'Govt.', 'Aided', '07422-256291, \\n223183(Fax)'], ['357', '107028', 'Govt. P.G. College', 'Manasa Road, Neemuch', 'Neemuch', '458441', 'Madhya \\nPradesh', 'Govt.', 'Aided', '07423-232113, 232614, \\n232679(Fax)'], ['358', '107029', 'Govt. College', 'Rampura', 'Neemuch', '458118', 'Madhya \\nPradesh', 'Govt.', 'Aided', '07421-238224'], ['359', '107030', 'Govt. Ramchandra Vishwanath \\nCollege', 'Manasa', 'Neemuch', '458110', 'Madhya \\nPradesh', 'Govt.', 'Aided', '07421-242089'], ['360', '107031', 'Govt. S.K.P. P.G. College', 'Dewas', 'Dewas', '455001', 'Madhya \\nPradesh', 'Govt.', 'Aided', '07272-221826'], ['361', '107032', 'Govt. Vikram College', 'Nagda Road, Khacharaud', 'Ujjain', '', 'Madhya \\nPradesh', 'Govt.', 'Aided', '07366-231097'], ['362', '107033', 'Gyan Mandir College', 'Gyan Marg', 'Neemuch', '458441', 'Madhya \\nPradesh', 'Private', 'Aided', '07423-220274, 230568, \\n232560(Fax)']]]\n",
      "22 --- [[['S. \\nNo.', 'UGC, \\nCRO \\nCode', 'College Name', 'Address', 'District', 'Pin Code', 'State', 'Status \\n(Govt./ \\nPrivate)', 'Self-\\nfinancing/unaid\\ned/ aided', 'Phone No.'], ['363', '107034', 'Shri Jamnalal Ramlal Kimati Kanya \\nCollege', 'Rampura', 'Neemuch', '458118', 'Madhya \\nPradesh', 'Private', 'Aided', '07421-238341(Tel/Fax)'], ['364', '107035', 'Jai Jawan College', 'Tarana', 'Ujjain', '456665', 'Madhya \\nPradesh', 'Private', 'Aided', '07369-236002'], ['365', '107036', 'Govt. Madhav Arts, Commerce & Law \\nCollege', 'Dewas Gate', 'Ujjain', '456001', 'Madhya \\nPradesh', 'Govt.', 'Aided', '0734-2550624, \\n2557545'], ['366', '107037', 'Govt. Madhav Science College', 'Dewas Road', 'Ujjain', '456010', 'Madhya \\nPradesh', 'Govt.', 'Aided', '0734-2511803, \\n2520036(Fax)'], ['367', '107038', 'Swami Vivekanand Govt. Commerce \\nCollege', 'Ratlam', 'Ratlam', '457001', 'Madhya \\nPradesh', 'Govt.', 'Aided', '07412-263353'], ['368', '107039', 'Sandipani P.G. College', 'Behind Hero Honda Show \\nRoom, Dashahara Maidan', 'Ujjain', '456010', 'Madhya \\nPradesh', 'Private', 'Aided', '0734-2513620, \\n2518883 (Tel/Fax)'], ['369', '107040', 'Shri Harakchand Chaordiya College', 'Bhanpura', 'Mandsaur', '', 'Madhya \\nPradesh', 'Private', 'Aided', '07427-236248'], ['370', '107041', 'Shri Jawahar Lal Nehru Vidhi College', 'Thrithanker Bhagwan \\nMahaveer Road, Sanjeet \\nMarg', 'Mandsaur', '458001', 'Madhya \\nPradesh', 'Private', 'Un-Aided', '07422-255401, 403235'], ['371', '107042', 'Shri Sitaram Jaju Govt. Girls College', 'Mahaveer Marg', 'Neemuch', '458441', 'Madhya \\nPradesh', 'Govt.', 'Aided', '07423-222254 (Tel/Fax)'], ['372', '107043', 'Lokmanya Tilak College Of Education', 'Neel Ganga Road, \\nMadhava Nagar', 'Ujjain', '456010', 'Madhya \\nPradesh', 'Private', 'Un-Aided', '0734-2562164'], ['373', '107044', 'Govt. College', 'Tarana', 'Ujjain', '456665', 'Madhya \\nPradesh', 'Govt.', 'Aided', '07369-235085'], ['374', '107045', 'Lokmanya Tilak Science & Commerce\\nCollege', 'Nilganga Road, Near \\nRailway Station', 'Ujjain', '456010', 'Madhya \\nPradesh', 'Private', 'Un-Aided', '0734-2563833'], ['375', '107046', 'Maharaja College', 'Near Abhilasha Nagar, \\nDewas Road', 'Ujjain', '456010', 'Madhya \\nPradesh', 'Private', 'Un-Aided', '0734-2520220,21'], ['CHHATTISGARH', None, None, '', '', '', '', '', '', ''], [None, None, None, '', '', '', '', '', '', ''], ['376', '201001', 'C.M.D. P.G. College', 'Bilaspur', 'Bilaspur', '', 'Chhattisgarh', 'Private', 'Aided', ''], ['377', '201002', 'Dwarika Prasad Vipra College', 'High Court Road', 'Bilaspur', '495001', 'Chhattisgarh', 'Private', 'Aided', '07752-221452']]]\n",
      "23 --- [[['S. \\nNo.', 'UGC, \\nCRO \\nCode', 'College Name', 'Address', 'District', 'Pin Code', 'State', 'Status \\n(Govt./ \\nPrivate)', 'Self-\\nfinancing/unaid\\ned/ aided', 'Phone No.'], ['378', '201003', 'Govt. Agrasen College', 'Bilha', 'Bilaspur', '495224', 'Chhattisgarh', 'Govt.', 'Aided', '07752-259175'], ['379', '201004', 'Rajeev Gandhi Govt. Arts & \\nCommerce College', 'Bilaspur Road, Lormi', 'Mungeli', '495115', 'Chhattisgarh', 'Govt.', 'Aided', '07756-288575,208575'], ['380', '201005', 'Govt. Madanlal Shukla Mahavidyalaya', 'Seepat', 'Bilaspur', '495555', 'Chhattisgarh', 'Govt.', 'Aided', '07752-407241'], ['381', '201006', 'Govt. Arts, Commerce & Science \\nCollege', 'Kota', 'Bilaspur', '495113', 'Chhattisgarh', 'Govt.', 'Aided', '07753-253210'], ['382', '201007', 'Govt. Arts and Commerce College', 'Kharsia', 'Raigarh', '496661', 'Chhattisgarh', 'Govt.', 'Aided', '07762-272048'], ['383', '201008', 'Govt. E. Raghavendra Rao P.G. \\nScience College', 'Seepat Road', 'Bilaspur', '495006', 'Chhattisgarh', 'Govt.', 'Aided', '07752-240988(Tel/Fax) \\n211147,246430'], ['384', '201009', 'Govt. Dr. Inderjeet Singh College', 'Akaltara', 'Janjgir-\\nChampa', '495552', 'Chhattisgarh', 'Govt.', 'Aided', '07817-252540'], ['385', '201010', 'Govt. College', 'Malkharoda', 'Janjgir-\\nChampa', '495691', 'Chhattisgarh', 'Govt.', 'Aided', '07758-272469'], ['386', '201011', 'Govt. College', 'Pendra', 'Bilaspur', '495117', 'Chhattisgarh', 'Govt.', 'Aided', '07751-224663, Fax-\\n224663'], ['387', '201012', 'Govt. College', 'At+P.O. Bhaisma', 'Korba', '495674', 'Chhattisgarh', 'Govt.', 'Aided', '07759-279436'], ['388', '201013', 'V.A.B.L. Govt. College', 'Patharia', 'Mungeli', '495335', 'Chhattisgarh', 'Govt.', 'Aided', '07755-289774'], ['389', '201014', 'Govt. Arts College', 'Pathalgaon', 'Jashpur', '496118', 'Chhattisgarh', 'Govt.', 'Aided', '07765-245604'], ['390', '201015', 'Govt. College', 'Pandaria', 'Kabirdham', '491559', 'Chhattisgarh', 'Govt.', 'Aided', ''], ['391', '201016', 'Govt. College Of Education', 'Tarbahar Naka, Bilaspur', 'Bilaspur', '495001', 'Chhattisgarh', 'Govt.', 'Aided', '07752-228558'], ['392', '201017', 'Govt. Shyama Prasad Mukherjee \\nCollege', 'Sitapur', 'Surguja', '497226', 'Chhattisgarh', 'Govt.', 'Aided', '07834-275318'], ['393', '201018', 'Govt. Degree College', 'Katghora', 'Korba', '495445', 'Chhattisgarh', 'Govt.', 'Aided', ''], ['394', '201019', 'Govt. Degree College', 'Surajpur', 'Surajpur', '497229', 'Chhattisgarh', 'Govt.', 'Aided', '']]]\n",
      "24 --- [[['S. \\nNo.', 'UGC, \\nCRO \\nCode', 'College Name', 'Address', 'District', 'Pin Code', 'State', 'Status \\n(Govt./ \\nPrivate)', 'Self-\\nfinancing/unaid\\ned/ aided', 'Phone No.'], ['395', '201020', 'Govt. P.G. College', 'Champa', 'Janjgir-\\nChampa', '495671', 'Chhattisgarh', 'Govt.', 'Aided', '07819-245807(Tel/Fax)'], ['396', '201021', 'Govt. Degree College', 'Sarangarh', 'Raigarh', '496445', 'Chhattisgarh', 'Govt.', 'Aided', '07768-233306'], ['397', '201022', 'Govt. P.G. College', 'Baikunthpur', 'Korea', '497335', 'Chhattisgarh', 'Govt.', 'Aided', '07836-232252, 232014 \\n(Fax)'], ['398', '201023', 'Govt. Degree College', 'Dabhara, P.O. Dabhara', 'Janjgir-\\nChampa', '495668', 'Chhattisgarh', 'Govt.', 'Aided', '07758-273255'], ['399', '201024', 'Govt. Girls College', 'Raigarh', 'Raigarh', '496001', 'Chhattisgarh', 'Govt.', 'Aided', '07762-223104'], ['400', '201025', 'Govt. Girls College', 'Near Ghanta Ghar', 'Korba', '495678', 'Chhattisgarh', 'Govt.', 'Aided', '07759-223722'], ['401', '201026', 'Govt. Pt. Madhavrao Spre Kanya \\nMahavidyalaya', 'Pendra Road', 'Bilaspur', '495117', 'Chhattisgarh', 'Govt.', 'Aided', '220108, 9425544346'], ['402', '201027', 'Govt. Girls College', 'Jashpur Nagar', 'Jashpur', '496331', 'Chhattisgarh', 'Govt.', 'Aided', '07763-223341'], ['403', '201028', 'Govt. Girls P.G. College', 'Behind BSNL Office, \\nAmbikapur', 'Surguja', '497001', 'Chhattisgarh', 'Govt.', 'Aided', '07774-235266, 220881'], ['404', '201029', 'Govt. Bilasa Girls P.G. College', 'In Front Of Police Line, \\nLink Road', 'Bilaspur', '495001', 'Chhattisgarh', 'Govt.', 'Aided', '07752-224249, 409951 \\n(Fax)'], ['405', '201030', 'Govt. J.M.P. College', 'Takhatpur', 'Bilaspur', '495330', 'Chhattisgarh', 'Govt.', 'Aided', '07753-264643 (Tel/Fax)'], ['406', '201031', 'Kirodimal Govt. Arts & Science \\nCollege', 'Chakradhar Nagar', 'Raigarh', '496001', 'Chhattisgarh', 'Govt.', 'Aided', '07762-222966'], ['407', '201032', 'Govt. Lahiri College', 'Chirmiri', 'Korea', '497449', 'Chhattisgarh', 'Govt.', 'Aided', ''], ['408', '201033', 'Govt. Lakshmaneshwar College', 'Kharoud', 'Janjgir-\\nChampa', '495556', 'Chhattisgarh', 'Govt.', 'Aided', '07818-261630'], ['409', '201034', 'Govt. Naveen Girls College', 'Seepat Road, Near \\nScience College', 'Bilaspur', '495001', 'Chhattisgarh', 'Govt.', 'Aided', '07752-244877, 240531'], ['410', '201035', 'Govt. N.E.S. College', 'Jashpurnagar', 'Jashpur', '', 'Chhattisgarh', 'Govt.', 'Aided', '07763-223539, 223779'], ['411', '201036', 'Govt. P.D. Commerce &  Arts College', 'Kotra Road, Near Kotwali, \\nRaigarh', 'Raigarh', '496001', 'Chhattisgarh', 'Govt.', 'Aided', '07762-232098, 228098']]]\n"
     ]
    },
    {
     "name": "stdout",
     "output_type": "stream",
     "text": [
      "25 --- [[['S. \\nNo.', 'UGC, \\nCRO \\nCode', 'College Name', 'Address', 'District', 'Pin Code', 'State', 'Status \\n(Govt./ \\nPrivate)', 'Self-\\nfinancing/unaid\\ned/ aided', 'Phone No.'], ['412', '201037', 'Govt. J.P. Verma P.G. Arts & \\nCommerce College', 'Jarhabhata', 'Bilaspur', '495001', 'Chhattisgarh', 'Govt.', 'Aided', '07752-228225 (Tel/Fax)'], ['413', '201038', 'Govt. E.V. P. G. College', 'Korba', 'Korba', '495677', 'Chhattisgarh', 'Govt.', 'Aided', '07759-221458'], ['414', '201039', 'Rajeev Gandhi Govt. P.G. College', 'Ambikapur', 'Surguja', '', 'Chhattisgarh', 'Govt.', 'Aided', '07774-230921, 220065'], ['415', '201040', 'Govt. Science College', 'Mungeli', 'Bilaspur', '495354', 'Chhattisgarh', 'Govt.', 'Aided', '07755-274076, 264152'], ['416', '201041', 'Govt. Vivekanand College', 'Manendgarh', 'Korea', '497442', 'Chhattisgarh', 'Govt.', 'Aided', ''], ['417', '201042', 'Govt. Pataleshwar Mahavidyalaya', 'Masturi', 'Bilaspur', '495551', 'Chhattisgarh', 'Govt.', 'Aided', ''], ['418', '201043', 'Govt. Mahamaya College', 'Ratanpur', 'Bilaspur', '495442', 'Chhattisgarh', 'Govt.', 'Aided', '07753-255490'], ['419', '201044', 'Gramya Bharti Vidyapeeth', 'Hardi Bazar', 'Korba', '495446', 'Chhattisgarh', 'Private', 'Un-Aided', '07815-275284'], ['420', '201045', \"Holy Cross Women's College\", 'Ambikapur', 'Surguja', '497001', 'Chhattisgarh', 'Private', 'Aided', '07774-230690 (Tel/Fax)'], ['421', '201046', 'Indira Gandhi Arts & Science College', 'Rahod, Dist.t. Janjgir', 'Champa', '495556', 'Chhattisgarh', 'Private', 'Un-Aided', '07818-223608 (Tel), \\n265940(Fax)'], ['422', '201047', 'J.L.N. Degree College', 'Sakti', 'Janjgir-\\nChampa', '', 'Chhattisgarh', 'Private', 'Aided', '07757-233058'], ['423', '201048', 'Kamla Nehru College', 'Rani Road, Korba', 'Korba', '495678', 'Chhattisgarh', 'Private', 'Aided', '07759-24109, 247163, \\n247222(Fax)'], ['424', '201049', 'S.N.G.College', 'Mungeli', 'Bilaspur', '495334', 'Chhattisgarh', 'Private', 'Aided', '07755-264035'], ['425', '201050', 'T.C.L. Govt. P.G. College', 'Janjgir', 'Janjgir-\\nChampa', '495668', 'Chhattisgarh', 'Govt.', 'Aided', '07817-222240 (P/F)'], ['426', '201051', 'Kaushalendra Rao Law College', 'Link Road', 'Bilaspur', '495001', 'Chhattisgarh', 'Private', 'Un-Aided', '07752-424044, 404244'], ['427', '201053', 'D.L.S. Mahavidyalaya', 'Sarkanda', 'Bilaspur', '', 'Chhattisgarh', 'Private', 'Un-Aided', ''], ['428', '201054', 'D.P. Vipra Law College', 'Ashok Nagar, Chantidih', 'Bilaspur', '', 'Chhattisgarh', 'Private', 'Un-Aided', '07752-329260']]]\n",
      "26 --- [[['S. \\nNo.', 'UGC, \\nCRO \\nCode', 'College Name', 'Address', 'District', 'Pin Code', 'State', 'Status \\n(Govt./ \\nPrivate)', 'Self-\\nfinancing/unaid\\ned/ aided', 'Phone No.'], ['', '2.Pt. Ravishankar Shukla University, Raipur (C.G.)', None, None, '', '', '', '', '', ''], ['429', '202001', 'Arts & Commerce Girls College', 'Devendra Nagar', 'Raipur', '492001', 'Chhattisgarh', 'Private', 'Un-Aided', '0771-405494, 2582274 \\n, 2582761'], ['430', '202002', 'Bhilai Mahila Mahavidyalaya', 'Hospital Sector, Bhilai \\nNagar', 'Bhilai', '490009', 'Chhattisgarh', 'Private', 'Aided', '0788-2242699'], ['431', '202003', 'C.L.C. Govt. Arts & Commerce \\nCollege', 'Sirnabhata, Dhamda', 'Durg', '491331', 'Chhattisgarh', 'Govt.', 'Aided', '07821-234344, 292144'], ['432', '202004', 'Late D.R.S. Govt. Arts, Commerce & \\nScience College', 'Kasdol', 'Baloda Bazar- \\nBhatapara', '', 'Chhattisgarh', 'Govt.', 'Aided', '07728-251241'], ['433', '202005', 'Durga Mahavidyalaya', 'K.K. Road, Maudaha Para', 'Raipur', '492001', 'Chhattisgarh', 'Private', 'Aided', '0771-2523753, \\n2525195'], ['434', '202006', 'Ghanshyam Singh Arya Kanya \\nMahavidyalaya', 'Arya Nagar', 'Durg', '491001', 'Chhattisgarh', 'Private', 'Aided', '0788-2324599'], ['435', '202007', 'Govt. College', 'Kohka, Tilda Neora', 'Raipur', '493114', 'Chhattisgarh', 'Govt.', 'Aided', '07721-233939'], ['436', '202008', 'Govt. Vishwanath Yadav Tamskar \\nP.G. Auto. College', 'Durg', 'Durg', '491002', 'Chhattisgarh', 'Govt.', 'Aided', '0788-2211688, \\n2212030(Fax)'], ['437', '202009', 'Govt. Arts, Commerce & Science \\nCollege', 'Khairagarh', 'Rajnandgaon', '491881', 'Chhattisgarh', 'Govt.', 'Aided', '07820-234094 (Tel/Fax)'], ['438', '202010', 'Govt. Science, Arts & Commerce \\nCollege', 'Balod', 'Durg', '491226', 'Chhattisgarh', 'Govt.', 'Aided', '07749-222076 (Tel/Fax)'], ['439', '202011', 'Govt. Arvind College', 'Kirandul', 'Dantewada', '494556', 'Chhattisgarh', 'Govt.', 'Aided', None], ['440', '202012', 'Govt. B.P. Arts & Commerce College', 'Arang', 'Raipur', '493441', 'Chhattisgarh', 'Govt.', 'Aided', '07720-258423'], ['441', '202013', 'Govt. Chandulal Chandrakar Arts & \\nScience College', 'Patan', 'Durg', '491111', 'Chhattisgarh', 'Govt.', 'Aided', '07826-214475, 273675'], ['442', '202014', 'Govt. J. Yoganandam Chhattisgarh \\nCollege', 'Byron Bazar', 'Raipur', '492001', 'Chhattisgarh', 'Govt.', 'Aided', '0771-2427126 (Tel/Fax)'], ['443', '202015', 'Govt. Dr. Waman Wasudev Patankar \\nGirls P.G. College', 'Jail Road, Near Central \\nSchool', 'Durg', '491001', 'Chhattisgarh', 'Govt.', 'Aided', '0788-2212208'], ['444', '202016', 'Govt. College', 'Shankar Nagar, Dharsiwa', 'Raipur', '492007', 'Chhattisgarh', 'Govt.', 'Aided', '0771-\\n2282635/2242888/ \\n268378']]]\n",
      "27 --- [[['S. \\nNo.', 'UGC, \\nCRO \\nCode', 'College Name', 'Address', 'District', 'Pin Code', 'State', 'Status \\n(Govt./ \\nPrivate)', 'Self-\\nfinancing/unaid\\ned/ aided', 'Phone No.'], ['445', '202017', 'Govt. College', 'Vaishali Nagar, Bhilai', 'Durg', '492001', 'Chhattisgarh', 'Govt.', 'Aided', '0788-2381806/2080806'], ['446', '202018', 'Govt. Kavyopadhyaya Hiralal \\nMadhavidyalaya', 'Abhanpur', 'Raipur', '493661', 'Chhattisgarh', 'Govt.', 'Aided', '0771-2101816'], ['447', '202019', 'Govt. College', 'Charama, At.PO-\\nJaisakarra,', 'Kanker', '494337', 'Chhattisgarh', 'Govt.', 'Aided', '07868-213189, \\n263390(Fax)'], ['448', '202020', 'Govt. Sukharam Nage College', 'Nagri-Sihawa', 'Dhamtari', '493778', 'Chhattisgarh', 'Govt.', 'Aided', '07700-251218, \\n251638(Tel/Fax)'], ['449', '202021', 'Govt. College', 'Kondagaon', 'Kondagaon', '494226', 'Chhattisgarh', 'Govt.', 'Aided', '07786-242529'], ['450', '202022', 'Govt. College', 'Sanjay Nagar, Kurud', 'Dhamtari', '493663', 'Chhattisgarh', 'Govt.', 'Aided', '07705-223375'], ['451', '202023', 'Govt. College', 'Kumharpura, Narayanpur', 'Bastar', '494661', 'Chhattisgarh', 'Govt.', 'Aided', '07781-200100, \\n252350(Fax)'], ['452', '202024', 'Govt. Danvir Tularam Mahavidyalaya', 'Utai', 'Durg', '491107', 'Chhattisgarh', 'Govt.', 'Aided', '0788-2673756 (Tel/Fax)'], ['453', '202025', 'Govt. College', 'Kanker', 'Kanker (North \\nBastar)', '494334', 'Chhattisgarh', 'Govt.', 'Aided', '07868-222028,'], ['454', '202026', 'Govt. Arts & Commerce College', 'Bhilai-3, Vasundhara \\nNagar, Bhilai East', 'Durg', '490021', 'Chhattisgarh', 'Govt.', 'Aided', '07826-255175'], ['455', '202027', 'Govt. College', 'Arjunda', 'Durg', '491225', 'Chhattisgarh', 'Govt.', 'Aided', '0788-2622376'], ['456', '202028', 'Govt. College', 'Dongargaon', 'Rajnandgaon', '491661', 'Chhattisgarh', 'Govt.', 'Aided', '07745-271882, \\n271004(Fax)'], ['457', '202029', 'Govt. College', 'Gariaband', 'Gariaband', '493889', 'Chhattisgarh', 'Govt.', 'Aided', '07706-241380'], ['458', '202030', 'Govt. Lal Shyam Shah Mahavidyalaya', 'Manpur', 'Rajnandgaon', '491229', 'Chhattisgarh', 'Govt.', 'Aided', '07746-245470'], ['459', '202031', 'Govt. College', 'Churia', 'Rajnandgaon', '', 'Chhattisgarh', 'Govt.', 'Aided', '07745-264273'], ['460', '202032', 'Govt. Koduram Dalit Mahavidyalaya', 'Tikapara, Mugeli Road, \\nNawagarh', 'Bemetara', '491337', 'Chhattisgarh', 'Govt.', 'Aided', '07824-265670, 265540 \\n(Tel/Fax)'], ['461', '202033', 'Govt. College', 'Bilaigarh', 'Baloda Bazar- \\nBhatapara', '493338', 'Chhattisgarh', 'Govt.', 'Aided', '07729-231581']]]\n",
      "28 --- [[['S. \\nNo.', 'UGC, \\nCRO \\nCode', 'College Name', 'Address', 'District', 'Pin Code', 'State', 'Status \\n(Govt./ \\nPrivate)', 'Self-\\nfinancing/unaid\\ned/ aided', 'Phone No.'], ['462', '202034', 'Govt. Brijlal Verma Mahavidyalaya', 'Palari', 'Baloda Bazar- \\nBhatapara', '493661', 'Chhattisgarh', 'Govt.', 'Aided', '07727-271262, 201324'], ['463', '202035', 'Govt. Mahaprabhu Vallabhacharya \\nP.G. College', 'Pithora, Near Water Tank, \\nBagbahara Road', 'Mahasamund', '493445', 'Chhattisgarh', 'Govt.', 'Aided', '07707-271517'], ['464', '202036', 'Rajeev Gandhi Govt.College', 'Simga', 'Baloda Bazar- \\nBhatapara', '493101', 'Chhattisgarh', 'Govt.', 'Aided', '07726-274357, 274606'], ['465', '202037', 'Govt. College Of Education', 'Raipur', 'Raipur', '492007', 'Chhattisgarh', 'Govt.', 'Aided', '0771-2443796'], ['466', '202038', 'Govt. Nagarjuna P.G. College of \\nScience', 'G.E. Road', 'Raipur', '492010', 'Chhattisgarh', 'Govt.', 'Aided', '0771-2263131'], ['467', '202039', 'Govt. College', 'Kawardha', 'Kabirdham', '', 'Chhattisgarh', 'Govt.', 'Aided', '07741-232496'], ['468', '202040', 'Govt. D.B. Girls P.G. College', 'Kalibadi Chowk', 'Raipur', '492001', 'Chhattisgarh', 'Govt.', 'Aided', '0771-2229248 (Tel/Fax)'], ['469', '202041', 'Govt. D.K. Arts & Commerce College', 'Baloda Bazar', 'Baloda Bazar- \\nBhatapara', '493332', 'Chhattisgarh', 'Govt.', 'Aided', '07727-222549, \\n222558(Fax)'], ['470', '202042', 'Govt. D.S.V. Sanskrit P.G. College', 'G.E. Road, Opp. Ayurvedik \\nCollege', 'Raipur', '492010', 'Chhattisgarh', 'Govt.', 'Aided', '0771-4074879, \\n2253886(Tel/Fax)'], ['471', '202043', 'Govt. College', 'Bhanu Pratappur', 'Kanker', '494669', 'Chhattisgarh', 'Govt.', 'Aided', '07850-252352 (Tel/Fax)'], ['472', '202044', 'Govt. P.G. College', 'Dantewada', 'Dantewada', '494449', 'Chhattisgarh', 'Govt.', 'Aided', '07856-252003'], ['473', '202045', 'Govt. Degree College', 'Ghumka', 'Rajnandgaon', '491444', 'Chhattisgarh', 'Govt.', 'Aided', '07744-288915 (Tel/Fax)'], ['474', '202046', 'Govt. Degree College', 'Sukma', 'Dantewada', '494111', 'Chhattisgarh', 'Govt.', 'Aided', '07864-284341'], ['475', '202047', 'Govt. Denteshwari Girls College', 'Jagdalpur', 'Bastar', '', 'Chhattisgarh', 'Govt.', 'Aided', '07782-225216'], ['476', '202048', 'Govt. Digvijay College', 'Rajnandgaon', 'Rajnandgaon', '491441', 'Chhattisgarh', 'Govt.', 'Aided', None], ['477', '202049', 'Govt. G.N.A. College', 'Bhatapara', 'Bhatapara', '493118', 'Chhattisgarh', 'Govt.', 'Aided', '07726-220312'], ['478', '202050', 'Govt. Girls College', 'Baloda Bazar', 'Baloda Bazar- \\nBhatapara', '493331', 'Chhattisgarh', 'Govt.', 'Aided', '07727-223074 (Tel/Fax)']]]\n",
      "29 --- [[['S. \\nNo.', 'UGC, \\nCRO \\nCode', 'College Name', 'Address', 'District', 'Pin Code', 'State', 'Status \\n(Govt./ \\nPrivate)', 'Self-\\nfinancing/unaid\\ned/ aided', 'Phone No.'], ['479', '202051', 'Govt. Girls College', 'Kanker', 'Kanker', '494334', 'Chhattisgarh', 'Govt.', 'Aided', '07868-223904'], ['480', '202052', 'Govt. K.L. Arts & Commerce College', 'Bagbahara', 'Raipur', '493449', 'Chhattisgarh', 'Govt.', 'Aided', '07707-207388'], ['481', '202053', 'Govt. Kamla Devi Mahila College', 'Kanrinbhata', 'Rajnandgaon', '491441', 'Chhattisgarh', 'Govt.', 'Aided', '07744-225171 (Tel/Fax)'], ['482', '202054', 'Govt. Lal Chakardhar Shah (L.C.S.) \\nCollege', 'Ambagarh Chowki', 'Rajnandgaon', '491665', 'Chhattisgarh', 'Govt.', 'Aided', '07747-248023, 248216 \\n(Tel/Fax)'], ['483', '202055', 'Govt. Mahasamund Mahavidyalaya', 'Mahasamund', 'Mahasamund', '', 'Chhattisgarh', 'Govt.', 'Aided', '07723-222048'], ['484', '202056', 'Govt. N.C.J. Arts, Commerce & \\nScience College', 'Rajhara, Hospital Sector', 'Balod', '491228', 'Chhattisgarh', 'Govt.', 'Aided', '07748-286692'], ['485', '202057', 'Dr. Radha Bai Govt. Navin Kanya \\nMahavidyalaya', 'Purani Basti', 'Raipur', '492002', 'Chhattisgarh', 'Govt.', 'Aided', '0771-2546398'], ['486', '202058', 'Govt. Nehru Degree College', 'Chichola  Road, \\nDongargarh', 'Rajnandgaon', '491445', 'Chhattisgarh', 'Govt.', 'Aided', '07823-232957. 233885'], ['487', '202059', 'Govt. College', 'Dharampura, Jagdalpur', 'Bastar', '494005', 'Chhattisgarh', 'Govt.', 'Aided', '07782-222940, 229340'], ['488', '202060', 'B.C.S. Govt. P.G. College', 'Dhamtari', 'Dhamtari', '493773', 'Chhattisgarh', 'Govt.', 'Aided', '07722-237933 (Tel/Fax)'], ['489', '202061', 'Govt. Pandit Jawaharlal Nehru \\nScience & Arts College', 'Bemetara', 'Durg', '491335', 'Chhattisgarh', 'Govt.', 'Aided', '07824-222269 (Tel/Fax)'], ['490', '202062', 'Govt. Phuljhar College', 'Saraipali', 'Mahasamund', '493558', 'Chhattisgarh', 'Govt.', 'Aided', '07725-226368'], ['491', '202063', 'Govt. Rajeev Lochan College', 'Rajim', 'Raipur', '', 'Chhattisgarh', 'Govt.', 'Aided', '07701-236513'], ['492', '202064', 'Govt. Shivnath Vigyan Mahavidyalaya', 'Rajnandgaon', 'Rajnandgaon', '491995', 'Chhattisgarh', 'Govt.', 'Aided', '07744-223077/251599'], ['493', '202065', 'Kalyan P.G. College', 'Bhilainagar', 'Durg', '490006', 'Chhattisgarh', 'Private', 'Aided', '0788-2223665'], ['494', '202066', 'Late Shri D.P. Choubey Govt. College', 'Saja', 'Durg', '491993', 'Chhattisgarh', 'Govt.', 'Aided', '07821-252625'], ['495', '202067', 'Nagrik Kalyan Mahavidyalaya', 'Nandini Nagar', 'Durg', '490036', 'Chhattisgarh', 'Private', 'Un-Aided', '07821-257434 (Tel/Fax)']]]\n"
     ]
    },
    {
     "name": "stdout",
     "output_type": "stream",
     "text": [
      "30 --- [[['S. \\nNo.', 'UGC, \\nCRO \\nCode', 'College Name', 'Address', 'District', 'Pin Code', 'State', 'Status \\n(Govt./ \\nPrivate)', 'Self-\\nfinancing/unaid\\ned/ aided', 'Phone No.'], ['496', '202068', 'Sant Thomas College', 'Ruabandha, Bhilai Nagar', 'Durg', '490006', 'Chhattisgarh', 'Private', 'Un-Aided', '0788-2275970'], ['497', '202069', 'Seth R.C.S. Arts & Commerce \\nCollege', 'Utai Road, Near \\nRavishankar Shukla', 'Durg', '491001', 'Chhattisgarh', 'Private', 'Aided', '0788-2322457 (Tel/Fax)'], ['498', '202071', 'Vipra Kala Vanijya Avam Sharirik \\nShiksha Mahavidyalaya', 'St di\\nNear R.D. Tiwari School, \\nG.E. Road,', 'Raipur', '492001', 'Chhattisgarh', 'Private', 'Un-Aided', '0771-2533389, \\n2212482, 40238(FAX)'], ['499', '202072', 'Govt. College', 'Pakhanjore', 'Kanker', '494776', 'Chhattisgarh', 'Govt.', 'Aided', ''], ['500', '202073', 'Govt. Rajmahant Nayandas Mahilang \\nMahavidyalaya', 'Bhatgaon', 'Raipur', '493222', 'Chhattisgarh', 'Govt.', 'Aided', ''], ['501', '202074', 'Govt. College', 'Gurur', 'Durg', '491227', 'Chhattisgarh', 'Govt.', 'Aided', '07749-265462 (P/F)'], ['502', '202077', 'Seth Phool Chand Agarwal Smriti \\nMahavidyalaya', 'Nawapara, Rajim', 'Raipur', '493881', 'Chhattisgarh', 'Private', 'Un-Aided', '07701-233794, 234094 \\n233904(Fax)'], ['503', '202078', 'Govt. College', 'Lal Bahadur Nagar', 'Rajnandgaon', '491557', 'Chhattisgarh', 'Govt.', 'Aided', '07745-258184'], ['504', '202079', 'Mahant Laxminarayan Das College', 'Chhotapara, Gandhi Chowk', 'Raipur', '492001', 'Chhattisgarh', 'Private', 'Un-Aided', ''], ['505', '202080', 'V.R.A.B.L. Govt. College', 'Rama Tola', 'Rajnandgaon', '491557', 'Chhattisgarh', 'Govt.', 'Aided', '07823-212513'], ['506', '202081', 'Shri Shankaracharya Mahavidyalaya', '97/2, Junvani Chowk, Near \\nShri Shankaracharya \\nTechnical Campus,', 'Durg', '490020', 'Chhattisgarh', 'Private', 'Un-Aided', '0788-2898846, \\n2351822, 228488,  \\n2220467,( 2225838 ,'], ['507', '202082', 'Late Shri Jaidev Satpathi Govt. \\nCollege', 'Basna', 'Mahasamund', '493554', 'Chhattisgarh', 'Govt.', 'Aided', '07724-246722'], ['508', '202083', 'Pt. Harishankar Shukla Memorial \\nCollege', 'Raipur', 'Raipur', '492007', 'Chhattisgarh', 'Private', 'Un-Aided', ''], ['509', '202084', 'Virangana Avanti Bai Govt. College', 'Chhuikhadan', 'Rajnandgaon', '491885', 'Chhattisgarh', 'Govt.', 'Aided', '07743-263517'], ['', '3.Indra Kala Sangeet University, Khairagarh (C.G.)', None, None, '', '', '', '', '', ''], ['510', '203001', 'Adarsh Sangeet College', 'Near Ravindra Bhawan', 'Sagar', '470001', 'Madhya \\nPradesh', 'Private', 'Aided', '07582-226637, 244094 \\n(Fax)'], ['511', '203002', 'Bhatkhande Sangeet Mahavidyalya', 'Near Madan Mahal Station \\nRoad, Napier Town', 'Jabalpur', '482002', 'Madhya \\nPradesh', 'Private', 'Aided', '0761-2401544']]]\n",
      "31 --- [[['S. \\nNo.', 'UGC, \\nCRO \\nCode', 'College Name', 'Address', 'District', 'Pin Code', 'State', 'Status \\n(Govt./ \\nPrivate)', 'Self-\\nfinancing/unaid\\ned/ aided', 'Phone No.'], ['512', '203003', 'Bhatkhande Sangeet Mahavidyalaya', 'Tikrapara', 'Bilaspur', '495004', 'Chhattisgarh', 'Private', 'Un-Aided', '07752-414995,  \\n268110,407750(FAX)'], ['513', '203004', 'Govt. Madhav Sangeet \\nMahavidyalaya', 'Lashkar', 'Gwalior', '', 'Madhya \\nPradesh', 'Govt.', 'Aided', ''], ['514', '203005', 'Kamla Devi Sangeet Mahavidyalaya', 'Gurukul Parisar, Kalibadi \\nRoad', 'Raipur', '492001', 'Chhattisgarh', 'Private', 'Aided', '0771-4052492, \\n4036032'], ['515', '203006', 'Sangeet Niketan', 'G-365, Preet Vihar', 'Delhi', '110092', 'Delhi', 'Private', 'Un-Aided', '011-22456736, \\n22522818'], ['516', '203007', 'Shriram Sangeet Mahavidyalaya', 'Budhapara', 'Raipur', '492001', 'Chhattisgarh', 'Private', 'Aided', '0771-2228535'], ['517', '203008', 'Bengal Fine Arts College', 'P.O. Chandrapara Bazar, \\nNorth-24 Parganas', 'West Bengal', '743245', 'West Bengal', 'Private', 'Un-Aided', '03215-251819, \\n250082(Tel./Fax)'], ['518', '203009', 'Kusum Devi Sangeet Mahavidyalaya', '', 'Raipur', '492001', 'Chhattisgarh', 'Private', 'Un-Aided', ''], ['519', '203010', 'Govt. Music College', 'Chimanbagh', 'Indore', '452007', 'Madhya \\nPradesh', 'Govt.', 'Aided', '0731-2534064'], ['520', '203011', 'Govt. Institute Of Fine Arts', 'Dharam Mandir Road, \\nMahadji Park,', 'Gwalior', '474009', 'Madhya \\nPradesh', 'Govt.', 'Aided', '0751-2323170, \\n2344889(FAX)'], ['521', '203012', 'Govt. Institute Of Fine Arts', 'M.G. Road', 'Indore', '452007', 'Madhya \\nPradesh', 'Govt.', 'Aided', '0731-2531938'], ['522', '203013', 'College of Visual Arts', 'New Garia (Rail Math), Hati \\nBari, P.O. Panchasayar', 'Kolkata', '700094', 'West Bengal', 'Private', 'Un-Aided', ''], ['RAJASTHAN', None, None, '', '', '', '', '', '', ''], ['', '1.Jai Narain Vyas University, Jodhpur (Raj.)', None, None, '', '', '', '', '', ''], ['523', '301001', 'Govt. Darbar Acharya Sanskrit \\nCollege', 'Juni Mandi, Sarrafa Bazar', 'Jodhpur', '342001', 'Rajasthan', 'Govt.', 'Aided', '0291-2622565'], ['524', '301002', 'Lachoo Memorial College of Science \\n& Technology', 'Jodhpur', 'Jodhpur', '342003', 'Rajasthan', 'Private', 'Un-Aided', '0291-2431238'], ['525', '301003', 'Mahila Mahavidyalaya', 'Kamla Nehru Nagar, \\nSoorsagar Road', 'Jodhpur', '342009', 'Rajasthan', 'Private', 'Un-Aided', '0291- 2759473'], ['526', '301004', 'Onkarmal Somani College Of \\nCommerce', 'Jodhpur', 'Jodhpur', '', 'Rajasthan', 'Private', 'Un-Aided', '0291-2753660']]]\n",
      "32 --- [[['S. \\nNo.', 'UGC, \\nCRO \\nCode', 'College Name', 'Address', 'District', 'Pin Code', 'State', 'Status \\n(Govt./ \\nPrivate)', 'Self-\\nfinancing/unaid\\ned/ aided', 'Phone No.'], ['527', '301005', \"Shah G.L.K. Teacher's College\", 'Umaid Hospital Road, Near \\nGeeta Bhawan', 'Jodhpur', '342003', 'Rajasthan', 'Private', 'Un-Aided', '0291-2632851, \\n2637323(FAX)'], ['528', '301006', 'Nakoda Parshvanath Jain \\nMahavidyalaya', 'Near Jalori Gate, Bheron \\nBhag Road, Sardar School', 'Jodhpur', '342001', 'Rajasthan', 'Private', 'Un-Aided', '0291-2626409'], ['529', '301007', 'Kamla Nehru College for Women', 'C\\nCircuit House Road', 'Jodhpur', '342003', 'Rajasthan', 'Private', 'Un-Aided', '0291-2510765'], ['530', '301010', 'Institute of Evening Studies', 'S.M.K. Campus, Jai Narain \\nVyas University', 'Jodhpur', '342001', 'Rajasthan', 'Constitu\\nent/Govt.', 'Aided', '0291-2513084, \\n2431968'], ['', '2.Maharshi Dayanand Saraswati University, Ajmer (Raj.)', None, None, '', '', '', '', '', ''], ['531', '302001', 'Acharya Shri Tulsi Amrit \\nMahavidyalaya', 'Gangapur', 'Bhilwara', '311801', 'Rajasthan', 'Private', 'Un-Aided', '01481-220093'], ['532', '302002', 'Agrawal Kanya Mahavidyalaya', 'Jaipur Road, Gangapur \\nCity', 'Sawai \\nMadhopur', '322201', 'Rajasthan', 'Private', 'Un-Aided', '07463-234027'], ['533', '302003', 'Alok Vigyan College', 'Kekri', 'Ajmer', '305404', 'Rajasthan', 'Private', 'Un-Aided', '01467-223075'], ['534', '302004', 'B.J.S. Rampuria Jain College', 'Dauji Road, Inside Kole \\nGate', 'Bikaner', '334001', 'Rajasthan', 'Private', 'Un-Aided', '0151-2543054, \\n2548049'], ['535', '302005', 'Govt. Bangur College', 'Station Road, Didwana', 'Nagaur', '341303', 'Rajasthan', 'Govt.', 'Aided', '01580-220024, 223548'], ['536', '302006', 'Ch. B.R.G. Govt. Girls College', 'Sriganganagar', 'Ganganagar', '335001', 'Rajasthan', 'Govt.', 'Aided', '0154-2470293'], ['537', '302007', 'Dayanand  College', 'Beawar Road, Ramganj', 'Ajmer', '305001', 'Rajasthan', 'Private', 'Un-Aided', '0145-2440792, \\n2441574'], ['538', '302008', 'Gandhi Shikshak Mahavidyalaya', 'Gulabpura', 'Bhilwara', '311021', 'Rajasthan', 'Private', 'Un-Aided', '01483-223206, 223033, \\n224310(FAX)'], ['539', '302009', 'Govt. Bangur P.G. College', 'Sojat Road', 'Pali', '306401', 'Rajasthan', 'Govt.', 'Aided', '02932-226452, 221881'], ['540', '302010', 'Birla Govt. College', 'Bhawani Mandi', 'Jhalawar', '326502', 'Rajasthan', 'Govt.', 'Aided', ''], ['541', '302011', 'Govt. P.G. College', 'Baheer Road', 'Tonk', '304001', 'Rajasthan', 'Govt.', 'Aided', '01432-247432'], ['542', '302012', 'Shri Govind Singh Gurjar Rajkiya \\nMahavidyalaya', 'Nasirabad, Beawar Road', 'Ajmer', '305601', 'Rajasthan', 'Govt.', 'Aided', '01491-220018']]]\n",
      "33 --- [[['S. \\nNo.', 'UGC, \\nCRO \\nCode', 'College Name', 'Address', 'District', 'Pin Code', 'State', 'Status \\n(Govt./ \\nPrivate)', 'Self-\\nfinancing/unaid\\ned/ aided', 'Phone No.'], ['543', '302013', 'Sri Baldev Ram Mirdha Govt. College', 'Nagaur', 'Nagaur', '341001', 'Rajasthan', 'Govt.', 'Aided', '01582-240853'], ['544', '302014', 'Govt. College', 'Near Govt. Hospital, Deoli', 'Tonk', '304804', 'Rajasthan', 'Govt.', 'Aided', 'Tel./Fax 01434-232202'], ['545', '302015', 'Govt. P.G. College', 'Jalore', 'Jalore', '343001', 'Rajasthan', 'Govt.', 'Aided', '02973-222244'], ['546', '302016', 'Govt. P.G. College', 'Jhalawar', 'Jhalawar', '326001', 'Rajasthan', 'Govt.', 'Aided', '07432-232315'], ['547', '302017', 'Govt. College', 'Kekri', 'Ajmer', '305404', 'Rajasthan', 'Govt.', 'Aided', '01467-220172(Tel/Fax)'], ['548', '302018', 'Govt. College', 'Gangapur City', 'Sawai \\nMadhopur', '322201', 'Rajasthan', 'Govt.', 'Aided', '07463-23216(Tel/Fax)'], ['549', '302019', 'Govt. P.G. College', 'Sawaimadhopur, Near Rly. \\nStation', 'Sawai \\nMadhopur', '322001', 'Rajasthan', 'Govt.', 'Aided', '07462-220307'], ['550', '302020', 'G.K. Gowani Govt. College', 'Raniwara Road, Bhinmal', 'Jalor', '343029', 'Rajasthan', 'Govt.', 'Aided', '02969-222063(FAX), \\n220041'], ['551', '302021', 'Govt. College', 'Bundi', 'Bundi', '323001', 'Rajasthan', 'Govt.', 'Aided', '0747-2445415 (Tel/Fax)'], ['552', '302022', 'Govt. College', 'Kota', 'Kota', '324001', 'Rajasthan', 'Govt.', 'Aided', '0744-2327626(FAX), \\n2320317'], ['553', '302023', 'Shri Ratanlal Kanwar Lal Patni Govt. \\nP.G. College', 'Kishangarh', 'Ajmer', '305802', 'Rajasthan', 'Govt.', 'Aided', '01463-245660'], ['554', '302024', 'Govt. College', 'Nh-15, Near Air Station, \\nSuratgarh', 'Sri \\nGanganagar', '335804', 'Rajasthan', 'Govt.', 'Aided', '01509-220168'], ['555', '302025', 'Govt. P.G. College', 'Karauli', 'Karauli', '322221', 'Rajasthan', 'Govt.', 'Aided', '07464-250023'], ['556', '302026', 'Govt. College', 'Mangroli By Pass Road, \\nBaran', 'Baran', '325205', 'Rajasthan', 'Govt.', 'Aided', '07453-230072'], ['557', '302027', 'Govt. College', 'Beawer Road', 'Ajmer', '305001', 'Rajasthan', 'Govt.', 'Aided', '0145-2461946, \\n2460946(TEL/FAX)'], ['558', '302028', 'Govt. College', 'Opp. FCI, Barmer', 'Barmer', '344001', 'Rajasthan', 'Govt.', 'Aided', '02982-220034, \\n223847(FAX)'], ['559', '302029', 'Govt. College', 'Ratangarh', 'Churu', '331022', 'Rajasthan', 'Govt.', 'Aided', '01567-223150(Tel/Fax)']]]\n",
      "34 --- [[['S. \\nNo.', 'UGC, \\nCRO \\nCode', 'College Name', 'Address', 'District', 'Pin Code', 'State', 'Status \\n(Govt./ \\nPrivate)', 'Self-\\nfinancing/unaid\\ned/ aided', 'Phone No.'], ['560', '302030', 'Dr. Bhim Rao Ambedkar Govt. \\nCollege', 'Sriganganagar', 'Ganganagar', '335001', 'Rajasthan', 'Govt.', 'Aided', '0154-2440056(Tel/Fax)'], ['561', '302031', 'Govt. Commerce College', 'Talwandi', 'Kota', '324005', 'Rajasthan', 'Govt.', 'Aided', '0744-2426258'], ['562', '302032', 'Dungar College', 'Bikaner', 'Bikaner', '334001', 'Rajasthan', 'Govt.', 'Aided', '0151-2528036, \\n2528047(Fax)'], ['563', '302033', 'Govt. Girls College', 'Beawar Road', 'Ajmer', '305001', 'Rajasthan', 'Govt.', 'Aided', '0145-2460524'], ['564', '302034', 'Govt. Girls College', 'Hospital Road, Baran', 'Baran', '325205', 'Rajasthan', 'Govt.', 'Aided', '07453-230421'], ['565', '302035', 'Govt. I.A.S.E.', 'Meershali, Jaipur Road', 'Ajmer', '305001', 'Rajasthan', 'Govt.', 'Aided', '0145-2429840'], ['566', '302036', 'Govt. Shastri Snaskrit College', 'Ganj, Ajmer', 'Ajmer', '305001', 'Rajasthan', 'Govt.', 'Aided', '0145-262283'], ['567', '302037', 'Rajkiya Vithal Nath Acharya Sanskrit \\nCollege', 'Tiplagarh Palace', 'Kota', '324006', 'Rajasthan', 'Govt.', 'Aided', '0744-2473142'], ['568', '302038', 'Gramothan Shiksha Vidyapeeth \\nCollege Of Education', 'Sangaria', 'Hanumangarh', '335063', 'Rajasthan', 'Private', 'Un-Aided', '01499-220050 (Tel/Fax)'], ['569', '302039', 'Gyani Ram Harakh Chand Saravgi \\nGovt. College', 'Sujangarh', 'Churu', '331507', 'Rajasthan', 'Govt.', 'Aided', '01581-280184'], ['570', '302040', 'Gyan Jyoti College', 'Srikaranpur', 'Sriganganagar', '335073', 'Rajasthan', 'Private', 'Un-Aided', '01501-220027, 226027 \\n(Tel/Fax)'], ['571', '302041', 'Institute Of Advance Studies In \\nEducation Gandhi Vidya Mandir', 'Sardarshahar', 'Churu', '331401', 'Rajasthan', 'Private', 'Un-Aided', '01564-220057(Tel/Fax),\\n220056'], ['572', '302042', 'J.L.N. Teachers Training College', 'Saketpura', 'Kota', '324008', 'Rajasthan', 'Private', 'Un-Aided', '0744-2371418'], ['573', '302043', 'Govt. J.D.B. Girls College', 'Nayapura', 'Kota', '324001', 'Rajasthan', 'Govt.', 'Aided', '0744-2324074'], ['574', '302044', 'Jialal Institute Of Education', 'Ramgung', 'Ajmer', '305011', 'Rajasthan', 'Private', 'Un-Aided', '0145-2445293, \\n2443945'], ['575', '302045', 'Kuchaman College', 'Station Road, Kuchaman \\nCity', 'Nagaur', '341508', 'Rajasthan', 'Private', 'Un-Aided', '01586-223724, 223728 \\nFAX-223724'], ['576', '302046', 'L.D.P.M. Sancheti Girls College', 'Vidhyavadi (Khimel) Rani', 'Pali', '306115', 'Rajasthan', 'Private', 'Un-Aided', '02934-222994, 222035, \\n36']]]\n"
     ]
    },
    {
     "name": "stdout",
     "output_type": "stream",
     "text": [
      "35 --- [[['S. \\nNo.', 'UGC, \\nCRO \\nCode', 'College Name', 'Address', 'District', 'Pin Code', 'State', 'Status \\n(Govt./ \\nPrivate)', 'Self-\\nfinancing/unaid\\ned/ aided', 'Phone No.'], ['577', '302047', 'Govt. Lohia College', 'New Railway Station', 'Churu', '331001', 'Rajasthan', 'Govt.', 'Aided', '01562-250362 (Tel/Fax)'], ['578', '302048', 'M.L.V. Govt. College', 'Bhilwara', 'Bhilwara', '311001', 'Rajasthan', 'Govt.', 'Aided', '01482-239970, \\n231810(Fax)'], ['579', '302049', 'Maharani Sudarsan College For \\nWomen', 'New Gajner Road', 'Bikaner', '334001', 'Rajasthan', 'Govt.', 'Aided', '0151-2528163(Tel/Fax),\\n2205638'], ['580', '302050', 'Maharshi Dayanand P.G. College', 'Sriganganagar', 'Sriganganagar', '335001', 'Rajasthan', 'Private', 'Un-Aided', '0154-2440756, \\n2440410'], ['581', '302051', 'Meera Kanya Mahavidyalaya', 'Sangaria', 'Sriganganagar', '335063', 'Rajasthan', 'Private', 'Un-Aided', '01499-220087, 253222 \\n(Tel/Fax)'], ['582', '302052', 'Mohta College', 'Sadhulpur', 'Churu', '331023', 'Rajasthan', 'Private', 'Un-Aided', '01559-22082, [Fax-\\n222404, 222082]'], ['583', '302053', 'Smt. N.D.B. Govt. College', 'Nohar', 'Hanumangarh', '335523', 'Rajasthan', 'Govt.', 'Aided', '01555-220233'], ['584', '302054', 'Nehru Memorial Law College', 'Hanumangarh', 'Hanumangarh', '335513', 'Rajasthan', 'Private', 'Un-Aided', '01552-222663 (P/F)'], ['585', '302055', 'Nehru Memorial P.G. College', 'Hanumangarh, Railway \\nStation', 'Hanumangarh', '335513', 'Rajasthan', 'Private', 'Un-Aided', '01552-222063, \\n223009(F)'], ['586', '302056', 'Rajasthan Vidyapeeth Haribhau \\nUpadhya-Shikshak Mahavidyalaya', 'Hatundi', 'Ajmer', '305012', 'Rajasthan', 'Private', 'Un-Aided', '0145-2796226, \\n2796326, 296226 (Fax)'], ['587', '302057', 'Rajasthan Vidyapeeth Vijaysingh \\nPathik Sharamjeevi College', 'Vaishali Nagar', 'Ajmer', '305004', 'Rajasthan', 'Private', 'Un-Aided', '0145-2640506, \\n2641542'], ['588', '302058', 'Shri Sangidass Bal Krishan Govt. \\nCollege', 'Jaisalmer', 'Jaisalmer', '345001', 'Rajasthan', 'Govt.', 'Aided', '02992-252350, \\n255043(Tel/Fax)'], ['589', '302059', 'S.D. Govt. College', 'Beawar', 'Ajmer', '305901', 'Rajasthan', 'Govt.', 'Aided', '01462-224548'], ['590', '302060', 'S.G.N.  Khalsa P.G. College', 'Hindumalkot Road', 'Sriganganagar', '335001', 'Rajasthan', 'Private', 'Un-Aided', '0154-2443369'], ['591', '302061', 'S.P.U. College', 'Bali Road, Falna', 'Pali', '306116', 'Rajasthan', 'Private', 'Un-Aided', '02938-236632,'], ['592', '302062', 'Saraswati Kanya Mahavidyalaya', 'Hanumangarh', 'Hanumangarh', '', 'Rajasthan', 'Private', 'Un-Aided', ''], ['593', '302064', 'S.B.D. Govt. College', 'Sardarshahar', 'Churu', '331403', 'Rajasthan', 'Govt.', 'Aided', '01564-220027']]]\n",
      "36 --- [[['S. \\nNo.', 'UGC, \\nCRO \\nCode', 'College Name', 'Address', 'District', 'Pin Code', 'State', 'Status \\n(Govt./ \\nPrivate)', 'Self-\\nfinancing/unaid\\ned/ aided', 'Phone No.'], ['594', '302065', 'Seth G.L. Bihani S.D. P.G. College', 'Sriganganagar', 'SriGanganagar', '335001', 'Rajasthan', 'Private', 'Un-Aided', '0154-2466775, \\n2465276'], ['595', '302066', 'Seth H.B.M. Adarsh Girls College', 'Near Nawab Ka Bera, \\nTank, Shanti Nagar,', 'Ajmer', '305001', 'Rajasthan', 'Private', 'Un-Aided', '0145-2461064'], ['596', '302067', 'Shaheed Bhagat Singh College', 'Raisinghnagar', 'Ganganagar', '335051', 'Rajasthan', 'Private', 'Un-Aided', '01507-220228'], ['597', '302068', 'Shree Jain P.G. College', 'Nokha Road', 'Bikaner', '334401', 'Rajasthan', 'Private', 'Un-Aided', '0151-2270141'], ['598', '302069', 'Shri Jain Terapanth College', 'Ranawas', 'Pali', '306023', 'Rajasthan', 'Private', 'Un-Aided', '02935-237450'], ['599', '302070', 'Shri P.S.B. Govt. College', 'Shahpura', 'Bhilwara', '311404', 'Rajasthan', 'Govt.', 'Aided', '01484-222217'], ['600', '302071', 'Shri Pragya Mahavidyalaya', 'Beawar Road, Bijainagar', 'Ajmer', '305624', 'Rajasthan', 'private', 'Un-Aided', '01462-230101, 231801'], ['601', '302072', 'S.M.M. Govt. Girls College', 'Bhilwara', 'Bhilwara', '311001', 'Rajasthan', 'Govt.', 'Aided', '01482-251702'], ['602', '302073', 'Sona Devi Sethia P.G. Girls College', 'Tharda Road, Sujangarh', 'Churu', '331507', 'Rajasthan', 'Private', 'Un-Aided', '01568-220226(Tel/Fax)'], ['603', '302074', 'Sophia Girls College', 'Meershahali, Jaipur Road', 'Ajmer', '305001', 'Rajasthan', 'Private', 'Un-Aided', '0145-2427243, \\n2623243, [Fax-'], ['604', '302075', 'Swami Keshwanand Gramothan \\nVidyapeeth', 'Sangaria', 'Hanumangarh', '335063', 'Rajasthan', 'Private', 'Un-Aided', '2632243]\\n01499-220079, FAX-\\n222250'], ['605', '302076', 'Govt. College', 'Hindauncity', 'Hindauncity', '322230', 'Rajasthan', 'Govt.', 'Aided', '07469-232013'], ['606', '302077', 'Churu Balika Mahavidyalaya', 'Near Madan Memorial, \\nStation Road', 'Churu', '331001', 'Rajasthan', 'Private', 'Un-Aided', '01562-250305, 254295'], ['607', '302078', 'Shri Digamber Jain Adarsh Mahila \\nSanskrit P.G. College', 'Shrimahaveerji', 'Karauli', '322220', 'Rajasthan', 'Private', 'Un-Aided', '07469, 224469, \\n224337, [Fax-224409]'], ['608', '302079', 'Govt. Girls College', 'Sawaimadhopur', 'Sawai \\nMadhopur', '322001', 'Rajasthan', 'Govt.', 'Aided', ''], ['609', '302081', 'Govt. College', 'Mertacity', 'Nagaur', '341510', 'Rajasthan', 'Govt.', 'Aided', '01590-220600'], ['610', '302082', 'Regional College Of Education', 'Capt. D.P. Choudhary Marg', 'Ajmer', '305004', 'Rajasthan', 'Private', 'Un-Aided', '0145-2643671, \\n2643862']]]\n",
      "37 --- [[['S. \\nNo.', 'UGC, \\nCRO \\nCode', 'College Name', 'Address', 'District', 'Pin Code', 'State', 'Status \\n(Govt./ \\nPrivate)', 'Self-\\nfinancing/unaid\\ned/ aided', 'Phone No.'], ['611', '302083', 'Govt. Girls College', 'Gulzar Bag', 'Tonk', '304001', 'Rajasthan', 'Govt.', 'Aided', '01432-254360'], ['612', '302084', 'Smt. S.D.C.L.B. Govt. Girls College', 'Pipar City', 'Jodhpur', '342601', 'Rajasthan', 'Govt.', 'Aided', '02930-234600'], ['613', '302085', 'Shri Shiv Charan Mathur Govt. \\nCollege', 'Mandalgarh', 'Bhilwara', '311604', 'Rajasthan', 'Govt.', 'Aided', '01489-230515 (Tel/Fax)'], ['614', '302086', 'Govt. College', 'Malpura', 'Tonk', '304502', 'Rajasthan', 'Govt.', 'Aided', '01437-226031'], ['615', '302087', 'M.B.R. Govt. College', 'Balotra', 'Barmer', '344022', 'Rajasthan', 'Govt.', 'Aided', ''], ['616', '302088', 'Govt. Girls College', 'Jalore', 'Jalore', '343001', 'Rajasthan', 'Govt.', 'Aided', ''], ['617', '302089', 'D.R.J. Govt. Girls College', 'Balotra', 'Barmer', '344022', 'Rajasthan', 'Govt.', 'Aided', '02988-223030'], ['618', '302090', 'Smt. Kamla Devi G.D. Mittal Mahila \\nMahavidyalaya', 'Sardarshahar', 'Churu', '331403', 'Rajasthan', 'Private', 'Un-Aided', '01564-220200'], ['619', '302091', 'Govt. Girls College', 'Bundi', 'Bundi', '323001', 'Rajasthan', 'Govt.', 'Aided', '0747-2443477'], ['', '3.Mohanlal Sukhadia University, Udaipur (Raj.)', None, None, '', '', '', '', '', ''], ['620', '303001', 'Bhupal Nobles College', 'Udaipur', 'Udaipur', '313002', 'Rajasthan', 'Private', '', '0294-2412981, \\n2423948'], ['621', '303002', 'Govt. College', 'Nimbahera', 'Chittorgarh', '312601', 'Rajasthan', 'Govt.', 'Aided', '01477-221559'], ['622', '303003', 'Maharana Pratap Govt. P.G. College', 'Udaipur Road', 'Chittorgarh', '312001', 'Rajasthan', 'Govt.', 'Aided', '01472-241041 (Tel/Fax)'], ['623', '303004', 'Govt. College', 'Banswara', 'Banswara', '327001', 'Rajasthan', 'Govt.', 'Aided', '02962-254022'], ['624', '303005', 'S.B.P. Govt. College', 'Dungarpur', 'Dungarpur', '314001', 'Rajasthan', 'Govt.', 'Aided', '02964-232523, \\n232137(Tel/Fax)'], ['625', '303006', 'Govt. College', 'Sirohi', 'Sirohi', '307001', 'Rajasthan', 'Govt.', 'Aided', '02972-221684(Tel/Fax)'], ['626', '303007', 'Govt. P.G. College', 'Banswara Road, \\nPratapgarh', 'Pratapgarh', '312605', 'Rajasthan', 'Govt.', 'Aided', '01478-222012(Tel/Fax)']]]\n",
      "38 --- [[['S. \\nNo.', 'UGC, \\nCRO \\nCode', 'College Name', 'Address', 'District', 'Pin Code', 'State', 'Status \\n(Govt./ \\nPrivate)', 'Self-\\nfinancing/unaid\\ned/ aided', 'Phone No.'], ['627', '303008', 'Govt. Meera Girls College', 'Meera Marg', 'Udaipur', '313001', 'Rajasthan', 'Govt.', 'Aided', '0294-2524006, \\n5102073[FAX]'], ['628', '303009', 'Pandit Udai Jain Mahavidyalaya', 'Kannore', 'Udaipur', '313604', 'Rajasthan', 'Private', 'Un-Aided', '02957-233236'], ['629', '303010', 'Shri Goverdhan Sanskrit College', 'Khadagada', 'Dungarpur', '314027', 'Rajasthan', 'Private', 'Un-Aided', '02966-254978'], ['630', '303011', 'S.M.B. Govt. College', 'Nathdwara', 'Rajsamand', '313301', 'Rajasthan', 'Govt.', 'Aided', '02953-234630, \\n230350[FAX]'], ['631', '303012', 'Seth M.C.C. Govt. College', 'Abu Road', 'Sirohi', '307026', 'Rajasthan', 'Govt.', 'Aided', '02974-222253, \\n225990[FAX]'], ['632', '303013', 'Vidya Bhawan Rural Institute', 'Badgoan Road', 'Udaipur', '313001', 'Rajasthan', 'Private', 'Un-Aided', '0294-2450403, \\n2453088'], ['633', '303014', \"Vidya Bhawan G.S. Teacher's \\nTraining College\", 'Centre For Teacher \\nEducation, Mohan Singh \\nMehta Marg', 'Udaipur', '313004', 'Rajasthan', 'Private', 'Un-Aided', '0294-2451814, \\n2451833, \\n2451323[FAX]'], ['634', '303015', 'Govt. College', 'Rajsamand', 'Rajsamand', '313324', 'Rajasthan', 'Govt.', 'Aided', '02952-221840'], ['635', '303016', 'Sanwarjit Govt. Girls College', 'Gandhi Nagar, Sector No. 4', 'Chhittorgarh', '312001', 'Rajasthan', 'Govt.', 'Aided', '01472-243301[Tel/Fax]'], ['636', '303017', 'Guru Nanak Girls College', 'Udaipur', 'Udaipur', '', 'Rajasthan', 'Private', 'Un-Aided', ''], ['637', '303018', \"Hari Dev Joshi Govt. Girl's College\", 'Banswara', 'Banswara', '', 'Rajasthan', 'Govt.', 'Aided', ''], ['638', '303019', 'Govt. Hadarani College', 'Salumbar', 'Udaipur', '313001', 'Rajasthan', 'Govt.', 'Aided', '02906-230563'], ['639', '303020', 'Shri Sanwaliaji Govt. College', 'Mandphiya', 'Chhittorgarh', '', 'Rajasthan', 'Govt.', 'Aided', '01470-248612'], ['640', '303021', 'Mama Baleshwar Dayal Govt. Degree \\nCollege', 'Kushalgarh', 'Banswara', '327801', 'Rajasthan', 'Govt.', 'Aided', '02965-275276'], ['641', '303023', 'Rajasthan Vidyapeeth', '', 'Udaipur', '', 'Rajasthan', 'Private', 'Un-Aided', ''], ['642', '303025', 'Govt. College', 'Deogarh Road, Amet', 'Rajsamand', '313332', 'Rajasthan', 'Govt.', 'Aided', '02908-251030 [Tel/Fax]'], ['643', '303026', 'Veer Bala Kali Bai Govt. Girls College', 'Dungarpur', 'Dungarpur', '314001', 'Rajasthan', 'Govt.', 'Aided', '02964-232263']]]\n",
      "39 --- [[['S. \\nNo.', 'UGC, \\nCRO \\nCode', 'College Name', 'Address', 'District', 'Pin Code', 'State', 'Status \\n(Govt./ \\nPrivate)', 'Self-\\nfinancing/unaid\\ned/ aided', 'Phone No.'], ['644', '303027', 'Govt. College', 'Sagwara', 'Dungarpur', '314025', 'Rajasthan', 'Govt.', 'Aided', '9413118251 [Dr. \\nKailash Joshi, Principal]'], ['645', '303028', 'N.L.T.S.G.M. Govt. Girls College', 'Nathdwara', 'Rajsamand', '313301', 'Rajasthan', 'Govt.', 'Aided', '02953-231602'], ['646', '303029', 'Govt. Girls College', 'Sirohi', 'Sirohi', '307001', 'Rajasthan', 'Govt.', 'Aided', '02972-221275'], ['647', '303030', 'Univesity College Of Science', 'Udaipur', 'Udaipur', '', 'Rajasthan', 'Govt.', 'Aided', ''], ['648', '303031', 'Sangvi Matushri Puribai Bhurmal Jain \\nGovt. College', 'Sheoganj', 'Sirohi', '307027', 'Rajasthan', 'Govt.', 'Aided', ''], ['649', '303032', 'Govt. College', 'Kherwara', 'Udaipur', '313803', 'Rajasthan', 'Govt.', 'Aided', '02907-260278'], ['650', '303033', 'Rajasthan Mahila Teachers Training \\nCollege', 'Gulab Bagh Road', 'Udaipur', '313001', 'Rajasthan', 'Private', 'Un-Aided', '0294-2523338'], ['651', '303034', 'Ravindranath Tagore P.G. College', 'Kapasan', 'Chittorgarh', '312202', 'Rajasthan', 'Private', 'Un-Aided', '01476-231726'], ['', '4.University of Rajasthan, Jaipur (Raj.)', None, None, '', '', '', '', '', ''], ['652', '304001', 'Agarwal College', 'Shri Agrasen Katla, Agra \\nRoad', 'Jaipur', '302003', 'Rajasthan', 'Private', 'Un-Aided', '0141-2614541, \\n2607700[fax]'], ['653', '304003', 'Arya Vidyapeeth Kanya \\nMahavidyalaya', 'Bhusawar', 'Bharatpur', '321406', 'Rajasthan', 'Private', 'Un-Aided', '05643-230402'], ['654', '304004', 'Baba Bhagwandas Govt. P.G. \\nCollege', 'Chimanpura (Shahpura)', 'Jaipur', '303103', 'Rajasthan', 'Govt.', 'Aided', ''], ['655', '304005', 'Chirawa College', 'Chirawa', 'Jhunjhunu', '333026', 'Rajasthan', 'Private', 'Un-Aided', '01596-220033, 221034 \\n223551[fax]'], ['656', '304006', 'G.D. Govt. College For Women', 'Alwar', 'Alwar', '301001', 'Rajasthan', 'Govt.', 'Aided', '0144-2700337 [Tel/Fax]'], ['657', '304007', 'Gopikrishna Piramal College Of \\nTeacher Education', 'Bagar', 'Jhunjhunu', '333023', 'Rajasthan', 'Private', 'Un-Aided', '01592-221421'], ['658', '304008', 'Gandhi Girls College', 'Kishangarh (Renwal)', 'Jaipur', '303603', 'Rajasthan', 'Private', 'Un-Aided', '01424-220013, 220037'], ['659', '304009', 'Babu Shobha Ram Govt. Arts College', 'Alwar', 'Alwar', '301001', 'Rajasthan', 'Govt.', 'Aided', '0144-2732336[Tel/Fax]']]]\n"
     ]
    },
    {
     "name": "stdout",
     "output_type": "stream",
     "text": [
      "40 --- [[['S. \\nNo.', 'UGC, \\nCRO \\nCode', 'College Name', 'Address', 'District', 'Pin Code', 'State', 'Status \\n(Govt./ \\nPrivate)', 'Self-\\nfinancing/unaid\\ned/ aided', 'Phone No.'], ['660', '304010', 'Govt. Shakambhar P.G. College', 'Phulera Road, Sambhar \\nLake', 'Jaipur', '303604', 'Rajasthan', 'Govt.', 'Aided', '01425-224407'], ['661', '304011', 'Swargiya Rajesh Poilet Govt. College', 'Baswa Road, Bandikui', 'Dausa', '303313', 'Rajasthan', 'Govt.', 'Aided', '01420-222049'], ['662', '304012', 'Govt. College', 'Tehla Road, Rajgarh', 'Alwar', '301408', 'Rajasthan', 'Govt.', 'Aided', '01464-220043'], ['663', '304013', 'Govt. College', 'Agra Road, Dausa', 'Dausa', '303303', 'Rajasthan', 'Govt.', 'Aided', '01427-223111, \\n224072[Fax]'], ['664', '304014', 'Govt. Dhuleshwar Sanskrit College', 'Gram-Manoharpur, \\nTeh.Shahpura, N.H. 08', 'Jaipur', '303104', 'Rajasthan', 'Govt.', 'Aided', ''], ['665', '304015', 'Govt. Maharaj Acharya Sanskrit \\nCollege', 'Gandhi Nagar, Near \\nGandhi Circle', 'Jaipur', '302015', 'Rajasthan', 'Govt.', 'Aided', '0141-2706608'], ['666', '304016', 'Govt. P.G. College', 'Tiwari Bagh', 'Dholpur', '', 'Rajasthan', 'Govt.', 'Aided', '05642-220868'], ['667', '304017', 'Govt. Shastri Sanskrit College', 'Chirana', 'Jhunjhunu', '', 'Rajasthan', 'Govt.', 'Aided', '01594-281200'], ['668', '304018', 'Govt. Shastri Sanskrit College', 'Lalsot Road', 'Dausa', '303303', 'Rajasthan', 'Govt.', 'Aided', '01427-221752[Tel./Fax]'], ['669', '304019', 'Master Aadityendra Govt. College,', 'Near Bus Stand, Deeg', 'Bharatpur', '321203', 'Rajasthan', 'Govt.', 'Aided', '05641-220084'], ['670', '304020', 'Govt. Sri Krishan Shastri S. College', 'Talawgaon', 'Dausa', '303503', 'Rajasthan', 'Govt.', 'Aided', '01431-283324'], ['671', '304021', 'Govt. Shastri Sanskrit College', 'Kotkasim', 'Alwar', '', 'Rajasthan', 'Govt.', 'Aided', '01460-235755'], ['672', '304022', 'I.G. Balika Niketan P.G.  College', 'Ardawata, Teh.Chirawa', 'Jhunjhunu', '333027', 'Rajasthan', 'Private', 'Un-Aided', '01596-220005, 222433, \\n220356[Fax]'], ['673', '304023', 'J.B. Shah Girls P.G. College', 'Mandwa Road', 'Jhunjhunu', '333001', 'Rajasthan', 'Private', 'Un-Aided', '01592-232627'], ['674', '304024', 'Kanoria P.G. Mahila Mahavidyalaya', 'JLN Marg, Bapu Nagar', 'Jaipur', '302004', 'Rajasthan', 'Private', 'Un-Aided', '0141-2707539, \\n2706672, 2701485[Fax]'], ['675', '304025', 'Lal Bahadur Shastri College', 'Tilak Nagar', 'Jaipur', '302004', 'Rajasthan', 'Private', 'Un-Aided', '0141-2622793'], ['676', '304026', 'Lal Bahadur Shastri Govt. College', 'Kotputli, NH 8', 'Jaipur', '303108', 'Rajasthan', 'Govt.', 'Aided', '01421-222008']]]\n",
      "41 --- [[['S. \\nNo.', 'UGC, \\nCRO \\nCode', 'College Name', 'Address', 'District', 'Pin Code', 'State', 'Status \\n(Govt./ \\nPrivate)', 'Self-\\nfinancing/unaid\\ned/ aided', 'Phone No.'], ['677', '304027', 'M.K.S. P.G. College Of Commerce', 'Pilani', 'Pilani', '', 'Rajasthan', 'Private', 'Un-Aided', ''], ['678', '304028', \"University Maharaja's College\", 'Sawai Ram Singh Road', 'Jaipur', '302004', 'Rajasthan', 'Govt.', 'Aided', '0141-2565096, \\n2567290'], ['679', '304029', 'Maharani Shri Jaya College', 'Bharatpur', 'Bharatpur', '321001', 'Rajasthan', 'Govt.', 'Aided', ''], ['680', '304030', 'Rameshwari Devi Girls College', 'Bharatpur', 'Bharatpur', '321001', 'Rajasthan', 'Govt.', 'Aided', ''], ['681', '304031', 'Seth R.L. Saharia College', 'Kaladera', 'Jaipur', '303801', 'Rajasthan', 'Govt.', 'Aided', ''], ['682', '304032', 'Raj Rishi College', 'Alwar', 'Alwar', '301001', 'Rajasthan', 'Govt.', 'Aided', '0144- 2700772'], ['683', '304033', 'Rajasthan S.P. Vidyapeeth', 'Shahpura Bagh (Amer \\nRoad)', 'Jaipur', '303002', 'Rajasthan', 'Private', 'Un-Aided', '0141-2671967'], ['684', '304034', 'Rajkiya Shastri Sanskrit College', 'Mahapura', 'Jaipur', '302004', 'Rajasthan', 'Govt.', 'Aided', '0141-2259070'], ['685', '304035', 'S.K. Govt. College', 'Silver Jubilee Road', 'Sikar', '332001', 'Rajasthan', 'Govt.', 'Aided', '01572-251039,  256402'], ['686', '304036', 'S.K. Govt. Shastri Sanskrit College', 'Sikar', 'Sikar', '332001', 'Rajasthan', 'Govt.', 'Aided', '01572-255577'], ['687', '304037', 'Seth Ramkishan Dhanuka Girls \\nCollege', 'Fatehpur Shekawati', 'Sikar', '332301', 'Rajasthan', 'Private', 'Un-Aided', '01571-230369'], ['688', '304038', 'S.S.G. Pareek College', 'Kantichand Road', 'Jaipur', '302016', 'Rajasthan', 'Private', 'Un-Aided', None], ['689', '304039', 'S.S. Jain Subodh College', 'Rambag Circle', 'Jaipur', '302004', 'Rajasthan', 'Private', 'Un-Aided', '0141-2565989'], ['690', '304040', 'Sant Jayacharya Mahila Mahavidyala', 'Shastri Nagar', 'Jaipur', '302016', 'Rajasthan', 'Private', 'Un-Aided', ''], ['691', '304041', 'Seth Gyaniram Bansidhar Podar \\nCollege', 'Rambilas Podar Road, \\nNawalgarh', 'Jhunjhunu', '333042', 'Rajasthan', 'Private', 'Un-Aided', '01594 222030, 223030'], ['692', '304042', 'Seth G.R. Chamaria Acharya Sanskrit \\nCollege', 'Fatehpur Shekawati', 'Sikar', '332301', 'Rajasthan', 'Private', 'Un-Aided', ''], ['693', '304043', 'Seth G.R.Chamaria College', 'Fatehpur-Shekhawati', 'Sikar', '332301', 'Rajasthan', 'Private', 'Un-Aided', '01571-222034']]]\n",
      "42 --- [[['S. \\nNo.', 'UGC, \\nCRO \\nCode', 'College Name', 'Address', 'District', 'Pin Code', 'State', 'Status \\n(Govt./ \\nPrivate)', 'Self-\\nfinancing/unaid\\ned/ aided', 'Phone No.'], ['694', '304044', 'Seth Motilal P.G. College', 'Opp. Ranisati Mandir, \\nJhunjhunu', 'Jhunjhunu', '333001', 'Rajasthan', 'Private', 'Un-Aided', '01592-232326, 232461, \\n238484'], ['695', '304045', 'Seth R.N. Ruia Govt. College', 'Ramgarh, Shekhawati', 'Sikar', '331024', 'Rajasthan', 'Govt.', 'Aided', ''], ['696', '304046', 'Kanoria College', 'Mukundgarh', 'Jhunjhunu', '333705', 'Rajasthan', 'Private', 'Un-Aided', '01594-252440'], ['697', '304047', 'Shree Bhawani Niketan P.G. Mahila \\nMahavidyalaya', 'Sikar Road', 'Jaipur', '', 'Rajasthan', 'Private', 'Un-Aided', '0141-2233953, \\n2233890'], ['698', '304048', 'Shri Jain Teachers Training College', '11, Gandhinagar, Scheme \\nNo. 08', 'Alwar', '301001', 'Rajasthan', 'Private', 'Un-Aided', ''], ['699', '304049', 'Shri Dadu Acharya Sanskrit College', 'Moti Deongri', 'Jaipur', '303104', 'Rajasthan', 'Private', 'Un-Aided', '01422-231955'], ['700', '304050', \"Shri Bajrang Teacher's Training \\nCollege\", 'Laldham, Bahaj Road, \\nDeeg', 'Bharatpur', '321203', 'Rajasthan', 'Private', 'Un-Aided', '05641-220008'], ['701', '304051', 'Shri Bhagwandas Todi College', 'Lachhmangarh', 'Sikar', '332311', 'Rajasthan', 'Private', 'Un-Aided', '01573-224792, 222234, \\n513434'], ['702', '304052', 'Shri Birla Acharya Sanskrit College', 'Near Vishram Vatika, Pilani', 'Jhunjhunu', '333031', 'Rajasthan', 'Private', 'Un-Aided', '01596-242542'], ['703', '304053', 'Govt. College', 'Behror', 'Alwar', '301001', 'Rajasthan', 'Govt.', 'Aided', '01494-220046(p/f)'], ['704', '304054', 'Shri Digamber Jain Acharya \\nMahavidyalaya', 'Maniharon Ka Rasta', 'Jaipur', '', 'Rajasthan', 'Private', 'Un-Aided', ''], ['705', '304055', 'Shri K.S. Balika Mahavidyalaya', 'Naya Sahar, Clock Tower', 'Sikar', '', 'Rajasthan', 'Private', 'Un-Aided', '01572-254382, 253382'], ['706', '304056', 'Shri Khandelwal Vaish Girls College', 'Sansar Chandra Road, \\nNear Anaj Mandi,', 'Jaipur', '302001', 'Rajasthan', 'Private', 'Un-Aided', '0141-2370015'], ['707', '304057', 'Shri S.D.S. Sanskrit College', 'Ch d l\\nLalsot', 'Dausa', '303503', 'Rajasthan', 'Private', 'Un-Aided', ''], ['708', '304058', 'Shri Sathya Sai College For Women', 'Jawahar Nagar', 'Jaipur', '302004', 'Rajasthan', 'Private', 'Un-Aided', ''], ['709', '304059', 'Shri Sitaram Modi Govt. Shasti \\nSanskrit College', 'Neemkatnana', 'Sikar', '332713', 'Rajasthan', 'Govt.', 'Aided', ''], ['710', '304060', 'Shri Veer Balika Mahavidyalaya', 'Purani Kotwali Ka Rasta, \\nJauhari Bazar, Jaipur', 'Jaipur', '302003', 'Rajasthan', 'Private', 'Un-Aided', '0141-2565250, \\n2574615']]]\n",
      "43 --- [[['S. \\nNo.', 'UGC, \\nCRO \\nCode', 'College Name', 'Address', 'District', 'Pin Code', 'State', 'Status \\n(Govt./ \\nPrivate)', 'Self-\\nfinancing/unaid\\ned/ aided', 'Phone No.'], ['711', '304061', 'Smt. Indramani Mandelia Griha \\nVigyan Shiksha Mahavidyalaya', 'Pilani', 'Jhunjhunu', '333031', 'Rajasthan', 'Private', 'Un-Aided', ''], ['712', '304062', 'Smt. G.D.S. Govt. Shastri Sanskrit \\nCollege', 'Kaladera', 'Jaipur', '303801', 'Rajasthan', 'Govt.', 'Aided', '01423-265482'], ['713', '304063', 'S.N.K.P. Govt. College', 'Neem Ka Thana', 'Sikar', '332713', 'Rajasthan', 'Govt.', 'Aided', ''], ['714', '304064', 'University Commerce College', 'Jawahar Lal Nehru Marg', 'Jaipur', '302018', 'Rajasthan', 'Govt.', 'Aided', '2710483'], ['715', '304065', 'University Evening Law College', 'Centre-II, University Of \\nRajasthan,', 'Jaipur', '302004', 'Rajasthan', 'Govt.', 'Aided', '0141-2704882'], ['716', '304066', 'University Law College', 'Vidhi Bhawan, University \\nCampus, University Of', 'Jaipur', '302004', 'Rajasthan', 'Govt.', 'Aided', '0141-2709260'], ['717', '304067', \"University Maharani's College\", 'R j th\\nSawai Ram Singh Road', 'Jaipur', '302001', 'Rajasthan', 'Govt.', 'Aided', '0141-2373628, \\n2371918(F)'], ['718', '304068', 'University Rajasthan College', 'Jawahar Lal Nehru Marg', 'Jaipur', '302004', 'Rajasthan', 'Govt.', 'Aided', '0141-2703655'], ['719', '304069', 'Vedic Kanya Mahavidyala', 'Raja Park', 'Jaipur', '302004', 'Rajasthan', 'Private', 'Un-Aided', '2622055'], ['720', '304070', 'Vinodini P.G. College', '(Rajota) Khetri', 'Jhunjhunu', '333503', 'Rajasthan', 'Private', 'Un-Aided', '01593-234825'], ['721', '304072', \"Modi Mahila Girl's College\", 'Lakshmangarh,', 'Sikar', '', 'Rajasthan', 'Private', 'Un-Aided', ''], ['722', '304074', 'Shree Radhey P.G. College', 'Raghu Vihar, Kherli Road, \\nNadbai', 'Bharatpur', '321602', 'Rajasthan', 'Private', 'Un-Aided', '05643-276000'], ['723', '304076', 'Govt. College', 'Khetri', 'Jhunjhunu', '333503', 'Rajasthan', 'Govt.', 'Aided', '01593-234070'], ['724', '304077', 'Shrimati Guman Bai Pannalal \\nBhanshali Govt. Girls College', 'Pali', 'Pali', '306401', 'Rajasthan', 'Govt.', 'Aided', ''], ['725', '304078', 'Govt. Girls College', 'Gupteshwar Road', 'Dausa', '303303', 'Rajasthan', 'Govt.', 'Aided', '01427-220515'], ['726', '304079', 'Ginnidevi Satyanarayan Sekhsaria \\nGirls P.G. College', 'Chirawa', 'Chirawa', '333026', 'Rajasthan', 'Private', 'Un-Aided', '01596-220289'], ['727', '304080', 'Seth N.M.T. Govt. Girls College', 'Bagar Road', 'Jhunjhunu', '333001', 'Rajasthan', 'Govt.', 'Aided', '01592-239131, \\n09414465673']]]\n",
      "44 --- [[['S. \\nNo.', 'UGC, \\nCRO \\nCode', 'College Name', 'Address', 'District', 'Pin Code', 'State', 'Status \\n(Govt./ \\nPrivate)', 'Self-\\nfinancing/unaid\\ned/ aided', 'Phone No.'], ['728', '304081', 'Govt. College', 'Jaipur Road, Bayana', 'Bharatpur', '321401', 'Rajasthan', 'Govt.', 'Aided', '05648-222135, \\n223672[f]'], ['729', '304082', 'Rajesh Pilot Govt. College', 'Kothun Road, Lalsot', 'Dausa', '303503', 'Rajasthan', 'Govt.', 'Aided', '01431-222423, 260423'], ['730', '304083', 'B.G.D. Govt. Girls College,', 'Shahpura', 'Jaipur', '303103', '', 'Govt.', 'Aided', '01422-222995'], ['731', '304084', 'Govt. Girls College', 'Morija Road, Behind Power \\nHouse, Chomu', 'Jaipur', '303702', 'Rajasthan', 'Govt.', 'Aided', '01423-223224'], ['732', '304085', 'Govt. Shastri Sanskrit College', 'Alwar', 'Alwar', '', 'Rajasthan', 'Govt.', 'Aided', ''], ['733', '304086', \"Vedanta P.G. Girl's College\", 'Ringas', 'Sikar', '332404', 'Rajasthan', 'Private', 'Un-Aided', ''], ['734', '304087', 'Gramin Mahila Mahavidyalaya', 'Shivsinghpura', 'Sikar', '332024', 'Rajasthan', 'Private', 'Un-Aided', '01572-248204'], ['735', '304088', 'S.S.G. Pareek P.G. Girls College', 'B-12, Opp. Power House, \\nJhotwara Road, Banipark', 'Jaipur', '', 'Rajasthan', 'Private', 'Un-Aided', '0141-2204578'], ['736', '304089', 'Dr. Mohanlal Piramal Girls College', 'Bagar', 'Jhunjhunu', '333023', 'Rajasthan', 'Private', 'Un-Aided', ''], ['737', '304090', \"Maharaja Surajmal Teacher's Training \\nCollege\", 'Near Pakka Bagh', 'Bharatpur', '321001', 'Rajasthan', 'Private', 'Un-Aided', '05644-231576'], ['738', '304091', 'Sri Agrasen P.G. College of \\nEducation (CTE)', 'Jamdoli', 'Jaipur', '302031', 'Rajasthan', 'Private', 'Aided', '0141-2680466, \\n2681583'], ['739', '304092', 'Smt. Gomati Devi Mahavidyalaya', 'Badagaon', 'Jhunjhunu', '333021', 'Rajasthan', 'Private', 'Un-Aided', ''], ['740', '304093', 'Shri Radheshyam R. Morarka Govt. \\nCollege', 'Kareendia Road, Road \\nNo.2', 'Jhunjhunu', '333001', 'Rajasthan', 'Govt.', 'Aided', ''], ['741', '304094', 'S.S.G. Pareek P.G.College of \\nEducation', 'Jhotwara Road, Banipark', 'Jaipur', '333001', 'Rajasthan', 'Private', 'Un-Aided', ''], ['742', '304095', 'Govt. College', 'Thanagazi', 'Alwar', '301022', 'Rajasthan', 'Govt.', 'Aided', '01465-224342']]]\n"
     ]
    },
    {
     "name": "stdout",
     "output_type": "stream",
     "text": [
      "45 --- [[['S. \\nNo.', 'UGC, \\nCRO \\nCode', 'College Name', 'Address', 'District', 'Pin Code', 'State', 'Status \\n(Govt./ \\nPrivate)', 'Self-\\nfinancing/unaid\\ned/ aided', 'Phone No.'], ['743', '304096', 'Poddar International college', 'Sector-7, In front of Govt. \\nWater Tank, Near Shipra \\nPath, Mansarovar', 'Jaipur', '302020', 'Rajasthan', 'Private', 'Un-Aided', ''], ['744', '304097', 'Rajasthan Shiksha Mahavidyalaya', 'Pt. Ramjilal Shastri Marg, \\nSita Ram Bazar, Samrat Ji \\nKa Bagh, Brahmpuri', 'Jaipur', '302002', 'Rajasthan', 'Private', 'Un-Aided', '0141-2671553'], ['745', '304098', 'Govt. College', 'Bibirani, PO-Ikrotiya, Teh-\\nKotkasim', 'Alwar', '301702', 'Rajasthan', 'Govt.', 'Aided', '01460-233263'], ['746', '305001', 'Govt. Laxminath Shastri Sanskrit \\nCollege', 'Chithwari', 'Jaipur', '303805', 'Rajasthan', 'Govt.', 'Aided', '0142-3236121']]]\n"
     ]
    }
   ],
   "source": [
    "with pdfplumber.open(\"collage_pdf.pdf\") as pdf:\n",
    "    pages = pdf.pages\n",
    "    for i,pg in enumerate(pages):\n",
    "        #print(pg)                                     #<Page:1>\n",
    "        table = pages[i].extract_tables()\n",
    "        print(f'{i} --- {table}')"
   ]
  },
  {
   "cell_type": "markdown",
   "metadata": {},
   "source": [
    "## Extracting tables\n",
    "Table Extraction (TE) is the task of detecting and decomposing table information in a document.\n",
    "### Table-extraction methods\n",
    "pdfplumber.Page objects can call the following table methods:"
   ]
  },
  {
   "cell_type": "code",
   "execution_count": 19,
   "metadata": {},
   "outputs": [
    {
     "name": "stdout",
     "output_type": "stream",
     "text": [
      "[['S. \\nNo.', 'UGC, \\nCRO \\nCode', 'College Name', 'Address', 'District', 'Pin Code', 'State', 'Status \\n(Govt./ \\nPrivate)', 'Self-\\nfinancing/unaid\\ned/ aided', 'Phone No.'], ['', '1.Awadesh Pratap Singh University, Rewa (M.P.)', None, None, '', '', '', '', '', ''], ['1', '101001', 'Arts Degree College', 'Sirmour', 'Rewa', '486448', 'Madhya \\nPradesh', 'Private', 'Aided', '07660-260626'], ['2', '101002', 'Arts Degree College', 'Semaria', 'Rewa', '486445', 'Madhya \\nPradesh', 'Private', 'Un-Aided', '07660-266503'], ['3', '101003', 'Govt. Arts & Commerce Degree \\nCollege', 'At. & P.O. Beohari', 'Shahdol', '484774', 'Madhya \\nPradesh', 'Govt.', 'Aided', '07650-262235'], ['4', '101004', 'Govt. Arts, Commerce & Science \\nCollege', 'Rampur Naikin', 'Sidhi', '486775', 'Madhya \\nPradesh', 'Govt.', 'Aided', '07802-280879'], ['5', '101005', 'Govt. College', 'Station Road', 'Satna', '485001', 'Madhya \\nPradesh', 'Govt.', 'Aided', '07672-223209'], ['6', '101006', 'Govt. College', 'Churhat', 'Sidhi', '486771', 'Madhya \\nPradesh', 'Govt.', 'Aided', ''], ['7', '101007', 'Govt. R.V.P.S. Degree College', 'Shahpura Road', 'Umaria', '484661', 'Madhya \\nPradesh', 'Govt.', 'Aided', '07653-222230'], ['8', '101008', 'Govt. College', 'Birsinghpur Pali', 'Umaria', '484551', 'Madhya \\nPradesh', 'Govt.', 'Aided', ''], ['9', '101009', 'Govt. College Of Education', 'University Road', 'Rewa', '486002', 'Madhya \\nPradesh', 'Govt.', 'Aided', '07662-258860'], ['10', '101010', 'Govt. College', 'Amarpatan', 'Satna', '485775', 'Madhya \\nPradesh', 'Govt.', 'Aided', '07675-272240'], ['11', '101011', 'R.N. Singh Govt. College', 'Waidhan', 'Singrauli', '486886', 'Madhya \\nPradesh', 'Govt.', 'Aided', '07805-233252'], ['12', '101012', 'Govt. Degree College', 'Jaisingh Nagar', 'Shahdol', '484771', 'Madhya \\nPradesh', 'Govt.', 'Aided', '07651-221288'], ['', '101014', 'Govt. Girls Degree College (as per \\nUGC Directory Only 2f)', 'North Karaudiya', 'Sidhi', '486661', 'Madhya \\nPradesh', 'Govt.', 'Aided', '07822-252378'], ['13', '101015', 'Govt. Girls College', 'Kothi Campus', 'Rewa', '486001', 'Madhya \\nPradesh', 'Govt.', 'Aided', '07662-252109'], ['14', '101016', 'Govt. Indira Gandhi Home Science \\nCollege', 'Pandav Nagar', 'Shahdol', '484001', 'Madhya \\nPradesh', 'Govt.', 'Aided', '07652-245110']]\n",
      "\n",
      "[<pdfplumber.table.Table object at 0x0000013422EC4BE0>]\n",
      "\n",
      "[[['S. \\nNo.', 'UGC, \\nCRO \\nCode', 'College Name', 'Address', 'District', 'Pin Code', 'State', 'Status \\n(Govt./ \\nPrivate)', 'Self-\\nfinancing/unaid\\ned/ aided', 'Phone No.'], ['', '1.Awadesh Pratap Singh University, Rewa (M.P.)', None, None, '', '', '', '', '', ''], ['1', '101001', 'Arts Degree College', 'Sirmour', 'Rewa', '486448', 'Madhya \\nPradesh', 'Private', 'Aided', '07660-260626'], ['2', '101002', 'Arts Degree College', 'Semaria', 'Rewa', '486445', 'Madhya \\nPradesh', 'Private', 'Un-Aided', '07660-266503'], ['3', '101003', 'Govt. Arts & Commerce Degree \\nCollege', 'At. & P.O. Beohari', 'Shahdol', '484774', 'Madhya \\nPradesh', 'Govt.', 'Aided', '07650-262235'], ['4', '101004', 'Govt. Arts, Commerce & Science \\nCollege', 'Rampur Naikin', 'Sidhi', '486775', 'Madhya \\nPradesh', 'Govt.', 'Aided', '07802-280879'], ['5', '101005', 'Govt. College', 'Station Road', 'Satna', '485001', 'Madhya \\nPradesh', 'Govt.', 'Aided', '07672-223209'], ['6', '101006', 'Govt. College', 'Churhat', 'Sidhi', '486771', 'Madhya \\nPradesh', 'Govt.', 'Aided', ''], ['7', '101007', 'Govt. R.V.P.S. Degree College', 'Shahpura Road', 'Umaria', '484661', 'Madhya \\nPradesh', 'Govt.', 'Aided', '07653-222230'], ['8', '101008', 'Govt. College', 'Birsinghpur Pali', 'Umaria', '484551', 'Madhya \\nPradesh', 'Govt.', 'Aided', ''], ['9', '101009', 'Govt. College Of Education', 'University Road', 'Rewa', '486002', 'Madhya \\nPradesh', 'Govt.', 'Aided', '07662-258860'], ['10', '101010', 'Govt. College', 'Amarpatan', 'Satna', '485775', 'Madhya \\nPradesh', 'Govt.', 'Aided', '07675-272240'], ['11', '101011', 'R.N. Singh Govt. College', 'Waidhan', 'Singrauli', '486886', 'Madhya \\nPradesh', 'Govt.', 'Aided', '07805-233252'], ['12', '101012', 'Govt. Degree College', 'Jaisingh Nagar', 'Shahdol', '484771', 'Madhya \\nPradesh', 'Govt.', 'Aided', '07651-221288'], ['', '101014', 'Govt. Girls Degree College (as per \\nUGC Directory Only 2f)', 'North Karaudiya', 'Sidhi', '486661', 'Madhya \\nPradesh', 'Govt.', 'Aided', '07822-252378'], ['13', '101015', 'Govt. Girls College', 'Kothi Campus', 'Rewa', '486001', 'Madhya \\nPradesh', 'Govt.', 'Aided', '07662-252109'], ['14', '101016', 'Govt. Indira Gandhi Home Science \\nCollege', 'Pandav Nagar', 'Shahdol', '484001', 'Madhya \\nPradesh', 'Govt.', 'Aided', '07652-245110']]]\n"
     ]
    }
   ],
   "source": [
    "with pdfplumber.open(\"collage_pdf.pdf\") as pdf: \n",
    "    page = pdf.pages[0]\n",
    "\n",
    "    print(page.extract_table())                         #Returns the text extracted from the largest table on the page\n",
    "    print(\"\")\n",
    "    print(page.find_tables())                           #Returns a list of Table objects.\n",
    "    print(\"\")\n",
    "    print(page.extract_tables())                       #Returns the text extracted from all tables found on the page,"
   ]
  },
  {
   "cell_type": "code",
   "execution_count": 53,
   "metadata": {},
   "outputs": [],
   "source": [
    "import pandas as pd"
   ]
  },
  {
   "cell_type": "code",
   "execution_count": 41,
   "metadata": {},
   "outputs": [
    {
     "name": "stdout",
     "output_type": "stream",
     "text": [
      "['QF 1.100 (Build 1010) CWC Software, Inc. Page:    1', 'Batch: 181 Test Mode Accounts Receivable Report Detailed by Company 03/14/16, 11:23:32', 'Sorted by Customer', 'Order Invoice Amount Payment Not', 'Name/Company Telephone Publication Number Date Qty Paid Date Invoiced Current 31-60 61-90 Over 90 ST', 'Barrow, Mr. Clyde AIC 2968 02/25/16    1      0.00      0.00    240.00      0.00      0.00      0.00 A', 'Brown, Ms. Ida QWKFIL 2301 02/05/16    1     75.00 02/05/16      0.00      0.00     45.00      0.00      0.00 A', 'Bush, Mr. George W. AIC 3086    1      0.00    216.00      0.00      0.00      0.00      0.00 A', 'QWKFIL 3075    1      0.00    108.00      0.00      0.00      0.00      0.00 A', '     0.00    324.00      0.00      0.00      0.00      0.00']\n"
     ]
    }
   ],
   "source": [
    "import pdfplumber  \n",
    "with pdfplumber.open(\"invoice.pdf\") as pdf:\n",
    "    first_page = pdf.pages[0]\n",
    "    rows = first_page.extract_text().split('\\n')\n",
    "    print(rows[:10])"
   ]
  },
  {
   "cell_type": "code",
   "execution_count": 47,
   "metadata": {},
   "outputs": [
    {
     "data": {
      "text/plain": [
       "(Decimal('36.001'), Decimal('84.491'), Decimal('747.265'), Decimal('431.987'))"
      ]
     },
     "execution_count": 47,
     "metadata": {},
     "output_type": "execute_result"
    }
   ],
   "source": [
    "with pdfplumber.open(\"invoice.pdf\") as pdf:\n",
    "    first_page = pdf.pages[0]\n",
    "    rows = first_page.extract_words()\n",
    "\n",
    "for row in rows:\n",
    "    if row['text'] == 'Name/Company':\n",
    "        x0 = row['x0']\n",
    "        top = row['top']\n",
    "    if row['text'] == 'Watson':\n",
    "        bottom = row['bottom']\n",
    "    if row['text'] == 'ST':\n",
    "        x1 = row['x1']\n",
    "\n",
    "coordinates = (x0, top, x1, bottom)\n",
    "coordinates"
   ]
  },
  {
   "cell_type": "code",
   "execution_count": 48,
   "metadata": {},
   "outputs": [],
   "source": [
    "# Now we can crop the page starting with Name/Company for our upper and left bound, to right of 'ST' and bottom of \"Watson\"\n",
    "with pdfplumber.open(\"invoice.pdf\") as pdf:\n",
    "    first_page = pdf.pages[0]\n",
    "    page = first_page.crop(bbox=(coordinates))  # (x0, top, x1, bottom)\n",
    "    table = page.extract_table(table_settings={\n",
    "        \"vertical_strategy\": \"text\",\n",
    "        \"horizontal_strategy\": \"text\",\n",
    "    })"
   ]
  },
  {
   "cell_type": "code",
   "execution_count": 51,
   "metadata": {},
   "outputs": [
    {
     "name": "stdout",
     "output_type": "stream",
     "text": [
      "[['Name/Company Telephone', 'Publication', 'Number', 'Date', 'Qty', 'Paid', 'Date', 'Invoiced', 'Current', '31-60', '61-90 Ov', 'er 90', 'ST'], ['Barrow, Mr. Clyde', 'AIC', '2968', '02/25/16', '1', '0.00', '', '0.00', '240.00', '0.00', '0.00', '0.00', 'A'], ['Brown, Ms. Ida', 'QWKFIL', '2301', '02/05/16', '1', '75.00', '02/05/16', '0.00', '0.00', '45.00', '0.00', '0.00', 'A'], ['Bush, Mr. George W.', 'AIC', '3086', '', '1', '0.00', '', '216.00', '0.00', '0.00', '0.00', '0.00', 'A'], ['', 'QWKFIL', '3075', '', '1', '0.00', '', '108.00', '0.00', '0.00', '0.00', '0.00', 'A'], ['', '', '', '', '', '0.00', '', '324.00', '0.00', '0.00', '0.00', '0.00', ''], ['Clinton, Mr. Bill', 'AIC', '3064', '', '1', '0.00', '', '216.00', '0.00', '0.00', '0.00', '0.00', 'A'], ['', 'QWKFIL', '3053', '', '1', '0.00', '', '108.00', '0.00', '0.00', '0.00', '0.00', 'A'], ['', '', '', '', '', '0.00', '', '324.00', '0.00', '0.00', '0.00', '0.00', ''], ['Crewe, Mr. Ralph', 'QWKFIL', '2753', '01/01/16', '1', '0.00', '', '0.00', '0.00', '0.00', '79.50', '0.00', 'Sn'], ['Manette, Mr. Alexander', 'QWKFIL', '2571', '02/01/16', '1', '0.00', '', '0.00', '0.00', '75.00', '0.00', '0.00', 'Sn'], ['Parker, Ms. Bonnie', 'AIC', '2979', '02/25/16', '1', '0.00', '', '0.00', '240.00', '0.00', '0.00', '0.00', 'A'], ['Robin, Mr. Christopher', 'QWKFIL', '2551', '09/03/15', '1', '37.50', '10/04/15', '0.00', '0.00', '0.00', '0.00', '37.50', 'Sn'], ['Smith, Joe', 'AIC', '3031', '', '1', '0.00', '', '256.80', '0.00', '0.00', '0.00', '0.00', 'A'], ['Enterprise Inc.', 'QWKFIL', '2673', '09/06/15', '1', '0.00', '', '0.00', '0.00', '0.00', '0.00', '75.00', 'Sn'], ['Sulu, Mr. Hikaru', '', '', '', '', '', '', '', '', '', '', '', ''], ['Enterprise Inc.', 'QWKFIL', '2764', '09/13/15', '1', '0.00', '', '0.00', '0.00', '0.00', '0.00', '75.00', 'Sn'], ['Uhura, Ms. Nyota', '', '', '', '', '', '', '', '', '', '', '', ''], ['The Daily Planet', 'AIC', '3009', '', '1', '240.00', '11/22/15', '16.80', '0.00', '0.00', '0.00', '0.00', 'A'], ['Olson, Mr. Jimmy', '', '', '', '', '', '', '', '', '', '', '', ''], ['US Robots & Mechanical Men Inc', 'QWKFIL', '2684', '09/06/15', '1', '0.00', '', '0.00', '0.00', '0.00', '0.00', '75.00', 'Sn'], ['Calvin, Dr. Susan', '', '', '', '', '', '', '', '', '', '', '', ''], ['Watson & Crick, Inc.', 'QWKFIL', '3042', '', '4', '0.00', '', '504.00', '0.00', '0.00', '0.00', '0.00', 'A']]\n",
      "\n",
      "['Name/Company Telephone', 'Publication', 'Number', 'Date', 'Qty', 'Paid', 'Date', 'Invoiced', 'Current', '31-60', '61-90 Ov', 'er 90', 'ST']\n",
      "['Barrow, Mr. Clyde', 'AIC', '2968', '02/25/16', '1', '0.00', '', '0.00', '240.00', '0.00', '0.00', '0.00', 'A']\n",
      "['Brown, Ms. Ida', 'QWKFIL', '2301', '02/05/16', '1', '75.00', '02/05/16', '0.00', '0.00', '45.00', '0.00', '0.00', 'A']\n",
      "['Bush, Mr. George W.', 'AIC', '3086', '', '1', '0.00', '', '216.00', '0.00', '0.00', '0.00', '0.00', 'A']\n",
      "['', 'QWKFIL', '3075', '', '1', '0.00', '', '108.00', '0.00', '0.00', '0.00', '0.00', 'A']\n",
      "['', '', '', '', '', '0.00', '', '324.00', '0.00', '0.00', '0.00', '0.00', '']\n",
      "['Clinton, Mr. Bill', 'AIC', '3064', '', '1', '0.00', '', '216.00', '0.00', '0.00', '0.00', '0.00', 'A']\n",
      "['', 'QWKFIL', '3053', '', '1', '0.00', '', '108.00', '0.00', '0.00', '0.00', '0.00', 'A']\n"
     ]
    }
   ],
   "source": [
    "print(table)\n",
    "print(\"\")\n",
    "for row in table[:8]:                                   #displaying data-wise\n",
    "    print(row)"
   ]
  },
  {
   "cell_type": "code",
   "execution_count": 55,
   "metadata": {},
   "outputs": [
    {
     "data": {
      "text/html": [
       "<div>\n",
       "<style scoped>\n",
       "    .dataframe tbody tr th:only-of-type {\n",
       "        vertical-align: middle;\n",
       "    }\n",
       "\n",
       "    .dataframe tbody tr th {\n",
       "        vertical-align: top;\n",
       "    }\n",
       "\n",
       "    .dataframe thead th {\n",
       "        text-align: right;\n",
       "    }\n",
       "</style>\n",
       "<table border=\"1\" class=\"dataframe\">\n",
       "  <thead>\n",
       "    <tr style=\"text-align: right;\">\n",
       "      <th></th>\n",
       "      <th>0</th>\n",
       "      <th>1</th>\n",
       "      <th>2</th>\n",
       "      <th>3</th>\n",
       "      <th>4</th>\n",
       "      <th>5</th>\n",
       "      <th>6</th>\n",
       "      <th>7</th>\n",
       "      <th>8</th>\n",
       "      <th>9</th>\n",
       "      <th>10</th>\n",
       "      <th>11</th>\n",
       "      <th>12</th>\n",
       "    </tr>\n",
       "  </thead>\n",
       "  <tbody>\n",
       "    <tr>\n",
       "      <th>0</th>\n",
       "      <td>Name/Company Telephone</td>\n",
       "      <td>Publication</td>\n",
       "      <td>Number</td>\n",
       "      <td>Date</td>\n",
       "      <td>Qty</td>\n",
       "      <td>Paid</td>\n",
       "      <td>Date</td>\n",
       "      <td>Invoiced</td>\n",
       "      <td>Current</td>\n",
       "      <td>31-60</td>\n",
       "      <td>61-90 Ov</td>\n",
       "      <td>er 90</td>\n",
       "      <td>ST</td>\n",
       "    </tr>\n",
       "    <tr>\n",
       "      <th>1</th>\n",
       "      <td>Barrow, Mr. Clyde</td>\n",
       "      <td>AIC</td>\n",
       "      <td>2968</td>\n",
       "      <td>02/25/16</td>\n",
       "      <td>1</td>\n",
       "      <td>0.00</td>\n",
       "      <td></td>\n",
       "      <td>0.00</td>\n",
       "      <td>240.00</td>\n",
       "      <td>0.00</td>\n",
       "      <td>0.00</td>\n",
       "      <td>0.00</td>\n",
       "      <td>A</td>\n",
       "    </tr>\n",
       "    <tr>\n",
       "      <th>2</th>\n",
       "      <td>Brown, Ms. Ida</td>\n",
       "      <td>QWKFIL</td>\n",
       "      <td>2301</td>\n",
       "      <td>02/05/16</td>\n",
       "      <td>1</td>\n",
       "      <td>75.00</td>\n",
       "      <td>02/05/16</td>\n",
       "      <td>0.00</td>\n",
       "      <td>0.00</td>\n",
       "      <td>45.00</td>\n",
       "      <td>0.00</td>\n",
       "      <td>0.00</td>\n",
       "      <td>A</td>\n",
       "    </tr>\n",
       "    <tr>\n",
       "      <th>3</th>\n",
       "      <td>Bush, Mr. George W.</td>\n",
       "      <td>AIC</td>\n",
       "      <td>3086</td>\n",
       "      <td></td>\n",
       "      <td>1</td>\n",
       "      <td>0.00</td>\n",
       "      <td></td>\n",
       "      <td>216.00</td>\n",
       "      <td>0.00</td>\n",
       "      <td>0.00</td>\n",
       "      <td>0.00</td>\n",
       "      <td>0.00</td>\n",
       "      <td>A</td>\n",
       "    </tr>\n",
       "    <tr>\n",
       "      <th>4</th>\n",
       "      <td></td>\n",
       "      <td>QWKFIL</td>\n",
       "      <td>3075</td>\n",
       "      <td></td>\n",
       "      <td>1</td>\n",
       "      <td>0.00</td>\n",
       "      <td></td>\n",
       "      <td>108.00</td>\n",
       "      <td>0.00</td>\n",
       "      <td>0.00</td>\n",
       "      <td>0.00</td>\n",
       "      <td>0.00</td>\n",
       "      <td>A</td>\n",
       "    </tr>\n",
       "    <tr>\n",
       "      <th>5</th>\n",
       "      <td></td>\n",
       "      <td></td>\n",
       "      <td></td>\n",
       "      <td></td>\n",
       "      <td></td>\n",
       "      <td>0.00</td>\n",
       "      <td></td>\n",
       "      <td>324.00</td>\n",
       "      <td>0.00</td>\n",
       "      <td>0.00</td>\n",
       "      <td>0.00</td>\n",
       "      <td>0.00</td>\n",
       "      <td></td>\n",
       "    </tr>\n",
       "    <tr>\n",
       "      <th>6</th>\n",
       "      <td>Clinton, Mr. Bill</td>\n",
       "      <td>AIC</td>\n",
       "      <td>3064</td>\n",
       "      <td></td>\n",
       "      <td>1</td>\n",
       "      <td>0.00</td>\n",
       "      <td></td>\n",
       "      <td>216.00</td>\n",
       "      <td>0.00</td>\n",
       "      <td>0.00</td>\n",
       "      <td>0.00</td>\n",
       "      <td>0.00</td>\n",
       "      <td>A</td>\n",
       "    </tr>\n",
       "    <tr>\n",
       "      <th>7</th>\n",
       "      <td></td>\n",
       "      <td>QWKFIL</td>\n",
       "      <td>3053</td>\n",
       "      <td></td>\n",
       "      <td>1</td>\n",
       "      <td>0.00</td>\n",
       "      <td></td>\n",
       "      <td>108.00</td>\n",
       "      <td>0.00</td>\n",
       "      <td>0.00</td>\n",
       "      <td>0.00</td>\n",
       "      <td>0.00</td>\n",
       "      <td>A</td>\n",
       "    </tr>\n",
       "    <tr>\n",
       "      <th>8</th>\n",
       "      <td></td>\n",
       "      <td></td>\n",
       "      <td></td>\n",
       "      <td></td>\n",
       "      <td></td>\n",
       "      <td>0.00</td>\n",
       "      <td></td>\n",
       "      <td>324.00</td>\n",
       "      <td>0.00</td>\n",
       "      <td>0.00</td>\n",
       "      <td>0.00</td>\n",
       "      <td>0.00</td>\n",
       "      <td></td>\n",
       "    </tr>\n",
       "    <tr>\n",
       "      <th>9</th>\n",
       "      <td>Crewe, Mr. Ralph</td>\n",
       "      <td>QWKFIL</td>\n",
       "      <td>2753</td>\n",
       "      <td>01/01/16</td>\n",
       "      <td>1</td>\n",
       "      <td>0.00</td>\n",
       "      <td></td>\n",
       "      <td>0.00</td>\n",
       "      <td>0.00</td>\n",
       "      <td>0.00</td>\n",
       "      <td>79.50</td>\n",
       "      <td>0.00</td>\n",
       "      <td>Sn</td>\n",
       "    </tr>\n",
       "    <tr>\n",
       "      <th>10</th>\n",
       "      <td>Manette, Mr. Alexander</td>\n",
       "      <td>QWKFIL</td>\n",
       "      <td>2571</td>\n",
       "      <td>02/01/16</td>\n",
       "      <td>1</td>\n",
       "      <td>0.00</td>\n",
       "      <td></td>\n",
       "      <td>0.00</td>\n",
       "      <td>0.00</td>\n",
       "      <td>75.00</td>\n",
       "      <td>0.00</td>\n",
       "      <td>0.00</td>\n",
       "      <td>Sn</td>\n",
       "    </tr>\n",
       "    <tr>\n",
       "      <th>11</th>\n",
       "      <td>Parker, Ms. Bonnie</td>\n",
       "      <td>AIC</td>\n",
       "      <td>2979</td>\n",
       "      <td>02/25/16</td>\n",
       "      <td>1</td>\n",
       "      <td>0.00</td>\n",
       "      <td></td>\n",
       "      <td>0.00</td>\n",
       "      <td>240.00</td>\n",
       "      <td>0.00</td>\n",
       "      <td>0.00</td>\n",
       "      <td>0.00</td>\n",
       "      <td>A</td>\n",
       "    </tr>\n",
       "    <tr>\n",
       "      <th>12</th>\n",
       "      <td>Robin, Mr. Christopher</td>\n",
       "      <td>QWKFIL</td>\n",
       "      <td>2551</td>\n",
       "      <td>09/03/15</td>\n",
       "      <td>1</td>\n",
       "      <td>37.50</td>\n",
       "      <td>10/04/15</td>\n",
       "      <td>0.00</td>\n",
       "      <td>0.00</td>\n",
       "      <td>0.00</td>\n",
       "      <td>0.00</td>\n",
       "      <td>37.50</td>\n",
       "      <td>Sn</td>\n",
       "    </tr>\n",
       "    <tr>\n",
       "      <th>13</th>\n",
       "      <td>Smith, Joe</td>\n",
       "      <td>AIC</td>\n",
       "      <td>3031</td>\n",
       "      <td></td>\n",
       "      <td>1</td>\n",
       "      <td>0.00</td>\n",
       "      <td></td>\n",
       "      <td>256.80</td>\n",
       "      <td>0.00</td>\n",
       "      <td>0.00</td>\n",
       "      <td>0.00</td>\n",
       "      <td>0.00</td>\n",
       "      <td>A</td>\n",
       "    </tr>\n",
       "    <tr>\n",
       "      <th>14</th>\n",
       "      <td>Enterprise Inc.</td>\n",
       "      <td>QWKFIL</td>\n",
       "      <td>2673</td>\n",
       "      <td>09/06/15</td>\n",
       "      <td>1</td>\n",
       "      <td>0.00</td>\n",
       "      <td></td>\n",
       "      <td>0.00</td>\n",
       "      <td>0.00</td>\n",
       "      <td>0.00</td>\n",
       "      <td>0.00</td>\n",
       "      <td>75.00</td>\n",
       "      <td>Sn</td>\n",
       "    </tr>\n",
       "    <tr>\n",
       "      <th>15</th>\n",
       "      <td>Sulu, Mr. Hikaru</td>\n",
       "      <td></td>\n",
       "      <td></td>\n",
       "      <td></td>\n",
       "      <td></td>\n",
       "      <td></td>\n",
       "      <td></td>\n",
       "      <td></td>\n",
       "      <td></td>\n",
       "      <td></td>\n",
       "      <td></td>\n",
       "      <td></td>\n",
       "      <td></td>\n",
       "    </tr>\n",
       "    <tr>\n",
       "      <th>16</th>\n",
       "      <td>Enterprise Inc.</td>\n",
       "      <td>QWKFIL</td>\n",
       "      <td>2764</td>\n",
       "      <td>09/13/15</td>\n",
       "      <td>1</td>\n",
       "      <td>0.00</td>\n",
       "      <td></td>\n",
       "      <td>0.00</td>\n",
       "      <td>0.00</td>\n",
       "      <td>0.00</td>\n",
       "      <td>0.00</td>\n",
       "      <td>75.00</td>\n",
       "      <td>Sn</td>\n",
       "    </tr>\n",
       "    <tr>\n",
       "      <th>17</th>\n",
       "      <td>Uhura, Ms. Nyota</td>\n",
       "      <td></td>\n",
       "      <td></td>\n",
       "      <td></td>\n",
       "      <td></td>\n",
       "      <td></td>\n",
       "      <td></td>\n",
       "      <td></td>\n",
       "      <td></td>\n",
       "      <td></td>\n",
       "      <td></td>\n",
       "      <td></td>\n",
       "      <td></td>\n",
       "    </tr>\n",
       "    <tr>\n",
       "      <th>18</th>\n",
       "      <td>The Daily Planet</td>\n",
       "      <td>AIC</td>\n",
       "      <td>3009</td>\n",
       "      <td></td>\n",
       "      <td>1</td>\n",
       "      <td>240.00</td>\n",
       "      <td>11/22/15</td>\n",
       "      <td>16.80</td>\n",
       "      <td>0.00</td>\n",
       "      <td>0.00</td>\n",
       "      <td>0.00</td>\n",
       "      <td>0.00</td>\n",
       "      <td>A</td>\n",
       "    </tr>\n",
       "    <tr>\n",
       "      <th>19</th>\n",
       "      <td>Olson, Mr. Jimmy</td>\n",
       "      <td></td>\n",
       "      <td></td>\n",
       "      <td></td>\n",
       "      <td></td>\n",
       "      <td></td>\n",
       "      <td></td>\n",
       "      <td></td>\n",
       "      <td></td>\n",
       "      <td></td>\n",
       "      <td></td>\n",
       "      <td></td>\n",
       "      <td></td>\n",
       "    </tr>\n",
       "    <tr>\n",
       "      <th>20</th>\n",
       "      <td>US Robots &amp; Mechanical Men Inc</td>\n",
       "      <td>QWKFIL</td>\n",
       "      <td>2684</td>\n",
       "      <td>09/06/15</td>\n",
       "      <td>1</td>\n",
       "      <td>0.00</td>\n",
       "      <td></td>\n",
       "      <td>0.00</td>\n",
       "      <td>0.00</td>\n",
       "      <td>0.00</td>\n",
       "      <td>0.00</td>\n",
       "      <td>75.00</td>\n",
       "      <td>Sn</td>\n",
       "    </tr>\n",
       "    <tr>\n",
       "      <th>21</th>\n",
       "      <td>Calvin, Dr. Susan</td>\n",
       "      <td></td>\n",
       "      <td></td>\n",
       "      <td></td>\n",
       "      <td></td>\n",
       "      <td></td>\n",
       "      <td></td>\n",
       "      <td></td>\n",
       "      <td></td>\n",
       "      <td></td>\n",
       "      <td></td>\n",
       "      <td></td>\n",
       "      <td></td>\n",
       "    </tr>\n",
       "    <tr>\n",
       "      <th>22</th>\n",
       "      <td>Watson &amp; Crick, Inc.</td>\n",
       "      <td>QWKFIL</td>\n",
       "      <td>3042</td>\n",
       "      <td></td>\n",
       "      <td>4</td>\n",
       "      <td>0.00</td>\n",
       "      <td></td>\n",
       "      <td>504.00</td>\n",
       "      <td>0.00</td>\n",
       "      <td>0.00</td>\n",
       "      <td>0.00</td>\n",
       "      <td>0.00</td>\n",
       "      <td>A</td>\n",
       "    </tr>\n",
       "  </tbody>\n",
       "</table>\n",
       "</div>"
      ],
      "text/plain": [
       "                                 0            1       2         3    4  \\\n",
       "0           Name/Company Telephone  Publication  Number      Date  Qty   \n",
       "1                Barrow, Mr. Clyde          AIC    2968  02/25/16    1   \n",
       "2                   Brown, Ms. Ida       QWKFIL    2301  02/05/16    1   \n",
       "3              Bush, Mr. George W.          AIC    3086              1   \n",
       "4                                        QWKFIL    3075              1   \n",
       "5                                                                        \n",
       "6                Clinton, Mr. Bill          AIC    3064              1   \n",
       "7                                        QWKFIL    3053              1   \n",
       "8                                                                        \n",
       "9                 Crewe, Mr. Ralph       QWKFIL    2753  01/01/16    1   \n",
       "10          Manette, Mr. Alexander       QWKFIL    2571  02/01/16    1   \n",
       "11              Parker, Ms. Bonnie          AIC    2979  02/25/16    1   \n",
       "12          Robin, Mr. Christopher       QWKFIL    2551  09/03/15    1   \n",
       "13                      Smith, Joe          AIC    3031              1   \n",
       "14                 Enterprise Inc.       QWKFIL    2673  09/06/15    1   \n",
       "15                Sulu, Mr. Hikaru                                       \n",
       "16                 Enterprise Inc.       QWKFIL    2764  09/13/15    1   \n",
       "17                Uhura, Ms. Nyota                                       \n",
       "18                The Daily Planet          AIC    3009              1   \n",
       "19                Olson, Mr. Jimmy                                       \n",
       "20  US Robots & Mechanical Men Inc       QWKFIL    2684  09/06/15    1   \n",
       "21               Calvin, Dr. Susan                                       \n",
       "22            Watson & Crick, Inc.       QWKFIL    3042              4   \n",
       "\n",
       "         5         6         7        8      9        10     11  12  \n",
       "0     Paid      Date  Invoiced  Current  31-60  61-90 Ov  er 90  ST  \n",
       "1     0.00                0.00   240.00   0.00      0.00   0.00   A  \n",
       "2    75.00  02/05/16      0.00     0.00  45.00      0.00   0.00   A  \n",
       "3     0.00              216.00     0.00   0.00      0.00   0.00   A  \n",
       "4     0.00              108.00     0.00   0.00      0.00   0.00   A  \n",
       "5     0.00              324.00     0.00   0.00      0.00   0.00      \n",
       "6     0.00              216.00     0.00   0.00      0.00   0.00   A  \n",
       "7     0.00              108.00     0.00   0.00      0.00   0.00   A  \n",
       "8     0.00              324.00     0.00   0.00      0.00   0.00      \n",
       "9     0.00                0.00     0.00   0.00     79.50   0.00  Sn  \n",
       "10    0.00                0.00     0.00  75.00      0.00   0.00  Sn  \n",
       "11    0.00                0.00   240.00   0.00      0.00   0.00   A  \n",
       "12   37.50  10/04/15      0.00     0.00   0.00      0.00  37.50  Sn  \n",
       "13    0.00              256.80     0.00   0.00      0.00   0.00   A  \n",
       "14    0.00                0.00     0.00   0.00      0.00  75.00  Sn  \n",
       "15                                                                   \n",
       "16    0.00                0.00     0.00   0.00      0.00  75.00  Sn  \n",
       "17                                                                   \n",
       "18  240.00  11/22/15     16.80     0.00   0.00      0.00   0.00   A  \n",
       "19                                                                   \n",
       "20    0.00                0.00     0.00   0.00      0.00  75.00  Sn  \n",
       "21                                                                   \n",
       "22    0.00              504.00     0.00   0.00      0.00   0.00   A  "
      ]
     },
     "execution_count": 55,
     "metadata": {},
     "output_type": "execute_result"
    }
   ],
   "source": [
    "df = pd.DataFrame(table)\n",
    "df"
   ]
  },
  {
   "cell_type": "markdown",
   "metadata": {},
   "source": [
    "### Specific comparison "
   ]
  },
  {
   "cell_type": "markdown",
   "metadata": {},
   "source": [
    "pdfminer.six provides the foundation for pdfplumber. It primarily focuses on parsing PDFs, analyzing PDF layouts and object positioning, and extracting text. It does not provide tools for table extraction or visual debugging."
   ]
  },
  {
   "cell_type": "markdown",
   "metadata": {},
   "source": [
    "camelot, tabula-py, and pdftables all focus primarily on extracting tables. In some cases, they may be better suited to the particular tables you are trying to extract."
   ]
  },
  {
   "cell_type": "markdown",
   "metadata": {},
   "source": [
    "PDF generation,PDF modification,Optical character recognition (OCR) usually not done by pdfplumber"
   ]
  },
  {
   "cell_type": "code",
   "execution_count": null,
   "metadata": {},
   "outputs": [],
   "source": []
  }
 ],
 "metadata": {
  "kernelspec": {
   "display_name": "Python 3",
   "language": "python",
   "name": "python3"
  },
  "language_info": {
   "codemirror_mode": {
    "name": "ipython",
    "version": 3
   },
   "file_extension": ".py",
   "mimetype": "text/x-python",
   "name": "python",
   "nbconvert_exporter": "python",
   "pygments_lexer": "ipython3",
   "version": "3.8.3"
  }
 },
 "nbformat": 4,
 "nbformat_minor": 4
}
