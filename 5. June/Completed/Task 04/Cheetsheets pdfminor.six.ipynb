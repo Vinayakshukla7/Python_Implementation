{
 "cells": [
  {
   "cell_type": "markdown",
   "metadata": {},
   "source": [
    "# What is pdfminor.six ?\n",
    "Pdfminer.six is a community maintained fork of the original PDFMiner. It is a tool for extracting information from PDF documents. It focuses on getting and analyzing text data. Pdfminer.six extracts the text from a page directly from the sourcecode of the PDF. It can also be used to get the exact location, font or color of the text.\n",
    "## why .six ? \n",
    "The original goal of pdfminer.six was to add support for Python 3. This was done with the six package. The six package helps to write code that is compatible with Python 3. Hence, pdfminer.six.\n",
    "### Features\n",
    "Parse all objects from a PDF document into Python objects.<br>\n",
    "Analyze and group text in a human-readable way.<br>\n",
    "Extract text, images (JPG, JBIG2 and Bitmaps), table-of-contents, tagged contents and more."
   ]
  },
  {
   "cell_type": "markdown",
   "metadata": {},
   "source": [
    "## Install"
   ]
  },
  {
   "cell_type": "raw",
   "metadata": {},
   "source": [
    "pip install pdfminer.six"
   ]
  },
  {
   "cell_type": "markdown",
   "metadata": {},
   "source": [
    "## Import"
   ]
  },
  {
   "cell_type": "raw",
   "metadata": {},
   "source": [
    "import pdfminer"
   ]
  },
  {
   "cell_type": "markdown",
   "metadata": {},
   "source": [
    "## Extract text from a PDF using Python"
   ]
  },
  {
   "cell_type": "raw",
   "metadata": {},
   "source": [
    "text = extract_text('path/name.pdf')\n",
    "\n",
    "\n",
    "print(repr(text))        #Hello \\n\\nWorld\\n\\nHello \\n\\nWorld\\n\\nH e l l o  \\n\\nW o r l d\\n\\nH e l l o  \\n\\nW o r l d\\n\\n\\x0c \n",
    "print(text)              # words in the new lines as in pdf withour '\\n'"
   ]
  },
  {
   "cell_type": "markdown",
   "metadata": {},
   "source": [
    "## Extract Element from a PDF using Python"
   ]
  },
  {
   "cell_type": "markdown",
   "metadata": {},
   "source": [
    "The high level functions can be used to achieve common tasks. In this case, we can use api_extract_pages:"
   ]
  },
  {
   "cell_type": "raw",
   "metadata": {},
   "source": [
    "from pdfminer.high_level import extract_pages\n",
    "for page_layout in extract_pages(\"test.pdf\"):\n",
    "    for element in page_layout:\n",
    "        print(element)"
   ]
  },
  {
   "cell_type": "markdown",
   "metadata": {},
   "source": [
    "Each element will be an LTTextBox, LTFigure, LTLine, LTRect or an LTImage. Some of these can be iterated further, for example iterating though an LTTextBox will give you an LTTextLine, and these in turn can be iterated through to get an LTChar."
   ]
  },
  {
   "cell_type": "markdown",
   "metadata": {},
   "source": [
    "### When we want to extract all of the text"
   ]
  },
  {
   "cell_type": "raw",
   "metadata": {},
   "source": [
    "from pdfminer.high_level import extract_pages\n",
    "from pdfminer.layout import LTTextContainer\n",
    "for page_layout in extract_pages(\"test.pdf\"):\n",
    "    for element in page_layout:\n",
    "        if isinstance(element, LTTextContainer):        \n",
    "            print(element.get_text())"
   ]
  },
  {
   "cell_type": "markdown",
   "metadata": {},
   "source": [
    "isinstance() returns True if the specified object is of the specifie type, otherwise False."
   ]
  },
  {
   "cell_type": "markdown",
   "metadata": {},
   "source": [
    "### When we extract the fontname or size of each individual character:"
   ]
  },
  {
   "cell_type": "raw",
   "metadata": {},
   "source": [
    "from pdfminer.high_level import extract_pages\n",
    "from pdfminer.layout import LTTextContainer, LTChar\n",
    "for page_layout in extract_pages(\"test.pdf\"):\n",
    "    for element in page_layout:\n",
    "        if isinstance(element, LTTextContainer):\n",
    "            for text_line in element:\n",
    "                for character in text_line:\n",
    "                    if isinstance(character, LTChar):\n",
    "                        print(character.fontname)\n",
    "                        print(character.size)"
   ]
  }
 ],
 "metadata": {
  "kernelspec": {
   "display_name": "Python 3",
   "language": "python",
   "name": "python3"
  },
  "language_info": {
   "codemirror_mode": {
    "name": "ipython",
    "version": 3
   },
   "file_extension": ".py",
   "mimetype": "text/x-python",
   "name": "python",
   "nbconvert_exporter": "python",
   "pygments_lexer": "ipython3",
   "version": "3.8.3"
  }
 },
 "nbformat": 4,
 "nbformat_minor": 4
}
