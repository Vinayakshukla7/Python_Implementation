{
 "cells": [
  {
   "cell_type": "code",
   "execution_count": 114,
   "metadata": {},
   "outputs": [],
   "source": [
    "import re                                                #regular expression \n",
    "import pandas as pd                                      #pandas library "
   ]
  },
  {
   "cell_type": "code",
   "execution_count": 115,
   "metadata": {},
   "outputs": [],
   "source": [
    "lists=[('ABC/1213456789/246','   123'),('   ABC/1213456789/246','123'),         #lists of test cases to get into the CSV\n",
    "       ('   ABC/1213456789/246','   123'),('ABC/1213456789/246',''),\n",
    "       ('','123'),('',''),]"
   ]
  },
  {
   "cell_type": "code",
   "execution_count": 116,
   "metadata": {},
   "outputs": [],
   "source": [
    "Alphanumeric=[]                                                 #initiliazation required                                    \n",
    "Numeric=[]\n",
    "final=[]\n",
    "rex=re.compile(r'[\\W_]+')                                      #regular expression to choose alphanumeric"
   ]
  },
  {
   "cell_type": "code",
   "execution_count": 117,
   "metadata": {},
   "outputs": [],
   "source": [
    "rexs=re.compile(r'[\\D]+')                                      #regular expression to choose number"
   ]
  },
  {
   "cell_type": "code",
   "execution_count": 118,
   "metadata": {},
   "outputs": [],
   "source": [
    "for name in lists:                                             #to itterate \n",
    "    Alphanumeric.append(rex.sub('',name[0]))\n",
    "    Numeric.append(rexs.sub('',name[1]))\n",
    "    \n",
    "df=pd.DataFrame(list(zip(Alphanumeric,Numeric)),                     #convertion to pandas dataframe\n",
    "              columns=['Alphanumeric','Numeric'])\n"
   ]
  },
  {
   "cell_type": "code",
   "execution_count": null,
   "metadata": {},
   "outputs": [],
   "source": [
    "df.to_csv('Required_file.csv')                                        #downloading to excel file"
   ]
  }
 ],
 "metadata": {
  "kernelspec": {
   "display_name": "Python 3",
   "language": "python",
   "name": "python3"
  },
  "language_info": {
   "codemirror_mode": {
    "name": "ipython",
    "version": 3
   },
   "file_extension": ".py",
   "mimetype": "text/x-python",
   "name": "python",
   "nbconvert_exporter": "python",
   "pygments_lexer": "ipython3",
   "version": "3.8.3"
  }
 },
 "nbformat": 4,
 "nbformat_minor": 4
}
