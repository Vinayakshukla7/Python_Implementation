{
 "cells": [
  {
   "cell_type": "code",
   "execution_count": 6,
   "metadata": {},
   "outputs": [],
   "source": [
    "#importing package\n",
    "import shutil, os, glob\n",
    "import pandas as pd\n",
    "from collections import Counter\n",
    "from selenium import webdriver                       \n",
    "from selenium.webdriver.support.ui import Select  \n",
    "from selenium.webdriver.common.keys import Keys\n",
    "import time  "
   ]
  },
  {
   "cell_type": "code",
   "execution_count": 10,
   "metadata": {},
   "outputs": [],
   "source": [
    "chromeOptions = webdriver.ChromeOptions()\n",
    "prefs = {\"download.default_directory\" : r\"C:\\Users\\vsvin\\Downloads\\one\"}\n",
    "chromeOptions.add_experimental_option(\"prefs\",prefs)\n",
    "chromedriver = \"D:\\Sem 6\\Selenium\\chromedriver.exe\"\n",
    "driver = webdriver.Chrome(executable_path=chromedriver, options=chromeOptions)\n",
    "driver.get(\"https://www.mplocalelection.gov.in/matdatasuchiM1.aspx\")      #used to get to the site which need to be scraped \n",
    "\n",
    "driver.implicitly_wait(5)                                           #sets a sticky timeout to implicitly wait for an element to be found\n",
    "\n",
    "driver.switch_to.frame(\"ctl00_ContentPlaceHolder1_if1\")              #by this we get into the frame which includes targeted element .\n",
    "\n",
    "sel=Select(driver.find_element_by_xpath(\"//select[@name='DD_Year']\"))          #here we select the drop down menu .\n",
    "sel.select_by_visible_text(\"2018\")                                             #used to choose the option the option of drop down menu\n",
    "sel=Select(driver.find_element_by_xpath(\"//select[@name='DD_District']\")) \n",
    "sel.select_by_visible_text(\"इन्दौर\")                                            \n",
    "sel=Select(driver.find_element_by_xpath(\"//select[@name='DD_UBType']\"))\n",
    "sel.select_by_index(1)\n",
    "sel=Select(driver.find_element_by_xpath(\"//select[@name='DD_UBName']\"))\n",
    "sel.select_by_visible_text(\"इन्दौर\")\n",
    "\n",
    "show=driver.find_element_by_xpath(\"/html/body/form/div[3]/table/tbody/tr[5]/td/input\") #get through the show button \n",
    "show.click()  \n",
    "\n",
    "html = driver.page_source                                                 #to read the table so that we can get freq of wards into dictionary\n",
    "df = pd.read_html(html)\n",
    "\n",
    "pf=df[2]\n",
    "dicto=Counter(list(pf['वार्ड क्रमांक']))\n",
    "\n",
    "y=2\n",
    "for x in dicto:\n",
    "    time.sleep(1)\n",
    "    for i in range(1,int(dicto[x])+1):\n",
    "        download=driver.find_element_by_xpath(\"/html/body/form/div[3]/table/tbody/tr[6]/td/div/table/tbody/tr[3]/td/div/table/tbody/tr[\"+str(y)+\"]/td[7]/a\")\n",
    "        download.send_keys(Keys.RETURN) \n",
    "        y=y+1\n",
    "    time.sleep(2)\n",
    "    for filePath in glob.glob(r'C:\\Users\\vsvin\\Downloads\\one' + '\\*'):\n",
    "        time.sleep(1)\n",
    "        if os.path.isdir(os.path.join(r'C:\\Users\\vsvin\\Downloads',str(x))) == False:  #formated string\n",
    "            os.makedirs(os.path.join(r'C:\\Users\\vsvin\\Downloads',str(x)))    \n",
    "        shutil.move(filePath, os.path.join(r'C:\\Users\\vsvin\\Downloads',str(x))) \n",
    "        time.sleep(0.10)\n",
    "\n",
    "    if x==2:                                  #the value of x will define how many wards folders we want\n",
    "        break\n",
    "                \n",
    "        "
   ]
  },
  {
   "cell_type": "code",
   "execution_count": null,
   "metadata": {},
   "outputs": [],
   "source": []
  }
 ],
 "metadata": {
  "kernelspec": {
   "display_name": "Python 3",
   "language": "python",
   "name": "python3"
  },
  "language_info": {
   "codemirror_mode": {
    "name": "ipython",
    "version": 3
   },
   "file_extension": ".py",
   "mimetype": "text/x-python",
   "name": "python",
   "nbconvert_exporter": "python",
   "pygments_lexer": "ipython3",
   "version": "3.8.3"
  }
 },
 "nbformat": 4,
 "nbformat_minor": 4
}
