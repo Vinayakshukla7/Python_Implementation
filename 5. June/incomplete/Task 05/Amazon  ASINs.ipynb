{
 "cells": [
  {
   "cell_type": "code",
   "execution_count": 7,
   "metadata": {},
   "outputs": [
    {
     "name": "stdout",
     "output_type": "stream",
     "text": [
      "Collecting requests-html\n",
      "  Using cached requests_html-0.10.0-py3-none-any.whl (13 kB)\n",
      "Requirement already satisfied: w3lib in c:\\users\\vsvin\\anaconda3\\lib\\site-packages (from requests-html) (1.22.0)\n",
      "Requirement already satisfied: bs4 in c:\\users\\vsvin\\anaconda3\\lib\\site-packages (from requests-html) (0.0.1)\n",
      "Collecting pyppeteer>=0.0.14\n",
      "  Using cached pyppeteer-0.2.5-py3-none-any.whl (87 kB)\n",
      "Collecting fake-useragent\n",
      "  Using cached fake-useragent-0.1.11.tar.gz (13 kB)\n",
      "Requirement already satisfied: requests in c:\\users\\vsvin\\anaconda3\\lib\\site-packages (from requests-html) (2.24.0)\n",
      "Collecting pyquery\n",
      "  Using cached pyquery-1.4.3-py3-none-any.whl (22 kB)\n",
      "Collecting parse\n",
      "  Using cached parse-1.19.0.tar.gz (30 kB)\n",
      "Requirement already satisfied: six>=1.4.1 in c:\\users\\vsvin\\anaconda3\\lib\\site-packages (from w3lib->requests-html) (1.15.0)\n",
      "Requirement already satisfied: beautifulsoup4 in c:\\users\\vsvin\\anaconda3\\lib\\site-packages (from bs4->requests-html) (4.9.1)\n",
      "Collecting pyee<9.0.0,>=8.1.0\n",
      "  Using cached pyee-8.1.0-py2.py3-none-any.whl (12 kB)\n",
      "Requirement already satisfied: urllib3<2.0.0,>=1.25.8 in c:\\users\\vsvin\\anaconda3\\lib\\site-packages (from pyppeteer>=0.0.14->requests-html) (1.25.9)\n",
      "Collecting websockets<9.0,>=8.1\n",
      "  Downloading websockets-8.1-cp38-cp38-win_amd64.whl (66 kB)\n",
      "Requirement already satisfied: tqdm<5.0.0,>=4.42.1 in c:\\users\\vsvin\\anaconda3\\lib\\site-packages (from pyppeteer>=0.0.14->requests-html) (4.47.0)\n",
      "Collecting appdirs<2.0.0,>=1.4.3\n",
      "  Using cached appdirs-1.4.4-py2.py3-none-any.whl (9.6 kB)\n",
      "Requirement already satisfied: idna<3,>=2.5 in c:\\users\\vsvin\\anaconda3\\lib\\site-packages (from requests->requests-html) (2.10)\n",
      "Requirement already satisfied: chardet<4,>=3.0.2 in c:\\users\\vsvin\\anaconda3\\lib\\site-packages (from requests->requests-html) (3.0.4)\n",
      "Requirement already satisfied: certifi>=2017.4.17 in c:\\users\\vsvin\\anaconda3\\lib\\site-packages (from requests->requests-html) (2020.6.20)\n",
      "Requirement already satisfied: lxml>=2.1 in c:\\users\\vsvin\\anaconda3\\lib\\site-packages (from pyquery->requests-html) (4.5.2)\n",
      "Requirement already satisfied: cssselect>0.7.9 in c:\\users\\vsvin\\anaconda3\\lib\\site-packages (from pyquery->requests-html) (1.1.0)\n",
      "Requirement already satisfied: soupsieve>1.2 in c:\\users\\vsvin\\anaconda3\\lib\\site-packages (from beautifulsoup4->bs4->requests-html) (2.0.1)\n",
      "Building wheels for collected packages: fake-useragent, parse\n",
      "  Building wheel for fake-useragent (setup.py): started\n",
      "  Building wheel for fake-useragent (setup.py): finished with status 'done'\n",
      "  Created wheel for fake-useragent: filename=fake_useragent-0.1.11-py3-none-any.whl size=13489 sha256=fb2d11806b4a956e8941ae077b47a9e86d0bcafe7692fa52add0be40afce1faa\n",
      "  Stored in directory: c:\\users\\vsvin\\appdata\\local\\pip\\cache\\wheels\\a0\\b8\\b7\\8c942b2c5be5158b874a88195116b05ad124bac795f6665e65\n",
      "  Building wheel for parse (setup.py): started\n",
      "  Building wheel for parse (setup.py): finished with status 'done'\n",
      "  Created wheel for parse: filename=parse-1.19.0-py3-none-any.whl size=24585 sha256=9704afe46f32eebda3bebbd596eb1839447167b2fa794afddb7d4c35b461c1b3\n",
      "  Stored in directory: c:\\users\\vsvin\\appdata\\local\\pip\\cache\\wheels\\e5\\33\\1f\\68392720485b3ecf125a69e700baaab7624616deedea2fa6e2\n",
      "Successfully built fake-useragent parse\n",
      "Installing collected packages: pyee, websockets, appdirs, pyppeteer, fake-useragent, pyquery, parse, requests-html\n",
      "Successfully installed appdirs-1.4.4 fake-useragent-0.1.11 parse-1.19.0 pyee-8.1.0 pyppeteer-0.2.5 pyquery-1.4.3 requests-html-0.10.0 websockets-8.1\n",
      "Note: you may need to restart the kernel to use updated packages.\n"
     ]
    }
   ],
   "source": [
    "pip install requests-html"
   ]
  },
  {
   "cell_type": "code",
   "execution_count": 1,
   "metadata": {},
   "outputs": [],
   "source": [
    "from requests_html import HTMLSession\n",
    "from bs4 import BeautifulSoup as bs\n",
    "import requests\n",
    "import pandas as pd"
   ]
  },
  {
   "cell_type": "code",
   "execution_count": 2,
   "metadata": {},
   "outputs": [],
   "source": [
    "url='https://www.amazon.in/s?k=Phones&i=electronics&rh=n%3A1389432031%2Cp_89%3ARedmi&dc&qid=1623146584&rnid=3837712031&ref=sr_pg_1'"
   ]
  },
  {
   "cell_type": "code",
   "execution_count": 3,
   "metadata": {},
   "outputs": [],
   "source": [
    "s = HTMLSession()\n",
    "r = s.get(url)\n",
    "#r.html.render(sleep=1)\n",
    "items = r.html.find('div[data-asin]')\n",
    "\n",
    "asins = []\n",
    "\n",
    "for item in items:\n",
    "    if item.attrs['data-asin'] != '':\n",
    "        asins.append(item.attrs['data-asin'])"
   ]
  },
  {
   "cell_type": "code",
   "execution_count": 4,
   "metadata": {},
   "outputs": [
    {
     "data": {
      "text/plain": [
       "24"
      ]
     },
     "execution_count": 4,
     "metadata": {},
     "output_type": "execute_result"
    }
   ],
   "source": [
    "len(asins)"
   ]
  },
  {
   "cell_type": "code",
   "execution_count": 5,
   "metadata": {},
   "outputs": [],
   "source": [
    "df=pd.DataFrame()"
   ]
  },
  {
   "cell_type": "code",
   "execution_count": 6,
   "metadata": {},
   "outputs": [
    {
     "ename": "AttributeError",
     "evalue": "'NoneType' object has no attribute 'get_text'",
     "output_type": "error",
     "traceback": [
      "\u001b[1;31m---------------------------------------------------------------------------\u001b[0m",
      "\u001b[1;31mAttributeError\u001b[0m                            Traceback (most recent call last)",
      "\u001b[1;32m<ipython-input-6-a81bd9f6e5df>\u001b[0m in \u001b[0;36m<module>\u001b[1;34m\u001b[0m\n\u001b[0;32m      4\u001b[0m     \u001b[0msoup\u001b[0m\u001b[1;33m=\u001b[0m\u001b[0mbs\u001b[0m\u001b[1;33m(\u001b[0m\u001b[0mpage\u001b[0m\u001b[1;33m.\u001b[0m\u001b[0mcontent\u001b[0m\u001b[1;33m,\u001b[0m\u001b[1;34m'html.parser'\u001b[0m\u001b[1;33m)\u001b[0m\u001b[1;33m\u001b[0m\u001b[1;33m\u001b[0m\u001b[0m\n\u001b[0;32m      5\u001b[0m     \u001b[0mname_list\u001b[0m\u001b[1;33m=\u001b[0m\u001b[1;33m[\u001b[0m\u001b[1;33m]\u001b[0m\u001b[1;33m\u001b[0m\u001b[1;33m\u001b[0m\u001b[0m\n\u001b[1;32m----> 6\u001b[1;33m     \u001b[0mname\u001b[0m\u001b[1;33m=\u001b[0m\u001b[0msoup\u001b[0m\u001b[1;33m.\u001b[0m\u001b[0mfind\u001b[0m\u001b[1;33m(\u001b[0m\u001b[1;34m'a'\u001b[0m\u001b[1;33m,\u001b[0m\u001b[0mclass_\u001b[0m\u001b[1;33m=\u001b[0m\u001b[1;34m'a-link-normal'\u001b[0m\u001b[1;33m)\u001b[0m\u001b[1;33m.\u001b[0m\u001b[0mget_text\u001b[0m\u001b[1;33m(\u001b[0m\u001b[1;33m)\u001b[0m\u001b[1;33m\u001b[0m\u001b[1;33m\u001b[0m\u001b[0m\n\u001b[0m\u001b[0;32m      7\u001b[0m     \u001b[0mtitle\u001b[0m\u001b[1;33m=\u001b[0m\u001b[0msoup\u001b[0m\u001b[1;33m.\u001b[0m\u001b[0mfind_all\u001b[0m\u001b[1;33m(\u001b[0m\u001b[1;34m'a'\u001b[0m\u001b[1;33m,\u001b[0m\u001b[0mclass_\u001b[0m\u001b[1;33m=\u001b[0m\u001b[1;34m'review-title-content'\u001b[0m\u001b[1;33m)\u001b[0m\u001b[1;33m\u001b[0m\u001b[1;33m\u001b[0m\u001b[0m\n\u001b[0;32m      8\u001b[0m     \u001b[0mreview_title\u001b[0m\u001b[1;33m=\u001b[0m\u001b[1;33m[\u001b[0m\u001b[1;33m]\u001b[0m\u001b[1;33m\u001b[0m\u001b[1;33m\u001b[0m\u001b[0m\n",
      "\u001b[1;31mAttributeError\u001b[0m: 'NoneType' object has no attribute 'get_text'"
     ]
    }
   ],
   "source": [
    "for asin in asins:\n",
    "    url=f\"https://www.amazon.in/product-reviews/{asin}\"\n",
    "    page=requests.get(url,timeout=5)\n",
    "    soup=bs(page.content,'html.parser')\n",
    "    name_list=[]\n",
    "    name=soup.find('a',class_='a-link-normal').get_text()\n",
    "    title=soup.find_all('a',class_='review-title-content')\n",
    "    review_title=[]\n",
    "    for i in range(0,len(title)):\n",
    "        review_title.append(title[i].get_text())\n",
    "        name_list.append(name)\n",
    "    review_title=[titles.strip('\\n') for titles in review_title]\n",
    "    \n",
    "    rating=soup.find_all('i',class_='review-rating')\n",
    "    review_rating=[]\n",
    "    for i in range(2,len(rating)):\n",
    "        review_rating.append(rating[i].get_text())\n",
    "        \n",
    "    body=soup.find_all('span',{'data-hook':'review-body'})\n",
    "    review_body=[]\n",
    "    for i in range(0,len(body)):\n",
    "        review_body.append(body[i].get_text())\n",
    "    review_body=[bodies.strip('\\n\\n') for bodies in review_body]\n",
    "    \n",
    "    df['Phone_Name']=name_list\n",
    "    df['Review_Title']=review_title\n",
    "    df['Review_Rating']=review_rating\n",
    "    df['Review_Body']=review_body"
   ]
  },
  {
   "cell_type": "code",
   "execution_count": 62,
   "metadata": {},
   "outputs": [
    {
     "data": {
      "text/html": [
       "<div>\n",
       "<style scoped>\n",
       "    .dataframe tbody tr th:only-of-type {\n",
       "        vertical-align: middle;\n",
       "    }\n",
       "\n",
       "    .dataframe tbody tr th {\n",
       "        vertical-align: top;\n",
       "    }\n",
       "\n",
       "    .dataframe thead th {\n",
       "        text-align: right;\n",
       "    }\n",
       "</style>\n",
       "<table border=\"1\" class=\"dataframe\">\n",
       "  <thead>\n",
       "    <tr style=\"text-align: right;\">\n",
       "      <th></th>\n",
       "      <th>Phone_Name</th>\n",
       "      <th>Review_Title</th>\n",
       "      <th>Review_Rating</th>\n",
       "      <th>Review_Body</th>\n",
       "    </tr>\n",
       "  </thead>\n",
       "  <tbody>\n",
       "    <tr>\n",
       "      <th>0</th>\n",
       "      <td>Redmi 9A (Nature Green, 3GB Ram, 32GB Storage)...</td>\n",
       "      <td>Don't buy this phone</td>\n",
       "      <td>1.0 out of 5 stars</td>\n",
       "      <td>Both 13 MP and 5MP Camera quality is good. H...</td>\n",
       "    </tr>\n",
       "    <tr>\n",
       "      <th>1</th>\n",
       "      <td>Redmi 9A (Nature Green, 3GB Ram, 32GB Storage)...</td>\n",
       "      <td>One of the good choice for low budget phone</td>\n",
       "      <td>4.0 out of 5 stars</td>\n",
       "      <td>If you are looking for low budget phone this...</td>\n",
       "    </tr>\n",
       "    <tr>\n",
       "      <th>2</th>\n",
       "      <td>Redmi 9A (Nature Green, 3GB Ram, 32GB Storage)...</td>\n",
       "      <td>Bad camera and made in China</td>\n",
       "      <td>1.0 out of 5 stars</td>\n",
       "      <td>Camera quality is not good. It is mentioned ...</td>\n",
       "    </tr>\n",
       "    <tr>\n",
       "      <th>3</th>\n",
       "      <td>Redmi 9A (Nature Green, 3GB Ram, 32GB Storage)...</td>\n",
       "      <td>Simply excellent. Read complete review written...</td>\n",
       "      <td>5.0 out of 5 stars</td>\n",
       "      <td>Excellent mobile for daily use @7500/-. Don'...</td>\n",
       "    </tr>\n",
       "    <tr>\n",
       "      <th>4</th>\n",
       "      <td>Redmi 9A (Nature Green, 3GB Ram, 32GB Storage)...</td>\n",
       "      <td>Amezing One</td>\n",
       "      <td>5.0 out of 5 stars</td>\n",
       "      <td>If I started to rating it's all features, it...</td>\n",
       "    </tr>\n",
       "    <tr>\n",
       "      <th>5</th>\n",
       "      <td>Redmi 9A (Nature Green, 3GB Ram, 32GB Storage)...</td>\n",
       "      <td>Value-For-Money &amp; Recommended for a normal user</td>\n",
       "      <td>4.0 out of 5 stars</td>\n",
       "      <td>I purchased it for my Mother, Decent product...</td>\n",
       "    </tr>\n",
       "    <tr>\n",
       "      <th>6</th>\n",
       "      <td>Redmi 9A (Nature Green, 3GB Ram, 32GB Storage)...</td>\n",
       "      <td>Poor</td>\n",
       "      <td>1.0 out of 5 stars</td>\n",
       "      <td>Battery is getting drained out quite fast. 7...</td>\n",
       "    </tr>\n",
       "    <tr>\n",
       "      <th>7</th>\n",
       "      <td>Redmi 9A (Nature Green, 3GB Ram, 32GB Storage)...</td>\n",
       "      <td>Dont buy it as lower model is good then this</td>\n",
       "      <td>3.0 out of 5 stars</td>\n",
       "      <td>Not as good as redmi 8a, no type C , no fast...</td>\n",
       "    </tr>\n",
       "    <tr>\n",
       "      <th>8</th>\n",
       "      <td>Redmi 9A (Nature Green, 3GB Ram, 32GB Storage)...</td>\n",
       "      <td>BUDGET WORTHY PHONE</td>\n",
       "      <td>5.0 out of 5 stars</td>\n",
       "      <td>Nice phone.. overall performance is just ama...</td>\n",
       "    </tr>\n",
       "    <tr>\n",
       "      <th>9</th>\n",
       "      <td>Redmi 9A (Nature Green, 3GB Ram, 32GB Storage)...</td>\n",
       "      <td>Poor processor basic UI also lagging</td>\n",
       "      <td>3.0 out of 5 stars</td>\n",
       "      <td>COVID 19 drastically changed everything. Loo...</td>\n",
       "    </tr>\n",
       "  </tbody>\n",
       "</table>\n",
       "</div>"
      ],
      "text/plain": [
       "                                          Phone_Name  \\\n",
       "0  Redmi 9A (Nature Green, 3GB Ram, 32GB Storage)...   \n",
       "1  Redmi 9A (Nature Green, 3GB Ram, 32GB Storage)...   \n",
       "2  Redmi 9A (Nature Green, 3GB Ram, 32GB Storage)...   \n",
       "3  Redmi 9A (Nature Green, 3GB Ram, 32GB Storage)...   \n",
       "4  Redmi 9A (Nature Green, 3GB Ram, 32GB Storage)...   \n",
       "5  Redmi 9A (Nature Green, 3GB Ram, 32GB Storage)...   \n",
       "6  Redmi 9A (Nature Green, 3GB Ram, 32GB Storage)...   \n",
       "7  Redmi 9A (Nature Green, 3GB Ram, 32GB Storage)...   \n",
       "8  Redmi 9A (Nature Green, 3GB Ram, 32GB Storage)...   \n",
       "9  Redmi 9A (Nature Green, 3GB Ram, 32GB Storage)...   \n",
       "\n",
       "                                        Review_Title       Review_Rating  \\\n",
       "0                               Don't buy this phone  1.0 out of 5 stars   \n",
       "1        One of the good choice for low budget phone  4.0 out of 5 stars   \n",
       "2                       Bad camera and made in China  1.0 out of 5 stars   \n",
       "3  Simply excellent. Read complete review written...  5.0 out of 5 stars   \n",
       "4                                        Amezing One  5.0 out of 5 stars   \n",
       "5    Value-For-Money & Recommended for a normal user  4.0 out of 5 stars   \n",
       "6                                               Poor  1.0 out of 5 stars   \n",
       "7       Dont buy it as lower model is good then this  3.0 out of 5 stars   \n",
       "8                                BUDGET WORTHY PHONE  5.0 out of 5 stars   \n",
       "9               Poor processor basic UI also lagging  3.0 out of 5 stars   \n",
       "\n",
       "                                         Review_Body  \n",
       "0    Both 13 MP and 5MP Camera quality is good. H...  \n",
       "1    If you are looking for low budget phone this...  \n",
       "2    Camera quality is not good. It is mentioned ...  \n",
       "3    Excellent mobile for daily use @7500/-. Don'...  \n",
       "4    If I started to rating it's all features, it...  \n",
       "5    I purchased it for my Mother, Decent product...  \n",
       "6    Battery is getting drained out quite fast. 7...  \n",
       "7    Not as good as redmi 8a, no type C , no fast...  \n",
       "8    Nice phone.. overall performance is just ama...  \n",
       "9    COVID 19 drastically changed everything. Loo...  "
      ]
     },
     "execution_count": 62,
     "metadata": {},
     "output_type": "execute_result"
    }
   ],
   "source": [
    "df"
   ]
  },
  {
   "cell_type": "code",
   "execution_count": null,
   "metadata": {},
   "outputs": [],
   "source": [
    "\"\"\"\n",
    "for asin in asins:\n",
    "    url = f'https://www.amazon.in/product-reviews/{asin}'\n",
    "    s = HTMLSession()\n",
    "    r = s.get(url)\n",
    "    \n",
    "    title = r.html.find('#cm_cr-product_info > div > div.a-fixed-left-grid-col.a-col-right > div > div > div.a-fixed-left-grid-col.product-info.a-col-right > div.a-row.product-title > h1 > a', first=True).full_text\n",
    "    rating = r.html.find('span.a-icon-alt', first=True).full_text\n",
    "    reviews_title = r.html.find('a.a-size-base.a-link-normal.review-title.a-color-base.review-title-content.a-text-bold > span', first=True).full_text\n",
    "    reviews= r.html.find('div.a-row.a-spacing-small.review-data > span > span', first=True).full_text\n",
    "    print(title)\n",
    "    print(rating)\n",
    "    print(reviews_title)\n",
    "    print(reviews)\n",
    "\"\"\""
   ]
  }
 ],
 "metadata": {
  "kernelspec": {
   "display_name": "Python 3",
   "language": "python",
   "name": "python3"
  },
  "language_info": {
   "codemirror_mode": {
    "name": "ipython",
    "version": 3
   },
   "file_extension": ".py",
   "mimetype": "text/x-python",
   "name": "python",
   "nbconvert_exporter": "python",
   "pygments_lexer": "ipython3",
   "version": "3.8.3"
  }
 },
 "nbformat": 4,
 "nbformat_minor": 4
}
