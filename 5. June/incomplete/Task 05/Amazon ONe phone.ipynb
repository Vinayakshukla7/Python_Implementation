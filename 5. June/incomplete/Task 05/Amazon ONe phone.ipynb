{
 "cells": [
  {
   "cell_type": "code",
   "execution_count": 63,
   "metadata": {},
   "outputs": [],
   "source": [
    "from bs4 import BeautifulSoup as bs\n",
    "import requests"
   ]
  },
  {
   "cell_type": "code",
   "execution_count": 64,
   "metadata": {},
   "outputs": [],
   "source": [
    "url='https://www.amazon.in/Samsung-Galaxy-Prism-128GB-Storage/product-reviews/B092J39VJC/ref=cm_cr_dp_d_show_all_btm?ie=UTF8&reviewerType=all_reviews'"
   ]
  },
  {
   "cell_type": "code",
   "execution_count": 65,
   "metadata": {},
   "outputs": [],
   "source": [
    "page=requests.get(url)"
   ]
  },
  {
   "cell_type": "code",
   "execution_count": 66,
   "metadata": {},
   "outputs": [
    {
     "data": {
      "text/plain": [
       "<Response [200]>"
      ]
     },
     "execution_count": 66,
     "metadata": {},
     "output_type": "execute_result"
    }
   ],
   "source": [
    "page"
   ]
  },
  {
   "cell_type": "code",
   "execution_count": 67,
   "metadata": {},
   "outputs": [],
   "source": [
    "soup=bs(page.content,'html.parser')"
   ]
  },
  {
   "cell_type": "code",
   "execution_count": 68,
   "metadata": {},
   "outputs": [],
   "source": [
    "#print(soup.prettify())"
   ]
  },
  {
   "cell_type": "code",
   "execution_count": 69,
   "metadata": {},
   "outputs": [],
   "source": [
    "title=soup.find_all('a',class_='review-title-content')"
   ]
  },
  {
   "cell_type": "code",
   "execution_count": 70,
   "metadata": {},
   "outputs": [
    {
     "data": {
      "text/plain": [
       "['SD 750 under 20 K ,Great buy!',\n",
       " 'Best 20K Category 5g phone in the market right now!',\n",
       " 'Nothing much excited',\n",
       " 'Beware of the exchange offer... its just there to show a lower price!',\n",
       " 'Loved it',\n",
       " 'Not a good deal',\n",
       " 'Cost cutting by Samsung',\n",
       " \"Don't  buy this\",\n",
       " 'Only purchase for 5G, other thant not justify its 20k price.',\n",
       " 'Great Buy ☺️']"
      ]
     },
     "execution_count": 70,
     "metadata": {},
     "output_type": "execute_result"
    }
   ],
   "source": [
    "review_title=[]\n",
    "for i in range(0,len(title)):\n",
    "    review_title.append(title[i].get_text())\n",
    "review_title=[titles.strip('\\n') for titles in review_title]\n",
    "review_title"
   ]
  },
  {
   "cell_type": "code",
   "execution_count": 71,
   "metadata": {},
   "outputs": [],
   "source": [
    "rating=soup.find_all('i',class_='review-rating')"
   ]
  },
  {
   "cell_type": "code",
   "execution_count": 72,
   "metadata": {},
   "outputs": [
    {
     "data": {
      "text/plain": [
       "['5.0 out of 5 stars',\n",
       " '5.0 out of 5 stars',\n",
       " '1.0 out of 5 stars',\n",
       " '2.0 out of 5 stars',\n",
       " '5.0 out of 5 stars',\n",
       " '3.0 out of 5 stars',\n",
       " '1.0 out of 5 stars',\n",
       " '1.0 out of 5 stars',\n",
       " '2.0 out of 5 stars',\n",
       " '5.0 out of 5 stars']"
      ]
     },
     "execution_count": 72,
     "metadata": {},
     "output_type": "execute_result"
    }
   ],
   "source": [
    "review_rating=[]\n",
    "for i in range(2,len(rating)):\n",
    "    review_rating.append(rating[i].get_text())\n",
    "review_rating"
   ]
  },
  {
   "cell_type": "code",
   "execution_count": 73,
   "metadata": {},
   "outputs": [],
   "source": [
    "#if we want to search other than class or id and we must use dictionary to search\n",
    "body=soup.find_all('span',{'data-hook':'review-body'})"
   ]
  },
  {
   "cell_type": "code",
   "execution_count": 74,
   "metadata": {},
   "outputs": [
    {
     "data": {
      "text/plain": [
       "[\"  Greatest deal for Snapdragon 750 that too with Samsung. Buy blindly.There are many comments on display quality.But it doesn't matter that much , what we have to see in buying 5G phone is future proof.Buying 90hz display with cheap processor won't last you for year.This phone has one of the best 5G processor SD 750 which can last longer than others.There are few 5G mobiles Under 20 k which offers better display than this 1. Oppo A74: but in this the processor you get SD 480 , which is the basic version of 5G processor and below par than SD 750.2. Oppo a53s: which uses mediatek dimension 700 . Please don't compare media Tek Vs Snapdragon.Final verdict: You have to decide what you want. If you really looking for best 5G features under 20 k then blindly go for M42. Since no other company offers SD 750 processor for less than 20 k.\",\n",
       " '  Edit after a month of usage -1. Best in class battery - Full charge lasts over 2 days without fail2. Fast processor - I have more than 50 apps installed, but phone works without a glitch3. Camera - No one can beat Samsung in camera build and quality!Buy without a thought :)Got the phone delivered on same day of the sale/ launch. Super happy with whatever less I have used it till now. 😊',\n",
       " '  Not.much excited compare to other all',\n",
       " \"  Please don't waste your money on this phone, I got attracted to the exchange offer as they are offering a higher discount. But looks like it's just a marketing trick.. they rejected the exchange offer at the time of delivery.. my phone had no scratches, no dents, no cracks, by citing some minor issues.. and I had to pay the balance amount to take the delivery.At this price point, there are many other phones/variants in the market with better features. The Display is not good at all with only HD+ whereas there are many phones in the market which are half the price with FHD+ feature. You can very well compare all the icons and graphics are pixilated.Moreover, only SIM1 is 5G, SIM2 is limited to 4G, no dedicated MicroSD slot.. its a hybrid sim slot.\",\n",
       " \"  Got this for my mom. She loves it. The battery is amazing considering the fact that she uses the light mode while I use the dark mode. It comes with some junk but those can be uninstalled the phone is not heavy and the screen is amazing. I was skeptical about the hd display thing but the point is very few people can't differentiate between 1080 and 720 p. I definitely can't tell the difference.. The display is amazing. A freind told me that the charger is slow compared to other companies. The thing is my father's Samsung is still working fine and it's j5 prime , that's 5 years .. My stock Android had a 10 watt charger n 3000 mah n it works well, yes I play cod and all. Point it I feel that slower chargers preserve the battery decay better. Maybe it's just a feeling anyhow. I'm quite happy with the phone. The missing features on the camera will be fixed with a few updates as Samsung always does and in case it doesn't that's fine too . Phone is smooth and might heat on the first few charges but it will go away . It's quite light and slim and the best part is Samsung promises 3 year Android upgrades and four year security upgraded . The hd display with 750 gives great battery and smoothness . Amazon did an amazing job at delivery during this pandemic.\",\n",
       " \"  I bought the phone after getting attracted to the banners only and here's what i found out after that:Pros - 5,000 mah Battery is Very good can go upto 2 days without charge, true 48 mp quad camera is upto the mark as expected from samsung, 750 g processor is excellent, 5G bands are supportive with more frequencies and lastly, Knox security plays a big role in making it better.Cons - Display is really bad only HD+ instead Samsung should have gone with FHD+ with this price and it has only 266 PPI which makes it even worse only thing good in display is that it is Super Amoled, In-box Charger is only 15W which is also dissapointing and aslo there wasn't any soft case inside the box or pre-applied screen protector.\",\n",
       " '  No Pre-installed screen guard. No basic back cover. Short charging cable. Cheap packaging. Too much cost cutting. Disappointed.',\n",
       " \"  Please don't buy this. Display graphics quality is very very bad and charger is also cheap quality\",\n",
       " '  Positive..1. Design2. Built Quality Premium3. Snapdragon 7504. 5G5. Samsung PayNegative1. Always on Display not available (which is very common)2. Camera Quality not much impressive3. Very Common UI interfaceVerdict.Only buy for 5G other than not very much impressive.. it cost should bhi only 15k then justified.',\n",
       " '  Your browser does not support HTML5 video.\\n\\n\\n  \\xa0Decent performance by Snapdragon 750GSuper Amoled 👌Camera 👌Battery life 👌Plastic back 👎Overall look 👌Fast charge 👎HD + display 👎 (but it not look like hd+)Overall rating 8/10']"
      ]
     },
     "execution_count": 74,
     "metadata": {},
     "output_type": "execute_result"
    }
   ],
   "source": [
    "review_body=[]\n",
    "for i in range(0,len(body)):\n",
    "    review_body.append(body[i].get_text())\n",
    "review_body=[bodies.strip('\\n\\n') for bodies in review_body]\n",
    "review_body"
   ]
  },
  {
   "cell_type": "code",
   "execution_count": null,
   "metadata": {},
   "outputs": [],
   "source": []
  },
  {
   "cell_type": "code",
   "execution_count": null,
   "metadata": {},
   "outputs": [],
   "source": []
  }
 ],
 "metadata": {
  "kernelspec": {
   "display_name": "Python 3",
   "language": "python",
   "name": "python3"
  },
  "language_info": {
   "codemirror_mode": {
    "name": "ipython",
    "version": 3
   },
   "file_extension": ".py",
   "mimetype": "text/x-python",
   "name": "python",
   "nbconvert_exporter": "python",
   "pygments_lexer": "ipython3",
   "version": "3.8.3"
  }
 },
 "nbformat": 4,
 "nbformat_minor": 4
}
