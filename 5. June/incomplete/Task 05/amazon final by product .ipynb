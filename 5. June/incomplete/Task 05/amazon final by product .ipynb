{
 "cells": [
  {
   "cell_type": "code",
   "execution_count": 10,
   "metadata": {},
   "outputs": [],
   "source": [
    "from requests_html import HTMLSession\n",
    "from bs4 import BeautifulSoup\n",
    "import requests\n",
    "import pandas as pd\n",
    "import time"
   ]
  },
  {
   "cell_type": "code",
   "execution_count": 14,
   "metadata": {},
   "outputs": [],
   "source": [
    "product_names=['Redmi 9A (Nature Green, 2GB RAM, 32GB Storage)','OnePlus 9 5G (Arctic Sky, 8GB RAM, 128GB Storage)','Samsung Galaxy M51 (Electric Blue, 6GB RAM, 128GB Storage)','Oppo A31 (Fantasy White, 6GB RAM, 128GB Storage)','New Apple iPhone 12 (64GB) - (Product) RED','realme 8 5G (4 GB RAM, 64GB ROM)','Vivo Y51A (Titanium Sapphire, 8GB, 128GB Storage)']\n",
    "asins=[]\n",
    "for name in product_names: \n",
    "    url=f'https://www.amazon.in/s?k={name}'\n",
    "    s = HTMLSession()\n",
    "    info=s.get(url)\n",
    "    soup=BeautifulSoup(info.text,'html.parser')\n",
    "    gets=soup.find_all('h2',{'class':'a-size-mini a-spacing-none a-color-base s-line-clamp-2'})\n",
    "    try:\n",
    "        for one in gets:\n",
    "            if one is not None:\n",
    "                names=one.find('a',{'class':'a-link-normal a-text-normal'}).find('span').text\n",
    "                names=names.split('|')[0]\n",
    "                if names==name:\n",
    "                    asin=one.find('a')['href']\n",
    "                    asin=asin.split('/')[3].split('?')[0]\n",
    "                    asins.append(asin)\n",
    "    except:\n",
    "        pass"
   ]
  },
  {
   "cell_type": "code",
   "execution_count": 15,
   "metadata": {},
   "outputs": [
    {
     "data": {
      "text/plain": [
       "['B089MV1ZSM', 'B085J1J32G', 'B08L5TGWD1']"
      ]
     },
     "execution_count": 15,
     "metadata": {},
     "output_type": "execute_result"
    }
   ],
   "source": [
    "asins"
   ]
  },
  {
   "cell_type": "code",
   "execution_count": null,
   "metadata": {},
   "outputs": [],
   "source": [
    "\"\"\"\n",
    "asins=[]\n",
    "product_names=['Redmi 9A (Nature Green, 2GB RAM, 32GB Storage)','OnePlus 9 5G (Arctic Sky, 8GB RAM, 128GB Storage)','Samsung Galaxy M51 (Electric Blue, 6GB RAM, 128GB Storage)','Oppo A31 (Fantasy White, 6GB RAM, 128GB Storage)','New Apple iPhone 12 (64GB) - (Product) RED','realme 8 5G (4 GB RAM, 64GB ROM)','Vivo Y51A (Titanium Sapphire, 8GB, 128GB Storage)']\n",
    "\n",
    "for name in product_names:\n",
    "    url=f'https://www.amazon.in/s?k={name}'\n",
    "    info=requests.get(url)\n",
    "    soup=BeautifulSoup(info.text,'html.parser')\n",
    "    gets=soup.find('h2',{'class':'a-size-mini a-spacing-none a-color-base s-line-clamp-2'})\n",
    "    if gets is not None:\n",
    "        name=gets.find('a',{'class':'a-link-normal a-text-normal'}).find('span').text\n",
    "        name=name.split('|')[0]\n",
    "    if gets is not None:\n",
    "        asin=gets.find('a')['href']\n",
    "        asin=asin.split('/')[3].split('?')[0]\n",
    "        asins.append(asin)\n",
    "\"\"\""
   ]
  }
 ],
 "metadata": {
  "kernelspec": {
   "display_name": "Python 3",
   "language": "python",
   "name": "python3"
  },
  "language_info": {
   "codemirror_mode": {
    "name": "ipython",
    "version": 3
   },
   "file_extension": ".py",
   "mimetype": "text/x-python",
   "name": "python",
   "nbconvert_exporter": "python",
   "pygments_lexer": "ipython3",
   "version": "3.8.3"
  }
 },
 "nbformat": 4,
 "nbformat_minor": 4
}
