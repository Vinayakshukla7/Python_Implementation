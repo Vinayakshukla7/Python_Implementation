{
 "cells": [
  {
   "cell_type": "code",
   "execution_count": 84,
   "metadata": {},
   "outputs": [],
   "source": [
    "import pdfplumber\n",
    "import pandas as pd\n",
    "import tabula"
   ]
  },
  {
   "cell_type": "code",
   "execution_count": 75,
   "metadata": {},
   "outputs": [
    {
     "name": "stdout",
     "output_type": "stream",
     "text": [
      "Tax Invoice\n",
      "Sold By: Tech-Connect Retail Private Limited ,\n",
      "Invoice Number # FABZDC2002588719\n",
      "Ship-from Address: Sy. No.130,256,259,268 and 283, Malur Industrial Area,, Hosakote Village Lakkur Hobli Malur Taluk, Kolar, \n",
      "Karnataka, 563130, Bangalore, Karnataka, India - 563130, IN-KA\n",
      "GSTIN - 29AAICA4872D1ZK\n",
      "Order ID: OD116663918208620000 Bill To Ship To\n",
      "Order Date: 30-09-2019 Vinayak Shukla  Vinayak Shukla \n",
      "176-B, Pragati Nagar , Rajendra  176-B, Pragati Nagar , Rajendra  *Keep this invoice and \n",
      "Invoice Date: 06-10-2019\n",
      "Nagar Indore. Nagar Indore. manufacturer box for \n",
      "PAN: AAICA4872D Indore 452012 Madhya Pradesh  Indore 452012 Madhya Pradesh  warranty purposes.\n",
      "Phone: xxxxxxxxxx  Phone: xxxxxxxxxx \n",
      "CIN: U52100DL2010PTC202600\n",
      "Total items: 1\n",
      "Product Title Qty Gross Discount ₹ Taxable IGST ₹ Total ₹\n",
      "Amount ₹ Value ₹\n",
      "Backpacks Mi Business Casual 21 L  1 899.00 0.00 761.86 137.14 899.00\n",
      "FSN: BKPFH7K8EGGUC6ZZ Trolley Laptop Backpack\n",
      "HSN/SAC: 4202aaaa Warranty: 6 months limited warranty. Warranty \n",
      "only covers manufacturing defects and doesn't \n",
      "cover any ewar & tear or customer induced \n",
      "damage\n",
      "IGST: 18.000 %\n",
      "Total 1 899.00 0.00 761.86 137.14 899.00\n",
      "Grand Total ₹ 899.00\n",
      "Tech-Connect Retail Private Limited\n",
      "Signature\n",
      "Authorized Signatory\n",
      "Returns Policy: At Flipkart we try to deliver perfectly each and every time. But in the off-chance that you need to return the item, please do so with the original Brand box/price \n",
      "tag, original packing and invoice without which it will be really difficult for us to act on your request. Please help us in helping you. Terms and conditions apply.\n",
      "The goods sold as are intended for end user consumption and not for re-sale.\n",
      "Regd. office: Tech-Connect Retail Private Limited , Unit No. 403, 4th Floor, Baani 1, Next to Hilton Double Tree Hotel, Golf Course Road, Sec 56, Gurgaon, Haryana - 122011\n",
      "Contact Flipkart: 1800 208 9898 || www.flipkart.com/helpcentre\n",
      "E. & O.E. page 1 of 1\n"
     ]
    }
   ],
   "source": [
    "with pdfplumber.open(\"pdf_three.pdf\") as pdf:                #opening the pdf\n",
    "    first_page = pdf.pages[0]  #getting its pages\n",
    "    print(first_page.extract_text())"
   ]
  },
  {
   "cell_type": "code",
   "execution_count": 77,
   "metadata": {},
   "outputs": [],
   "source": [
    "with pdfplumber.open(\"pdf_three.pdf\") as pdf:\n",
    "    first_page = pdf.pages[0]\n",
    "    rows = first_page.extract_words()\n",
    "x=1\n",
    "for row in rows:\n",
    "    #print(row)\n",
    "    if row['text'] == 'Product':\n",
    "        x0 = row['x0']\n",
    "        top = row['top']\n",
    "        #print(row)\n",
    "    if row['text'] == 'Total':\n",
    "        bottom = row['bottom']\n",
    "        #print(row)\n",
    "    if row['text'] == 'Total':\n",
    "        if x==2:\n",
    "            x1 = row['x1']\n",
    "        x=x+1\n",
    "        \n",
    "coordinates = (x0, top,x1,bottom)\n",
    "coordinates\n",
    "page = first_page.crop(bbox=(coordinates))  # (x0, top, x1, bottom)\n",
    "table = page.extract_table(table_settings={\n",
    "        \"vertical_strategy\": \"text\",\n",
    "        \"horizontal_strategy\": \"text\",\n",
    "    })"
   ]
  },
  {
   "cell_type": "code",
   "execution_count": 78,
   "metadata": {},
   "outputs": [
    {
     "name": "stdout",
     "output_type": "stream",
     "text": [
      "[['Product', 'Title', 'Qty', 'Gross Discount ₹', 'Taxable', 'IGST ₹', 'Total'], ['', '', 'A', 'mount ₹', 'Value ₹', '', ''], ['Backpacks', 'Mi Business Ca', 'sual 21 L  1', '899.00 0.00', '761.86', '137.14', '899.0'], ['FSN: BKPFH7K8EGGUC6ZZ', 'Trolley Laptop', 'Backpack', '', '', '', ''], ['HSN/SAC: 4202aaaa', 'Warranty: 6 months li', 'mited warranty. Warranty', '', '', '', ''], ['', 'only covers manufact', \"uring defects and doesn't\", '', '', '', ''], ['', 'cover any ewar & tear', 'or customer induced', '', '', '', ''], ['', 'damage', '', '', '', '', ''], ['', 'IGST: 18.000 %', '', '', '', '', ''], ['', '', 'Total 1', '899.00 0.00', '761.86', '137.14', '899.0'], ['', '', '', 'Gr', 'and Total', '₹', '899.']]\n"
     ]
    }
   ],
   "source": [
    "print(table)"
   ]
  },
  {
   "cell_type": "code",
   "execution_count": 79,
   "metadata": {},
   "outputs": [
    {
     "name": "stdout",
     "output_type": "stream",
     "text": [
      "['Product', 'Title', 'Qty', 'Gross Discount ₹', 'Taxable', 'IGST ₹', 'Total']\n",
      "['', '', 'A', 'mount ₹', 'Value ₹', '', '']\n",
      "['Backpacks', 'Mi Business Ca', 'sual 21 L  1', '899.00 0.00', '761.86', '137.14', '899.0']\n",
      "['FSN: BKPFH7K8EGGUC6ZZ', 'Trolley Laptop', 'Backpack', '', '', '', '']\n",
      "['HSN/SAC: 4202aaaa', 'Warranty: 6 months li', 'mited warranty. Warranty', '', '', '', '']\n",
      "['', 'only covers manufact', \"uring defects and doesn't\", '', '', '', '']\n",
      "['', 'cover any ewar & tear', 'or customer induced', '', '', '', '']\n",
      "['', 'damage', '', '', '', '', '']\n",
      "['', 'IGST: 18.000 %', '', '', '', '', '']\n"
     ]
    }
   ],
   "source": [
    "for row in table[:9]:                                   #displaying data-wise\n",
    "    print(row)"
   ]
  },
  {
   "cell_type": "code",
   "execution_count": 80,
   "metadata": {},
   "outputs": [
    {
     "data": {
      "text/html": [
       "<div>\n",
       "<style scoped>\n",
       "    .dataframe tbody tr th:only-of-type {\n",
       "        vertical-align: middle;\n",
       "    }\n",
       "\n",
       "    .dataframe tbody tr th {\n",
       "        vertical-align: top;\n",
       "    }\n",
       "\n",
       "    .dataframe thead th {\n",
       "        text-align: right;\n",
       "    }\n",
       "</style>\n",
       "<table border=\"1\" class=\"dataframe\">\n",
       "  <thead>\n",
       "    <tr style=\"text-align: right;\">\n",
       "      <th></th>\n",
       "      <th>0</th>\n",
       "      <th>1</th>\n",
       "      <th>2</th>\n",
       "      <th>3</th>\n",
       "      <th>4</th>\n",
       "      <th>5</th>\n",
       "      <th>6</th>\n",
       "    </tr>\n",
       "  </thead>\n",
       "  <tbody>\n",
       "    <tr>\n",
       "      <th>0</th>\n",
       "      <td>Product</td>\n",
       "      <td>Title</td>\n",
       "      <td>Qty</td>\n",
       "      <td>Gross Discount ₹</td>\n",
       "      <td>Taxable</td>\n",
       "      <td>IGST ₹</td>\n",
       "      <td>Total</td>\n",
       "    </tr>\n",
       "    <tr>\n",
       "      <th>1</th>\n",
       "      <td></td>\n",
       "      <td></td>\n",
       "      <td>A</td>\n",
       "      <td>mount ₹</td>\n",
       "      <td>Value ₹</td>\n",
       "      <td></td>\n",
       "      <td></td>\n",
       "    </tr>\n",
       "    <tr>\n",
       "      <th>2</th>\n",
       "      <td>Backpacks</td>\n",
       "      <td>Mi Business Ca</td>\n",
       "      <td>sual 21 L  1</td>\n",
       "      <td>899.00 0.00</td>\n",
       "      <td>761.86</td>\n",
       "      <td>137.14</td>\n",
       "      <td>899.0</td>\n",
       "    </tr>\n",
       "    <tr>\n",
       "      <th>3</th>\n",
       "      <td>FSN: BKPFH7K8EGGUC6ZZ</td>\n",
       "      <td>Trolley Laptop</td>\n",
       "      <td>Backpack</td>\n",
       "      <td></td>\n",
       "      <td></td>\n",
       "      <td></td>\n",
       "      <td></td>\n",
       "    </tr>\n",
       "    <tr>\n",
       "      <th>4</th>\n",
       "      <td>HSN/SAC: 4202aaaa</td>\n",
       "      <td>Warranty: 6 months li</td>\n",
       "      <td>mited warranty. Warranty</td>\n",
       "      <td></td>\n",
       "      <td></td>\n",
       "      <td></td>\n",
       "      <td></td>\n",
       "    </tr>\n",
       "    <tr>\n",
       "      <th>5</th>\n",
       "      <td></td>\n",
       "      <td>only covers manufact</td>\n",
       "      <td>uring defects and doesn't</td>\n",
       "      <td></td>\n",
       "      <td></td>\n",
       "      <td></td>\n",
       "      <td></td>\n",
       "    </tr>\n",
       "    <tr>\n",
       "      <th>6</th>\n",
       "      <td></td>\n",
       "      <td>cover any ewar &amp; tear</td>\n",
       "      <td>or customer induced</td>\n",
       "      <td></td>\n",
       "      <td></td>\n",
       "      <td></td>\n",
       "      <td></td>\n",
       "    </tr>\n",
       "    <tr>\n",
       "      <th>7</th>\n",
       "      <td></td>\n",
       "      <td>damage</td>\n",
       "      <td></td>\n",
       "      <td></td>\n",
       "      <td></td>\n",
       "      <td></td>\n",
       "      <td></td>\n",
       "    </tr>\n",
       "    <tr>\n",
       "      <th>8</th>\n",
       "      <td></td>\n",
       "      <td>IGST: 18.000 %</td>\n",
       "      <td></td>\n",
       "      <td></td>\n",
       "      <td></td>\n",
       "      <td></td>\n",
       "      <td></td>\n",
       "    </tr>\n",
       "    <tr>\n",
       "      <th>9</th>\n",
       "      <td></td>\n",
       "      <td></td>\n",
       "      <td>Total 1</td>\n",
       "      <td>899.00 0.00</td>\n",
       "      <td>761.86</td>\n",
       "      <td>137.14</td>\n",
       "      <td>899.0</td>\n",
       "    </tr>\n",
       "    <tr>\n",
       "      <th>10</th>\n",
       "      <td></td>\n",
       "      <td></td>\n",
       "      <td></td>\n",
       "      <td>Gr</td>\n",
       "      <td>and Total</td>\n",
       "      <td>₹</td>\n",
       "      <td>899.</td>\n",
       "    </tr>\n",
       "  </tbody>\n",
       "</table>\n",
       "</div>"
      ],
      "text/plain": [
       "                        0                      1                          2  \\\n",
       "0                 Product                  Title                        Qty   \n",
       "1                                                                         A   \n",
       "2               Backpacks         Mi Business Ca               sual 21 L  1   \n",
       "3   FSN: BKPFH7K8EGGUC6ZZ         Trolley Laptop                   Backpack   \n",
       "4       HSN/SAC: 4202aaaa  Warranty: 6 months li   mited warranty. Warranty   \n",
       "5                           only covers manufact  uring defects and doesn't   \n",
       "6                          cover any ewar & tear        or customer induced   \n",
       "7                                         damage                              \n",
       "8                                 IGST: 18.000 %                              \n",
       "9                                                                   Total 1   \n",
       "10                                                                            \n",
       "\n",
       "                   3          4       5      6  \n",
       "0   Gross Discount ₹    Taxable  IGST ₹  Total  \n",
       "1            mount ₹    Value ₹                 \n",
       "2        899.00 0.00     761.86  137.14  899.0  \n",
       "3                                               \n",
       "4                                               \n",
       "5                                               \n",
       "6                                               \n",
       "7                                               \n",
       "8                                               \n",
       "9        899.00 0.00     761.86  137.14  899.0  \n",
       "10                Gr  and Total       ₹   899.  "
      ]
     },
     "execution_count": 80,
     "metadata": {},
     "output_type": "execute_result"
    }
   ],
   "source": [
    "df = pd.DataFrame(table)\n",
    "df"
   ]
  },
  {
   "cell_type": "code",
   "execution_count": null,
   "metadata": {},
   "outputs": [],
   "source": []
  },
  {
   "cell_type": "code",
   "execution_count": 88,
   "metadata": {},
   "outputs": [
    {
     "name": "stderr",
     "output_type": "stream",
     "text": [
      "'pages' argument isn't specified.Will extract only from page 1 by default.\n"
     ]
    },
    {
     "data": {
      "text/plain": [
       "[]"
      ]
     },
     "execution_count": 88,
     "metadata": {},
     "output_type": "execute_result"
    }
   ],
   "source": []
  },
  {
   "cell_type": "code",
   "execution_count": null,
   "metadata": {},
   "outputs": [],
   "source": []
  },
  {
   "cell_type": "code",
   "execution_count": null,
   "metadata": {},
   "outputs": [],
   "source": []
  },
  {
   "cell_type": "code",
   "execution_count": null,
   "metadata": {},
   "outputs": [],
   "source": []
  }
 ],
 "metadata": {
  "kernelspec": {
   "display_name": "Python 3",
   "language": "python",
   "name": "python3"
  },
  "language_info": {
   "codemirror_mode": {
    "name": "ipython",
    "version": 3
   },
   "file_extension": ".py",
   "mimetype": "text/x-python",
   "name": "python",
   "nbconvert_exporter": "python",
   "pygments_lexer": "ipython3",
   "version": "3.8.3"
  }
 },
 "nbformat": 4,
 "nbformat_minor": 4
}
